{
  "nbformat": 4,
  "nbformat_minor": 0,
  "metadata": {
    "colab": {
      "provenance": []
    },
    "kernelspec": {
      "name": "python3",
      "display_name": "Python 3"
    },
    "language_info": {
      "name": "python"
    }
  },
  "cells": [
    {
      "cell_type": "code",
      "execution_count": null,
      "metadata": {
        "colab": {
          "base_uri": "https://localhost:8080/"
        },
        "id": "g9cckUCu-25d",
        "outputId": "b5dc03b2-072d-41fd-d154-11c0a8fc9337"
      },
      "outputs": [
        {
          "output_type": "stream",
          "name": "stdout",
          "text": [
            "Ejercicio 1\n",
            "Ingrese el año:2021\n",
            "El año no es bisiesto\n"
          ]
        }
      ],
      "source": [
        "print(\"Ejercicio 1\")\n",
        "anio= int(input(\"Ingrese el año:\"))\n",
        "if (anio % 400 == 0) or (anio % 4 == 0) and (anio % 100 != 0):\n",
        "  print(\"El año es bisiesto\")\n",
        "\n",
        "else:\n",
        "    print(\"El año no es bisiesto\")"
      ]
    },
    {
      "cell_type": "code",
      "source": [
        "switcher={1: \"Enero\", 2:\"Febrero\", 3:\"Marzo\", 4:\"Abril\", 5:\"Mayo\", 6:\"Junio\", 7:\"Julio\", 8:\"Agosto\", 9:\"Septiembre\", 10:\"Octubre\", 11:\"Noviembre\", 12:\"Diciembre\"}\n",
        "argument= int(input(\"Ingrese un número:\"))\n",
        "nombredemes= switcher.get(argument, \"Mes invalido\")\n",
        "print(nombredemes)"
      ],
      "metadata": {
        "colab": {
          "base_uri": "https://localhost:8080/"
        },
        "id": "JgJYOc8pBieD",
        "outputId": "12af76b2-d47f-4600-8a8d-0c146ca39928"
      },
      "execution_count": null,
      "outputs": [
        {
          "output_type": "stream",
          "name": "stdout",
          "text": [
            "Ingrese un número:13\n",
            "Mes invalido\n"
          ]
        }
      ]
    },
    {
      "cell_type": "code",
      "source": [
        "print(\"Digite un número\")\n",
        "numero= int(input(\"numero:\"))\n",
        "\n",
        "while numero>0:\n",
        "  suma=0\n",
        "  for i in range(1,numero+1):\n",
        "    if(numero % i ==0):\n",
        "      suma=suma+i\n",
        "      print (suma)\n",
        "      numero= int(input(\"numero:\"))"
      ],
      "metadata": {
        "colab": {
          "base_uri": "https://localhost:8080/"
        },
        "id": "vceXZ3_GFcQJ",
        "outputId": "afbcb053-b213-4c1b-a7eb-66ba114b6d1e"
      },
      "execution_count": null,
      "outputs": [
        {
          "output_type": "stream",
          "name": "stdout",
          "text": [
            "Digite un número\n",
            "numero:5\n",
            "1\n",
            "numero:6\n",
            "3\n",
            "numero:100\n",
            "7\n"
          ]
        }
      ]
    }
  ]
}