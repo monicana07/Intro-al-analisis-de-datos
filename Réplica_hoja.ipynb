{
  "nbformat": 4,
  "nbformat_minor": 0,
  "metadata": {
    "colab": {
      "provenance": []
    },
    "kernelspec": {
      "name": "python3",
      "display_name": "Python 3"
    },
    "language_info": {
      "name": "python"
    }
  },
  "cells": [
    {
      "cell_type": "code",
      "execution_count": null,
      "metadata": {
        "id": "pxebpqjrKxl4"
      },
      "outputs": [],
      "source": [
        "import pandas as pd"
      ]
    },
    {
      "cell_type": "code",
      "source": [
        "mascota= pd.DataFrame(data={\"name\":[\"Minino\",\"Milo\",\"Snoppy\",\"Blanco\",\"LittlePony\"],\n",
        "                            \"Type\":[\"gato\",\"perro\",\"perro\",\"perro\",\"caballo\"]},\n",
        "                      index=[71,42,11,98,42])"
      ],
      "metadata": {
        "id": "vqTFnTeOLU8S"
      },
      "execution_count": null,
      "outputs": []
    },
    {
      "cell_type": "code",
      "source": [
        "visitas=pd.DataFrame(data={\"pet_id\":[42,31,71,42,98,42],\n",
        "                           \"fecha\":[\"2023-03-15\",\"2020-03-15\",\"2023-04-05\",\"2019-04-06\",\n",
        "                                    \"2019-04-12\",\"2024-01-12\"],\n",
        "                           \"costo\":[2000,5000,1000,5000,6000,10000]})"
      ],
      "metadata": {
        "id": "ha5gNObyL7DF"
      },
      "execution_count": null,
      "outputs": []
    },
    {
      "cell_type": "code",
      "source": [
        "print(mascota)\n",
        "print(visitas)"
      ],
      "metadata": {
        "colab": {
          "base_uri": "https://localhost:8080/"
        },
        "id": "BLV4-mVoMxwW",
        "outputId": "9905da2a-5f60-41f2-e26a-d19086f8d7ed"
      },
      "execution_count": null,
      "outputs": [
        {
          "output_type": "stream",
          "name": "stdout",
          "text": [
            "          name     Type\n",
            "71      Minino     gato\n",
            "42        Milo    perro\n",
            "11      Snoppy    perro\n",
            "98      Blanco    perro\n",
            "42  LittlePony  caballo\n",
            "   pet_id       fecha  costo\n",
            "0      42  2023-03-15   2000\n",
            "1      31  2020-03-15   5000\n",
            "2      71  2023-04-05   1000\n",
            "3      42  2019-04-06   5000\n",
            "4      98  2019-04-12   6000\n",
            "5      42  2024-01-12  10000\n"
          ]
        }
      ]
    },
    {
      "cell_type": "code",
      "source": [
        "mascota.index.rename(\"pet_id\", inplace=True)\n",
        "visitas.index.rename(\"visit_id\", inplace=True)"
      ],
      "metadata": {
        "id": "8MfD7nyQNf8h"
      },
      "execution_count": null,
      "outputs": []
    },
    {
      "cell_type": "code",
      "source": [
        "print(mascota)\n",
        "print(visitas)"
      ],
      "metadata": {
        "colab": {
          "base_uri": "https://localhost:8080/"
        },
        "id": "mDXeKvNaNypG",
        "outputId": "5fa03d45-9233-4cec-84c7-671f0a209211"
      },
      "execution_count": null,
      "outputs": [
        {
          "output_type": "stream",
          "name": "stdout",
          "text": [
            "              name     Type\n",
            "pet_id                     \n",
            "71          Minino     gato\n",
            "42            Milo    perro\n",
            "11          Snoppy    perro\n",
            "98          Blanco    perro\n",
            "42      LittlePony  caballo\n",
            "          pet_id       fecha  costo\n",
            "visit_id                           \n",
            "0             42  2023-03-15   2000\n",
            "1             31  2020-03-15   5000\n",
            "2             71  2023-04-05   1000\n",
            "3             42  2019-04-06   5000\n",
            "4             98  2019-04-12   6000\n",
            "5             42  2024-01-12  10000\n"
          ]
        }
      ]
    },
    {
      "cell_type": "code",
      "source": [
        "print(mascota.query(\"pet_id==71\"))"
      ],
      "metadata": {
        "colab": {
          "base_uri": "https://localhost:8080/"
        },
        "id": "sfUQPSJDN6KH",
        "outputId": "efe00742-4670-4d84-e941-e6905e5e5f6b"
      },
      "execution_count": null,
      "outputs": [
        {
          "output_type": "stream",
          "name": "stdout",
          "text": [
            "          name  Type\n",
            "pet_id              \n",
            "71      Minino  gato\n"
          ]
        }
      ]
    },
    {
      "cell_type": "code",
      "source": [
        "print(visitas[\"costo\"].sum())\n",
        "print(visitas[\"costo\"].min())"
      ],
      "metadata": {
        "colab": {
          "base_uri": "https://localhost:8080/"
        },
        "id": "FvjGH3p3OSTy",
        "outputId": "cbd9bb95-2120-4be0-c129-f0b4f11afaa8"
      },
      "execution_count": null,
      "outputs": [
        {
          "output_type": "stream",
          "name": "stdout",
          "text": [
            "29000\n",
            "1000\n"
          ]
        }
      ]
    },
    {
      "cell_type": "code",
      "source": [
        "print(visitas[\"costo\"].max())"
      ],
      "metadata": {
        "colab": {
          "base_uri": "https://localhost:8080/"
        },
        "id": "lPytp06DOmbU",
        "outputId": "c7c67b88-bb98-4a11-e7ba-05ef84f80c79"
      },
      "execution_count": null,
      "outputs": [
        {
          "output_type": "stream",
          "name": "stdout",
          "text": [
            "10000\n"
          ]
        }
      ]
    },
    {
      "cell_type": "code",
      "source": [
        "print(visitas[\"costo\"].count())"
      ],
      "metadata": {
        "colab": {
          "base_uri": "https://localhost:8080/"
        },
        "id": "4p4Evnvx_llk",
        "outputId": "a8ab4646-1dbb-430e-a3c0-ab981d84a20a"
      },
      "execution_count": null,
      "outputs": [
        {
          "output_type": "stream",
          "name": "stdout",
          "text": [
            "6\n"
          ]
        }
      ]
    },
    {
      "cell_type": "code",
      "source": [
        "print(visitas[\"costo\"].plot())"
      ],
      "metadata": {
        "colab": {
          "base_uri": "https://localhost:8080/",
          "height": 467
        },
        "id": "dBGymmYx_1q-",
        "outputId": "629f9420-bc6e-4ee2-9c1d-ae8fb392b4e9"
      },
      "execution_count": null,
      "outputs": [
        {
          "output_type": "stream",
          "name": "stdout",
          "text": [
            "Axes(0.125,0.11;0.775x0.77)\n"
          ]
        },
        {
          "output_type": "display_data",
          "data": {
            "text/plain": [
              "<Figure size 640x480 with 1 Axes>"
            ],
            "image/png": "[encoded data removed]"
          },
          "metadata": {}
        }
      ]
    },
    {
      "cell_type": "code",
      "source": [
        "print(visitas)"
      ],
      "metadata": {
        "colab": {
          "base_uri": "https://localhost:8080/"
        },
        "id": "YsUnGN47OvYv",
        "outputId": "d65bb194-ca49-4411-b7de-71c0a432e57c"
      },
      "execution_count": null,
      "outputs": [
        {
          "output_type": "stream",
          "name": "stdout",
          "text": [
            "          pet_id       fecha  costo\n",
            "visit_id                           \n",
            "0             42  2023-03-15   2000\n",
            "1             31  2020-03-15   5000\n",
            "2             71  2023-04-05   1000\n",
            "3             42  2019-04-06   5000\n",
            "4             98  2019-04-12   6000\n",
            "5             42  2024-01-12  10000\n"
          ]
        }
      ]
    },
    {
      "cell_type": "code",
      "source": [
        "print(visitas.sort_values(by=\"costo\", ascending=False))"
      ],
      "metadata": {
        "colab": {
          "base_uri": "https://localhost:8080/"
        },
        "id": "fZrN9MnhO1hw",
        "outputId": "5a007f1f-d0c5-4ddb-d723-306c42b48411"
      },
      "execution_count": null,
      "outputs": [
        {
          "output_type": "stream",
          "name": "stdout",
          "text": [
            "          pet_id       fecha  costo\n",
            "visit_id                           \n",
            "5             42  2024-01-12  10000\n",
            "4             98  2019-04-12   6000\n",
            "1             31  2020-03-15   5000\n",
            "3             42  2019-04-06   5000\n",
            "0             42  2023-03-15   2000\n",
            "2             71  2023-04-05   1000\n"
          ]
        }
      ]
    },
    {
      "cell_type": "code",
      "source": [
        "print(visitas.sort_values(by=\"costo\", ascending=True))"
      ],
      "metadata": {
        "colab": {
          "base_uri": "https://localhost:8080/"
        },
        "id": "swKFIgYrAl7S",
        "outputId": "ec5f7db2-eb45-48fa-d027-c9bc4642e1b8"
      },
      "execution_count": null,
      "outputs": [
        {
          "output_type": "stream",
          "name": "stdout",
          "text": [
            "          pet_id       fecha  costo\n",
            "visit_id                           \n",
            "2             71  2023-04-05   1000\n",
            "0             42  2023-03-15   2000\n",
            "1             31  2020-03-15   5000\n",
            "3             42  2019-04-06   5000\n",
            "4             98  2019-04-12   6000\n",
            "5             42  2024-01-12  10000\n"
          ]
        }
      ]
    },
    {
      "cell_type": "code",
      "source": [
        "tienda=pd.merge(mascota, visitas, how=\"cross\")\n",
        "print(tienda)"
      ],
      "metadata": {
        "colab": {
          "base_uri": "https://localhost:8080/"
        },
        "id": "pUwzDy4qPAsN",
        "outputId": "cbfdeaf0-ac1c-496f-a9e1-d170cef601b5"
      },
      "execution_count": null,
      "outputs": [
        {
          "output_type": "stream",
          "name": "stdout",
          "text": [
            "          name     Type  pet_id       fecha  costo\n",
            "0       Minino     gato      42  2023-03-15   2000\n",
            "1       Minino     gato      31  2020-03-15   5000\n",
            "2       Minino     gato      71  2023-04-05   1000\n",
            "3       Minino     gato      42  2019-04-06   5000\n",
            "4       Minino     gato      98  2019-04-12   6000\n",
            "5       Minino     gato      42  2024-01-12  10000\n",
            "6         Milo    perro      42  2023-03-15   2000\n",
            "7         Milo    perro      31  2020-03-15   5000\n",
            "8         Milo    perro      71  2023-04-05   1000\n",
            "9         Milo    perro      42  2019-04-06   5000\n",
            "10        Milo    perro      98  2019-04-12   6000\n",
            "11        Milo    perro      42  2024-01-12  10000\n",
            "12      Snoppy    perro      42  2023-03-15   2000\n",
            "13      Snoppy    perro      31  2020-03-15   5000\n",
            "14      Snoppy    perro      71  2023-04-05   1000\n",
            "15      Snoppy    perro      42  2019-04-06   5000\n",
            "16      Snoppy    perro      98  2019-04-12   6000\n",
            "17      Snoppy    perro      42  2024-01-12  10000\n",
            "18      Blanco    perro      42  2023-03-15   2000\n",
            "19      Blanco    perro      31  2020-03-15   5000\n",
            "20      Blanco    perro      71  2023-04-05   1000\n",
            "21      Blanco    perro      42  2019-04-06   5000\n",
            "22      Blanco    perro      98  2019-04-12   6000\n",
            "23      Blanco    perro      42  2024-01-12  10000\n",
            "24  LittlePony  caballo      42  2023-03-15   2000\n",
            "25  LittlePony  caballo      31  2020-03-15   5000\n",
            "26  LittlePony  caballo      71  2023-04-05   1000\n",
            "27  LittlePony  caballo      42  2019-04-06   5000\n",
            "28  LittlePony  caballo      98  2019-04-12   6000\n",
            "29  LittlePony  caballo      42  2024-01-12  10000\n"
          ]
        }
      ]
    }
  ]
}