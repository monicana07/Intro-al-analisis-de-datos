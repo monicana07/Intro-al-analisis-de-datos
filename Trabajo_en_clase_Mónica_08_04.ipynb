{
  "nbformat": 4,
  "nbformat_minor": 0,
  "metadata": {
    "colab": {
      "provenance": [],
      "authorship_tag": "ABX9TyOwdZoOnnq8HJWcM9VmAsVv",
      "include_colab_link": true
    },
    "kernelspec": {
      "name": "python3",
      "display_name": "Python 3"
    },
    "language_info": {
      "name": "python"
    }
  },
  "cells": [
    {
      "cell_type": "markdown",
      "metadata": {
        "id": "view-in-github",
        "colab_type": "text"
      },
      "source": [
        "<a href=\"https://colab.research.google.com/github/monicana07/Intro-al-analisis-de-datos/blob/main/Trabajo_en_clase_M%C3%B3nica_08_04.ipynb\" target=\"_parent\"><img src=\"https://colab.research.google.com/assets/colab-badge.svg\" alt=\"Open In Colab\"/></a>"
      ]
    },
    {
      "cell_type": "code",
      "execution_count": 25,
      "metadata": {
        "colab": {
          "base_uri": "https://localhost:8080/"
        },
        "id": "uoc1KalCabsU",
        "outputId": "bbcbdafb-8a11-40ad-e5cc-7423adbceb1b"
      },
      "outputs": [
        {
          "output_type": "stream",
          "name": "stdout",
          "text": [
            "Authenticated\n"
          ]
        }
      ],
      "source": [
        "from google.colab import auth\n",
        "auth.authenticate_user()\n",
        "print('Authenticated')\n",
        "import pandas as pd\n",
        "import matplotlib.pyplot as plt\n"
      ]
    },
    {
      "cell_type": "code",
      "source": [],
      "metadata": {
        "colab": {
          "base_uri": "https://localhost:8080/"
        },
        "id": "xPymbxowlWDw",
        "outputId": "54f1ce5a-3cfe-4496-e37b-cca93941bbc3"
      },
      "execution_count": 23,
      "outputs": [
        {
          "output_type": "stream",
          "name": "stdout",
          "text": [
            "Authenticated\n"
          ]
        }
      ]
    },
    {
      "cell_type": "code",
      "source": [
        "df=pd.read_csv(\"LOGIC.csv\")\n",
        "data=pd.DataFrame(df)\n",
        "print(data)"
      ],
      "metadata": {
        "colab": {
          "base_uri": "https://localhost:8080/"
        },
        "id": "8WienIwTchvW",
        "outputId": "f43296dd-96b5-4bd2-dd43-d77515cfef58"
      },
      "execution_count": 4,
      "outputs": [
        {
          "output_type": "stream",
          "name": "stdout",
          "text": [
            "       inf  sexo  escolaridad  edad  casado_a  experiencia  pob_mul  \\\n",
            "0        0     0           12    18         0          121        0   \n",
            "1        0     0            8    48         0         2025        1   \n",
            "2        0     1            6    49         0         2304        0   \n",
            "3        0     1            0    40         0         2025        1   \n",
            "4        0     0            6    37         1         1296        0   \n",
            "...    ...   ...          ...   ...       ...          ...      ...   \n",
            "24646    0     1           17    56         0         1936        0   \n",
            "24647    0     0            6    74         1         5329        0   \n",
            "24648    0     1           11    68         1         3844        0   \n",
            "24649    0     0           17    61         0         2401        0   \n",
            "24650    0     1           13    42         0         1156        0   \n",
            "\n",
            "       migrante_2  \n",
            "0               1  \n",
            "1               0  \n",
            "2               1  \n",
            "3               2  \n",
            "4               1  \n",
            "...           ...  \n",
            "24646           2  \n",
            "24647           0  \n",
            "24648           1  \n",
            "24649           1  \n",
            "24650           1  \n",
            "\n",
            "[24651 rows x 8 columns]\n"
          ]
        }
      ]
    },
    {
      "cell_type": "markdown",
      "source": [
        "**Un grupo de datos por dos columnas**"
      ],
      "metadata": {
        "id": "iU288CxtgaN6"
      }
    },
    {
      "cell_type": "code",
      "source": [
        "dataFiltered=data.loc[(data[\"escolaridad\"]==22)&(data[\"sexo\"]==1)]\n",
        "print(dataFiltered)"
      ],
      "metadata": {
        "colab": {
          "base_uri": "https://localhost:8080/"
        },
        "id": "fQcth9FadcM9",
        "outputId": "992d4158-fd09-43a1-fc5e-b145a99c41ee"
      },
      "execution_count": 18,
      "outputs": [
        {
          "output_type": "stream",
          "name": "stdout",
          "text": [
            "       inf  sexo  escolaridad  edad  casado_a  experiencia  pob_mul  \\\n",
            "21069    0     1           22    47         0          900        0   \n",
            "21613    0     1           22    36         1          361        0   \n",
            "22129    0     1           22    82         0         4225        0   \n",
            "22648    0     1           22    70         0         2809        0   \n",
            "23120    0     1           22    65         1         2304        0   \n",
            "23463    0     1           22    67         1         2500        0   \n",
            "23594    0     1           22    63         0         2116        0   \n",
            "23916    0     1           22    69         0         2704        0   \n",
            "23925    0     1           22    64         1         2209        0   \n",
            "24022    0     1           22    50         1         1089        0   \n",
            "24068    1     1           22    58         1         1681        0   \n",
            "24098    0     1           22    54         0         1369        0   \n",
            "24102    0     1           22    42         1          625        0   \n",
            "24262    0     1           22    39         0          484        0   \n",
            "24344    1     1           22    35         1          324        0   \n",
            "24385    0     1           22    66         1         2401        0   \n",
            "24483    0     1           22    34         1          289        0   \n",
            "24618    0     1           22    67         0         2500        0   \n",
            "\n",
            "       migrante_2  \n",
            "21069           1  \n",
            "21613           0  \n",
            "22129           0  \n",
            "22648           0  \n",
            "23120           1  \n",
            "23463           0  \n",
            "23594           0  \n",
            "23916           2  \n",
            "23925           1  \n",
            "24022           0  \n",
            "24068           1  \n",
            "24098           1  \n",
            "24102           0  \n",
            "24262           1  \n",
            "24344           1  \n",
            "24385           1  \n",
            "24483           1  \n",
            "24618           1  \n"
          ]
        }
      ]
    },
    {
      "cell_type": "markdown",
      "source": [
        "**Realizar un sort de un grupo de datos y colocar los primeros 10**"
      ],
      "metadata": {
        "id": "0rYut2uHgRdK"
      }
    },
    {
      "cell_type": "code",
      "source": [
        "print(dataFiltered.sort_values(by=[\"edad\"],ascending=False).head(10))"
      ],
      "metadata": {
        "colab": {
          "base_uri": "https://localhost:8080/"
        },
        "id": "UBTPZP97fiHU",
        "outputId": "c8dbce83-a591-4a07-8766-fe44eb8713a1"
      },
      "execution_count": 19,
      "outputs": [
        {
          "output_type": "stream",
          "name": "stdout",
          "text": [
            "       inf  sexo  escolaridad  edad  casado_a  experiencia  pob_mul  \\\n",
            "22129    0     1           22    82         0         4225        0   \n",
            "22648    0     1           22    70         0         2809        0   \n",
            "23916    0     1           22    69         0         2704        0   \n",
            "24618    0     1           22    67         0         2500        0   \n",
            "23463    0     1           22    67         1         2500        0   \n",
            "24385    0     1           22    66         1         2401        0   \n",
            "23120    0     1           22    65         1         2304        0   \n",
            "23925    0     1           22    64         1         2209        0   \n",
            "23594    0     1           22    63         0         2116        0   \n",
            "24068    1     1           22    58         1         1681        0   \n",
            "\n",
            "       migrante_2  \n",
            "22129           0  \n",
            "22648           0  \n",
            "23916           2  \n",
            "24618           1  \n",
            "23463           0  \n",
            "24385           1  \n",
            "23120           1  \n",
            "23925           1  \n",
            "23594           0  \n",
            "24068           1  \n"
          ]
        }
      ]
    },
    {
      "cell_type": "markdown",
      "source": [
        "**Realizar un promedio**"
      ],
      "metadata": {
        "id": "fysZWfh0guvh"
      }
    },
    {
      "cell_type": "code",
      "source": [
        "print(\"¿Cuál es la edad promedio de las mujeres con escolaridad 16?\")\n",
        "print(dataFiltered[\"edad\"].mean())"
      ],
      "metadata": {
        "colab": {
          "base_uri": "https://localhost:8080/"
        },
        "id": "ThqKw2vPiOuo",
        "outputId": "6210ec71-f19d-4a94-e615-c8fd57923f1b"
      },
      "execution_count": 16,
      "outputs": [
        {
          "output_type": "stream",
          "name": "stdout",
          "text": [
            "¿Cuál es la edad promedio de las mujeres con escolaridad 16?\n",
            "42.72461273666093\n"
          ]
        }
      ]
    },
    {
      "cell_type": "code",
      "source": [
        "print(data[\"escolaridad\"].max())"
      ],
      "metadata": {
        "colab": {
          "base_uri": "https://localhost:8080/"
        },
        "id": "lAw1dJtdjI9D",
        "outputId": "61859a32-e90c-40a8-fff5-7849446d60a9"
      },
      "execution_count": 17,
      "outputs": [
        {
          "output_type": "stream",
          "name": "stdout",
          "text": [
            "22\n"
          ]
        }
      ]
    },
    {
      "cell_type": "code",
      "source": [
        "print(\"¿Cuál es la edad promedio de las mujeres con escolaridad 22?\")\n",
        "print(dataFiltered[\"edad\"].mean())"
      ],
      "metadata": {
        "colab": {
          "base_uri": "https://localhost:8080/"
        },
        "id": "yOKBTbC7jSmN",
        "outputId": "9ee24d46-96dc-4f00-b550-bfb77fd22433"
      },
      "execution_count": 20,
      "outputs": [
        {
          "output_type": "stream",
          "name": "stdout",
          "text": [
            "¿Cuál es la edad promedio de las mujeres con escolaridad 22?\n",
            "56.0\n"
          ]
        }
      ]
    },
    {
      "cell_type": "code",
      "source": [
        "from google.colab import auth\n",
        "auth.authenticate_user()\n",
        "print('Authenticated')"
      ],
      "metadata": {
        "colab": {
          "base_uri": "https://localhost:8080/"
        },
        "id": "WA4hFMnLj1fP",
        "outputId": "a83a7d75-5abf-4c41-ad29-ef1979792eef"
      },
      "execution_count": 22,
      "outputs": [
        {
          "output_type": "stream",
          "name": "stdout",
          "text": [
            "Authenticated\n"
          ]
        }
      ]
    }
  ]
}