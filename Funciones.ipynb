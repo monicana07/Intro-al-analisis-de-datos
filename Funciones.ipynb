{
  "nbformat": 4,
  "nbformat_minor": 0,
  "metadata": {
    "colab": {
      "provenance": []
    },
    "kernelspec": {
      "name": "python3",
      "display_name": "Python 3"
    },
    "language_info": {
      "name": "python"
    }
  },
  "cells": [
    {
      "cell_type": "code",
      "execution_count": null,
      "metadata": {
        "id": "O0ZuqINVU_3C",
        "colab": {
          "base_uri": "https://localhost:8080/"
        },
        "outputId": "a32c5d51-b6d8-43cd-b9a5-f512519f297d"
      },
      "outputs": [
        {
          "output_type": "stream",
          "name": "stdout",
          "text": [
            "El area es:  38.48451000647496\n",
            "El perimetro:  21.991148575128552\n"
          ]
        }
      ],
      "source": [
        "import math\n",
        "\n",
        "def calcular_area_circulo(radio):\n",
        "  return math.pi * radio**2\n",
        "\n",
        "def calcular_perimetro_circulo(radio):\n",
        "  return 2*math.pi * radio\n",
        "\n",
        "radio=3.5\n",
        "area=calcular_area_circulo(radio)\n",
        "perimetro=calcular_perimetro_circulo(radio)\n",
        "print(\"El area es: \",area)\n",
        "print(\"El perimetro: \", perimetro)"
      ]
    },
    {
      "cell_type": "code",
      "source": [],
      "metadata": {
        "id": "pZwPHOFLSfWt"
      },
      "execution_count": null,
      "outputs": []
    },
    {
      "cell_type": "code",
      "source": [
        "import math\n",
        "\n",
        "def calcular_area_cuadrado(lado):\n",
        "  return lado * lado\n",
        "\n",
        "def calcular_perimetro_cuadrado(lado):\n",
        "  return 4 * lado\n",
        "\n",
        "lado= int(input(\"Digite un valor:\"))\n",
        "area=calcular_area_cuadrado(lado)\n",
        "perimetro=calcular_perimetro_cuadrado(lado)\n",
        "print(\"El area es: \",area)\n",
        "print(\"El perimetro: \", perimetro)"
      ],
      "metadata": {
        "colab": {
          "base_uri": "https://localhost:8080/"
        },
        "id": "coWLdz7jirJG",
        "outputId": "7d2fe3ff-12c0-44f8-a274-ef9812dc4a91"
      },
      "execution_count": null,
      "outputs": [
        {
          "output_type": "stream",
          "name": "stdout",
          "text": [
            "Digite un valor:456\n",
            "El area es:  207936\n",
            "El perimetro:  1824\n"
          ]
        }
      ]
    },
    {
      "cell_type": "code",
      "source": [
        "import math\n",
        "D= int(input(\"Diagonal mayor:\"))\n",
        "d=int(input(\"Diagnal menor:\"))\n",
        "\n",
        "def calcular_area_rombo(lado):\n",
        "  return (D*d / 2)\n",
        "\n",
        "def calcular_perimetro_rombo(lado):\n",
        "  return 4"
      ],
      "metadata": {
        "id": "fe9yOSrd9pM3"
      },
      "execution_count": null,
      "outputs": []
    }
  ]
}