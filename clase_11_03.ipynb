{
  "nbformat": 4,
  "nbformat_minor": 0,
  "metadata": {
    "colab": {
      "provenance": []
    },
    "kernelspec": {
      "name": "python3",
      "display_name": "Python 3"
    },
    "language_info": {
      "name": "python"
    }
  },
  "cells": [
    {
      "cell_type": "code",
      "execution_count": null,
      "metadata": {
        "colab": {
          "base_uri": "https://localhost:8080/"
        },
        "id": "2gQwnu81B8hI",
        "outputId": "753d82e8-1e94-48e3-946a-78f9e712103b"
      },
      "outputs": [
        {
          "output_type": "stream",
          "name": "stdout",
          "text": [
            "       ID      Country  Year  \\\n",
            "0       4  Afghanistan  2010   \n",
            "1       4  Afghanistan  2018   \n",
            "2       4  Afghanistan  2018   \n",
            "3       4  Afghanistan  2018   \n",
            "4       8      Albania  2005   \n",
            "...   ...          ...   ...   \n",
            "3558  716     Zimbabwe  2008   \n",
            "3559  716     Zimbabwe  2008   \n",
            "3560  716     Zimbabwe  2008   \n",
            "3561  716     Zimbabwe  2010   \n",
            "3562  716     Zimbabwe  2012   \n",
            "\n",
            "                                                 Series  Value Footnotes  \\\n",
            "0                Intentional homicide rates per 100,000    3.4       NaN   \n",
            "1                Intentional homicide rates per 100,000    6.7       NaN   \n",
            "2     Percentage of male and female intentional homi...   12.2       NaN   \n",
            "3     Percentage of male and female intentional homi...    0.8       NaN   \n",
            "4                Intentional homicide rates per 100,000    5.0       NaN   \n",
            "...                                                 ...    ...       ...   \n",
            "3558                Assault rate per 100,000 population  414.0       NaN   \n",
            "3559  Kidnapping at the national level, rate per 100...    1.8       NaN   \n",
            "3560  Theft at the national level, rate per 100,000 ...  738.8       NaN   \n",
            "3561             Intentional homicide rates per 100,000    5.6       NaN   \n",
            "3562             Intentional homicide rates per 100,000    7.5       NaN   \n",
            "\n",
            "                                                 Source  \n",
            "0     United Nations Office on Drugs and Crime (UNOD...  \n",
            "1     United Nations Office on Drugs and Crime (UNOD...  \n",
            "2     United Nations Office on Drugs and Crime (UNOD...  \n",
            "3     United Nations Office on Drugs and Crime (UNOD...  \n",
            "4     United Nations Office on Drugs and Crime (UNOD...  \n",
            "...                                                 ...  \n",
            "3558  United Nations Office on Drugs and Crime (UNOD...  \n",
            "3559  United Nations Office on Drugs and Crime (UNOD...  \n",
            "3560  United Nations Office on Drugs and Crime (UNOD...  \n",
            "3561  United Nations Office on Drugs and Crime (UNOD...  \n",
            "3562  United Nations Office on Drugs and Crime (UNOD...  \n",
            "\n",
            "[3563 rows x 7 columns]\n"
          ]
        }
      ],
      "source": [
        "import pandas as pd\n",
        "import matplotlib.pyplot as plt\n",
        "\n",
        "df=pd.read_csv(\"CSVInvestigation.csv\")\n",
        "data=pd.DataFrame(df)\n",
        "print(data)"
      ]
    }
  ]
}