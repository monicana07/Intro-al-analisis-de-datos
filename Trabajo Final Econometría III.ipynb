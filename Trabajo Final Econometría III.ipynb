{
 "cells": [
  {
   "cell_type": "markdown",
   "metadata": {},
   "source": [
    "# Trabajo Final Econometría III"
   ]
  },
  {
   "cell_type": "markdown",
   "metadata": {},
   "source": [
    "Base de datos Original = http://sistemas.inec.cr/pad5/index.php/catalog/306/get-microdata"
   ]
  },
  {
   "cell_type": "code",
   "execution_count": 1,
   "metadata": {
    "colab": {
     "base_uri": "https://localhost:8080/",
     "height": 52
    },
    "id": "YfNqqAC065zv",
    "outputId": "7cede8f8-0f68-4a7b-96d1-f3d22f83c801"
   },
   "outputs": [
    {
     "data": {
      "application/javascript": [
       "\n",
       "            setTimeout(function() {\n",
       "                var nbb_cell_id = 1;\n",
       "                var nbb_unformatted_code = \"import warnings\\n\\nwarnings.filterwarnings(\\\"ignore\\\")\\n\\nimport pandas as pd\\nimport numpy as np\\n\\nimport matplotlib.pyplot as plt\\nimport seaborn as sns\\n\\nfrom sklearn.model_selection import train_test_split\\n\\nimport statsmodels.stats.api as sms\\nfrom statsmodels.stats.outliers_influence import variance_inflation_factor\\nimport statsmodels.api as sm\\nfrom statsmodels.tools.tools import add_constant\\n\\n# To get diferent metric scores\\nfrom sklearn import metrics\\nfrom sklearn.metrics import accuracy_score, roc_curve, confusion_matrix, roc_auc_score\\n\\n%load_ext nb_black\\n\\nfrom sklearn.metrics import (\\n    f1_score,\\n    accuracy_score,\\n    recall_score,\\n    precision_score,\\n    confusion_matrix,\\n    roc_auc_score,\\n    precision_recall_curve,\\n)\\nfrom statsmodels.stats import contingency_tables\\nfrom scipy.stats import chi2\";\n",
       "                var nbb_formatted_code = \"import warnings\\n\\nwarnings.filterwarnings(\\\"ignore\\\")\\n\\nimport pandas as pd\\nimport numpy as np\\n\\nimport matplotlib.pyplot as plt\\nimport seaborn as sns\\n\\nfrom sklearn.model_selection import train_test_split\\n\\nimport statsmodels.stats.api as sms\\nfrom statsmodels.stats.outliers_influence import variance_inflation_factor\\nimport statsmodels.api as sm\\nfrom statsmodels.tools.tools import add_constant\\n\\n# To get diferent metric scores\\nfrom sklearn import metrics\\nfrom sklearn.metrics import accuracy_score, roc_curve, confusion_matrix, roc_auc_score\\n\\n%load_ext nb_black\\n\\nfrom sklearn.metrics import (\\n    f1_score,\\n    accuracy_score,\\n    recall_score,\\n    precision_score,\\n    confusion_matrix,\\n    roc_auc_score,\\n    precision_recall_curve,\\n)\\nfrom statsmodels.stats import contingency_tables\\nfrom scipy.stats import chi2\";\n",
       "                var nbb_cells = Jupyter.notebook.get_cells();\n",
       "                for (var i = 0; i < nbb_cells.length; ++i) {\n",
       "                    if (nbb_cells[i].input_prompt_number == nbb_cell_id) {\n",
       "                        if (nbb_cells[i].get_text() == nbb_unformatted_code) {\n",
       "                             nbb_cells[i].set_text(nbb_formatted_code);\n",
       "                        }\n",
       "                        break;\n",
       "                    }\n",
       "                }\n",
       "            }, 500);\n",
       "            "
      ],
      "text/plain": [
       "<IPython.core.display.Javascript object>"
      ]
     },
     "metadata": {},
     "output_type": "display_data"
    }
   ],
   "source": [
    "import warnings\n",
    "\n",
    "warnings.filterwarnings(\"ignore\")\n",
    "\n",
    "import pandas as pd\n",
    "import numpy as np\n",
    "\n",
    "import matplotlib.pyplot as plt\n",
    "import seaborn as sns\n",
    "\n",
    "from sklearn.model_selection import train_test_split\n",
    "\n",
    "import statsmodels.stats.api as sms\n",
    "from statsmodels.stats.outliers_influence import variance_inflation_factor\n",
    "import statsmodels.api as sm\n",
    "from statsmodels.tools.tools import add_constant\n",
    "\n",
    "# To get diferent metric scores\n",
    "from sklearn import metrics\n",
    "from sklearn.metrics import accuracy_score, roc_curve, confusion_matrix, roc_auc_score\n",
    "\n",
    "%load_ext nb_black\n",
    "\n",
    "from sklearn.metrics import (\n",
    "    f1_score,\n",
    "    accuracy_score,\n",
    "    recall_score,\n",
    "    precision_score,\n",
    "    confusion_matrix,\n",
    "    roc_auc_score,\n",
    "    precision_recall_curve,\n",
    ")\n",
    "from statsmodels.stats import contingency_tables\n",
    "from scipy.stats import chi2"
   ]
  },
  {
   "cell_type": "code",
   "execution_count": 2,
   "metadata": {},
   "outputs": [
    {
     "data": {
      "application/javascript": [
       "\n",
       "            setTimeout(function() {\n",
       "                var nbb_cell_id = 2;\n",
       "                var nbb_unformatted_code = \"def model_performance_classification_statsmodels(\\n    model, predictors, target, threshold=0.5\\n):\\n    \\\"\\\"\\\"\\n    Function to compute different metrics to check classification model performance\\n\\n    model: classifier\\n    predictors: independent variables\\n    target: dependent variable\\n    threshold: threshold for classifying the observation as class 1\\n    \\\"\\\"\\\"\\n\\n    # checking which probabilities are greater than threshold\\n    pred_temp = model.predict(predictors) > threshold\\n    # rounding off the above values to get classes\\n    pred = np.round(pred_temp)\\n\\n    acc = accuracy_score(target, pred)  # to compute Accuracy\\n    recall = recall_score(target, pred)  # to compute Recall\\n    precision = precision_score(target, pred)  # to compute Precision\\n    f1 = f1_score(target, pred)  # to compute F1-score\\n\\n    # creating a dataframe of metrics\\n    df_perf = pd.DataFrame(\\n        {\\n            \\\"Accuracy\\\": acc,\\n            \\\"Recall\\\": recall,\\n            \\\"Precision\\\": precision,\\n            \\\"F1\\\": f1,\\n        },\\n        index=[0],\\n    )\\n\\n    return df_perf\";\n",
       "                var nbb_formatted_code = \"def model_performance_classification_statsmodels(\\n    model, predictors, target, threshold=0.5\\n):\\n    \\\"\\\"\\\"\\n    Function to compute different metrics to check classification model performance\\n\\n    model: classifier\\n    predictors: independent variables\\n    target: dependent variable\\n    threshold: threshold for classifying the observation as class 1\\n    \\\"\\\"\\\"\\n\\n    # checking which probabilities are greater than threshold\\n    pred_temp = model.predict(predictors) > threshold\\n    # rounding off the above values to get classes\\n    pred = np.round(pred_temp)\\n\\n    acc = accuracy_score(target, pred)  # to compute Accuracy\\n    recall = recall_score(target, pred)  # to compute Recall\\n    precision = precision_score(target, pred)  # to compute Precision\\n    f1 = f1_score(target, pred)  # to compute F1-score\\n\\n    # creating a dataframe of metrics\\n    df_perf = pd.DataFrame(\\n        {\\n            \\\"Accuracy\\\": acc,\\n            \\\"Recall\\\": recall,\\n            \\\"Precision\\\": precision,\\n            \\\"F1\\\": f1,\\n        },\\n        index=[0],\\n    )\\n\\n    return df_perf\";\n",
       "                var nbb_cells = Jupyter.notebook.get_cells();\n",
       "                for (var i = 0; i < nbb_cells.length; ++i) {\n",
       "                    if (nbb_cells[i].input_prompt_number == nbb_cell_id) {\n",
       "                        if (nbb_cells[i].get_text() == nbb_unformatted_code) {\n",
       "                             nbb_cells[i].set_text(nbb_formatted_code);\n",
       "                        }\n",
       "                        break;\n",
       "                    }\n",
       "                }\n",
       "            }, 500);\n",
       "            "
      ],
      "text/plain": [
       "<IPython.core.display.Javascript object>"
      ]
     },
     "metadata": {},
     "output_type": "display_data"
    }
   ],
   "source": [
    "def model_performance_classification_statsmodels(\n",
    "    model, predictors, target, threshold=0.5\n",
    "):\n",
    "    \"\"\"\n",
    "    Function to compute different metrics to check classification model performance\n",
    "\n",
    "    model: classifier\n",
    "    predictors: independent variables\n",
    "    target: dependent variable\n",
    "    threshold: threshold for classifying the observation as class 1\n",
    "    \"\"\"\n",
    "\n",
    "    # checking which probabilities are greater than threshold\n",
    "    pred_temp = model.predict(predictors) > threshold\n",
    "    # rounding off the above values to get classes\n",
    "    pred = np.round(pred_temp)\n",
    "\n",
    "    acc = accuracy_score(target, pred)  # to compute Accuracy\n",
    "    recall = recall_score(target, pred)  # to compute Recall\n",
    "    precision = precision_score(target, pred)  # to compute Precision\n",
    "    f1 = f1_score(target, pred)  # to compute F1-score\n",
    "\n",
    "    # creating a dataframe of metrics\n",
    "    df_perf = pd.DataFrame(\n",
    "        {\n",
    "            \"Accuracy\": acc,\n",
    "            \"Recall\": recall,\n",
    "            \"Precision\": precision,\n",
    "            \"F1\": f1,\n",
    "        },\n",
    "        index=[0],\n",
    "    )\n",
    "\n",
    "    return df_perf"
   ]
  },
  {
   "cell_type": "code",
   "execution_count": 3,
   "metadata": {},
   "outputs": [
    {
     "data": {
      "application/javascript": [
       "\n",
       "            setTimeout(function() {\n",
       "                var nbb_cell_id = 3;\n",
       "                var nbb_unformatted_code = \"def confusion_matrix_statsmodels(model, predictors, target, threshold=0.5):\\n    \\\"\\\"\\\"\\n    To plot the confusion_matrix with percentages\\n\\n    model: classifier\\n    predictors: independent variables\\n    target: dependent variable\\n    threshold: threshold for classifying the observation as class 1\\n    \\\"\\\"\\\"\\n    y_pred = model.predict(predictors) > threshold\\n    cm = confusion_matrix(target, y_pred)\\n    labels = np.asarray(\\n        [\\n            [\\\"{0:0.0f}\\\".format(item) + \\\"\\\\n{0:.2%}\\\".format(item / cm.flatten().sum())]\\n            for item in cm.flatten()\\n        ]\\n    ).reshape(2, 2)\\n\\n    plt.figure(figsize=(6, 4))\\n    sns.heatmap(cm, annot=labels, fmt=\\\"\\\")\\n    plt.ylabel(\\\"Verdaderos\\\")\\n    plt.xlabel(\\\"Predicciones\\\")\";\n",
       "                var nbb_formatted_code = \"def confusion_matrix_statsmodels(model, predictors, target, threshold=0.5):\\n    \\\"\\\"\\\"\\n    To plot the confusion_matrix with percentages\\n\\n    model: classifier\\n    predictors: independent variables\\n    target: dependent variable\\n    threshold: threshold for classifying the observation as class 1\\n    \\\"\\\"\\\"\\n    y_pred = model.predict(predictors) > threshold\\n    cm = confusion_matrix(target, y_pred)\\n    labels = np.asarray(\\n        [\\n            [\\\"{0:0.0f}\\\".format(item) + \\\"\\\\n{0:.2%}\\\".format(item / cm.flatten().sum())]\\n            for item in cm.flatten()\\n        ]\\n    ).reshape(2, 2)\\n\\n    plt.figure(figsize=(6, 4))\\n    sns.heatmap(cm, annot=labels, fmt=\\\"\\\")\\n    plt.ylabel(\\\"Verdaderos\\\")\\n    plt.xlabel(\\\"Predicciones\\\")\";\n",
       "                var nbb_cells = Jupyter.notebook.get_cells();\n",
       "                for (var i = 0; i < nbb_cells.length; ++i) {\n",
       "                    if (nbb_cells[i].input_prompt_number == nbb_cell_id) {\n",
       "                        if (nbb_cells[i].get_text() == nbb_unformatted_code) {\n",
       "                             nbb_cells[i].set_text(nbb_formatted_code);\n",
       "                        }\n",
       "                        break;\n",
       "                    }\n",
       "                }\n",
       "            }, 500);\n",
       "            "
      ],
      "text/plain": [
       "<IPython.core.display.Javascript object>"
      ]
     },
     "metadata": {},
     "output_type": "display_data"
    }
   ],
   "source": [
    "def confusion_matrix_statsmodels(model, predictors, target, threshold=0.5):\n",
    "    \"\"\"\n",
    "    To plot the confusion_matrix with percentages\n",
    "\n",
    "    model: classifier\n",
    "    predictors: independent variables\n",
    "    target: dependent variable\n",
    "    threshold: threshold for classifying the observation as class 1\n",
    "    \"\"\"\n",
    "    y_pred = model.predict(predictors) > threshold\n",
    "    cm = confusion_matrix(target, y_pred)\n",
    "    labels = np.asarray(\n",
    "        [\n",
    "            [\"{0:0.0f}\".format(item) + \"\\n{0:.2%}\".format(item / cm.flatten().sum())]\n",
    "            for item in cm.flatten()\n",
    "        ]\n",
    "    ).reshape(2, 2)\n",
    "\n",
    "    plt.figure(figsize=(6, 4))\n",
    "    sns.heatmap(cm, annot=labels, fmt=\"\")\n",
    "    plt.ylabel(\"Verdaderos\")\n",
    "    plt.xlabel(\"Predicciones\")"
   ]
  },
  {
   "cell_type": "markdown",
   "metadata": {
    "id": "4KukADSN65zw"
   },
   "source": [
    "### Cargamos los datos"
   ]
  },
  {
   "cell_type": "code",
   "execution_count": 4,
   "metadata": {
    "colab": {
     "base_uri": "https://localhost:8080/",
     "height": 17
    },
    "id": "R6swlAUZ65zw",
    "outputId": "7c2d5700-5e1a-4214-8eac-dc264798efd6"
   },
   "outputs": [
    {
     "data": {
      "application/javascript": [
       "\n",
       "            setTimeout(function() {\n",
       "                var nbb_cell_id = 4;\n",
       "                var nbb_unformatted_code = \"data = pd.read_spss(\\\"I Trimestre 2023 (3).sav\\\")\";\n",
       "                var nbb_formatted_code = \"data = pd.read_spss(\\\"I Trimestre 2023 (3).sav\\\")\";\n",
       "                var nbb_cells = Jupyter.notebook.get_cells();\n",
       "                for (var i = 0; i < nbb_cells.length; ++i) {\n",
       "                    if (nbb_cells[i].input_prompt_number == nbb_cell_id) {\n",
       "                        if (nbb_cells[i].get_text() == nbb_unformatted_code) {\n",
       "                             nbb_cells[i].set_text(nbb_formatted_code);\n",
       "                        }\n",
       "                        break;\n",
       "                    }\n",
       "                }\n",
       "            }, 500);\n",
       "            "
      ],
      "text/plain": [
       "<IPython.core.display.Javascript object>"
      ]
     },
     "metadata": {},
     "output_type": "display_data"
    }
   ],
   "source": [
    "data = pd.read_spss(\"I Trimestre 2023 (3).sav\")"
   ]
  },
  {
   "cell_type": "code",
   "execution_count": 63,
   "metadata": {},
   "outputs": [
    {
     "data": {
      "application/javascript": [
       "\n",
       "            setTimeout(function() {\n",
       "                var nbb_cell_id = 63;\n",
       "                var nbb_unformatted_code = \"data = data[\\n    [\\n        \\\"Sexo\\\",\\n        \\\"Edad\\\",\\n        \\\"Seguro\\\",\\n        \\\"Regimen_pension\\\",\\n        \\\"Plan_voluntario\\\",\\n        \\\"Idioma\\\",\\n        \\\"Trabajo\\\",\\n        \\\"Zona\\\",\\n        \\\"Nivel_educativo\\\",\\n        \\\"Condicion_actividad\\\",\\n        \\\"Grupo_horas_efectivas\\\",\\n        \\\"Condicion_aseguramiento\\\",\\n        \\\"Formalidad_informalidad\\\",\\n        \\\"Rango_ingreso_bruto_total_trabaj\\\",\\n        \\\"Grupo_edad\\\",\\n        \\\"Tipo_seguro\\\",\\n    ]\\n]\";\n",
       "                var nbb_formatted_code = \"data = data[\\n    [\\n        \\\"Sexo\\\",\\n        \\\"Edad\\\",\\n        \\\"Seguro\\\",\\n        \\\"Regimen_pension\\\",\\n        \\\"Plan_voluntario\\\",\\n        \\\"Idioma\\\",\\n        \\\"Trabajo\\\",\\n        \\\"Zona\\\",\\n        \\\"Nivel_educativo\\\",\\n        \\\"Condicion_actividad\\\",\\n        \\\"Grupo_horas_efectivas\\\",\\n        \\\"Condicion_aseguramiento\\\",\\n        \\\"Formalidad_informalidad\\\",\\n        \\\"Rango_ingreso_bruto_total_trabaj\\\",\\n        \\\"Grupo_edad\\\",\\n        \\\"Tipo_seguro\\\",\\n    ]\\n]\";\n",
       "                var nbb_cells = Jupyter.notebook.get_cells();\n",
       "                for (var i = 0; i < nbb_cells.length; ++i) {\n",
       "                    if (nbb_cells[i].input_prompt_number == nbb_cell_id) {\n",
       "                        if (nbb_cells[i].get_text() == nbb_unformatted_code) {\n",
       "                             nbb_cells[i].set_text(nbb_formatted_code);\n",
       "                        }\n",
       "                        break;\n",
       "                    }\n",
       "                }\n",
       "            }, 500);\n",
       "            "
      ],
      "text/plain": [
       "<IPython.core.display.Javascript object>"
      ]
     },
     "metadata": {},
     "output_type": "display_data"
    }
   ],
   "source": [
    "data = data[\n",
    "    [\n",
    "        \"Sexo\",\n",
    "        \"Edad\",\n",
    "        \"Seguro\",\n",
    "        \"Regimen_pension\",\n",
    "        \"Plan_voluntario\",\n",
    "        \"Idioma\",\n",
    "        \"Trabajo\",\n",
    "        \"Zona\",\n",
    "        \"Nivel_educativo\",\n",
    "        \"Condicion_actividad\",\n",
    "        \"Grupo_horas_efectivas\",\n",
    "        \"Condicion_aseguramiento\",\n",
    "        \"Formalidad_informalidad\",\n",
    "        \"Rango_ingreso_bruto_total_trabaj\",\n",
    "        \"Grupo_edad\",\n",
    "        \"Tipo_seguro\",\n",
    "    ]\n",
    "]"
   ]
  },
  {
   "cell_type": "markdown",
   "metadata": {},
   "source": [
    "### Vemos las 5 primeras filas del dataframe"
   ]
  },
  {
   "cell_type": "code",
   "execution_count": 64,
   "metadata": {
    "colab": {
     "base_uri": "https://localhost:8080/",
     "height": 206
    },
    "id": "WIBta1RX65zx",
    "outputId": "82fc3a0a-8ea5-4001-9048-f717efa347fe"
   },
   "outputs": [
    {
     "data": {
      "text/html": [
       "<div>\n",
       "<style scoped>\n",
       "    .dataframe tbody tr th:only-of-type {\n",
       "        vertical-align: middle;\n",
       "    }\n",
       "\n",
       "    .dataframe tbody tr th {\n",
       "        vertical-align: top;\n",
       "    }\n",
       "\n",
       "    .dataframe thead th {\n",
       "        text-align: right;\n",
       "    }\n",
       "</style>\n",
       "<table border=\"1\" class=\"dataframe\">\n",
       "  <thead>\n",
       "    <tr style=\"text-align: right;\">\n",
       "      <th></th>\n",
       "      <th>Sexo</th>\n",
       "      <th>Edad</th>\n",
       "      <th>Seguro</th>\n",
       "      <th>Regimen_pension</th>\n",
       "      <th>Plan_voluntario</th>\n",
       "      <th>Idioma</th>\n",
       "      <th>Trabajo</th>\n",
       "      <th>Zona</th>\n",
       "      <th>Nivel_educativo</th>\n",
       "      <th>Condicion_actividad</th>\n",
       "      <th>Grupo_horas_efectivas</th>\n",
       "      <th>Condicion_aseguramiento</th>\n",
       "      <th>Formalidad_informalidad</th>\n",
       "      <th>Rango_ingreso_bruto_total_trabaj</th>\n",
       "      <th>Grupo_edad</th>\n",
       "      <th>Tipo_seguro</th>\n",
       "    </tr>\n",
       "  </thead>\n",
       "  <tbody>\n",
       "    <tr>\n",
       "      <th>1</th>\n",
       "      <td>0.0</td>\n",
       "      <td>55.0</td>\n",
       "      <td>Sí</td>\n",
       "      <td>Régimen de IVM de la CCSS?</td>\n",
       "      <td>0.0</td>\n",
       "      <td>0.0</td>\n",
       "      <td>1.0</td>\n",
       "      <td>1.0</td>\n",
       "      <td>6.0</td>\n",
       "      <td>1.0</td>\n",
       "      <td>3.0</td>\n",
       "      <td>1.0</td>\n",
       "      <td>0.0</td>\n",
       "      <td>1.0</td>\n",
       "      <td>3.0</td>\n",
       "      <td>...cuenta propia o voluntario?</td>\n",
       "    </tr>\n",
       "    <tr>\n",
       "      <th>3</th>\n",
       "      <td>1.0</td>\n",
       "      <td>36.0</td>\n",
       "      <td>Sí</td>\n",
       "      <td>Régimen de IVM de la CCSS?</td>\n",
       "      <td>0.0</td>\n",
       "      <td>0.0</td>\n",
       "      <td>0.0</td>\n",
       "      <td>1.0</td>\n",
       "      <td>6.0</td>\n",
       "      <td>1.0</td>\n",
       "      <td>2.0</td>\n",
       "      <td>1.0</td>\n",
       "      <td>1.0</td>\n",
       "      <td>3.0</td>\n",
       "      <td>2.0</td>\n",
       "      <td>...asalariado?</td>\n",
       "    </tr>\n",
       "    <tr>\n",
       "      <th>5</th>\n",
       "      <td>1.0</td>\n",
       "      <td>60.0</td>\n",
       "      <td>Sí</td>\n",
       "      <td>Régimen de IVM de la CCSS?</td>\n",
       "      <td>0.0</td>\n",
       "      <td>0.0</td>\n",
       "      <td>1.0</td>\n",
       "      <td>1.0</td>\n",
       "      <td>6.0</td>\n",
       "      <td>1.0</td>\n",
       "      <td>2.0</td>\n",
       "      <td>1.0</td>\n",
       "      <td>1.0</td>\n",
       "      <td>4.0</td>\n",
       "      <td>4.0</td>\n",
       "      <td>...asalariado?</td>\n",
       "    </tr>\n",
       "    <tr>\n",
       "      <th>6</th>\n",
       "      <td>1.0</td>\n",
       "      <td>44.0</td>\n",
       "      <td>Sí</td>\n",
       "      <td>Régimen de IVM de la CCSS?</td>\n",
       "      <td>0.0</td>\n",
       "      <td>0.0</td>\n",
       "      <td>1.0</td>\n",
       "      <td>1.0</td>\n",
       "      <td>3.0</td>\n",
       "      <td>1.0</td>\n",
       "      <td>2.0</td>\n",
       "      <td>1.0</td>\n",
       "      <td>1.0</td>\n",
       "      <td>2.0</td>\n",
       "      <td>2.0</td>\n",
       "      <td>...asalariado?</td>\n",
       "    </tr>\n",
       "    <tr>\n",
       "      <th>7</th>\n",
       "      <td>1.0</td>\n",
       "      <td>58.0</td>\n",
       "      <td>Sí</td>\n",
       "      <td>Régimen de IVM de la CCSS?</td>\n",
       "      <td>0.0</td>\n",
       "      <td>0.0</td>\n",
       "      <td>1.0</td>\n",
       "      <td>1.0</td>\n",
       "      <td>2.0</td>\n",
       "      <td>1.0</td>\n",
       "      <td>3.0</td>\n",
       "      <td>1.0</td>\n",
       "      <td>0.0</td>\n",
       "      <td>1.0</td>\n",
       "      <td>3.0</td>\n",
       "      <td>...cuenta propia o voluntario?</td>\n",
       "    </tr>\n",
       "  </tbody>\n",
       "</table>\n",
       "</div>"
      ],
      "text/plain": [
       "   Sexo  Edad Seguro             Regimen_pension  Plan_voluntario  Idioma  \\\n",
       "1   0.0  55.0     Sí  Régimen de IVM de la CCSS?              0.0     0.0   \n",
       "3   1.0  36.0     Sí  Régimen de IVM de la CCSS?              0.0     0.0   \n",
       "5   1.0  60.0     Sí  Régimen de IVM de la CCSS?              0.0     0.0   \n",
       "6   1.0  44.0     Sí  Régimen de IVM de la CCSS?              0.0     0.0   \n",
       "7   1.0  58.0     Sí  Régimen de IVM de la CCSS?              0.0     0.0   \n",
       "\n",
       "   Trabajo  Zona  Nivel_educativo  Condicion_actividad  Grupo_horas_efectivas  \\\n",
       "1      1.0   1.0              6.0                  1.0                    3.0   \n",
       "3      0.0   1.0              6.0                  1.0                    2.0   \n",
       "5      1.0   1.0              6.0                  1.0                    2.0   \n",
       "6      1.0   1.0              3.0                  1.0                    2.0   \n",
       "7      1.0   1.0              2.0                  1.0                    3.0   \n",
       "\n",
       "   Condicion_aseguramiento  Formalidad_informalidad  \\\n",
       "1                      1.0                      0.0   \n",
       "3                      1.0                      1.0   \n",
       "5                      1.0                      1.0   \n",
       "6                      1.0                      1.0   \n",
       "7                      1.0                      0.0   \n",
       "\n",
       "   Rango_ingreso_bruto_total_trabaj  Grupo_edad  \\\n",
       "1                               1.0         3.0   \n",
       "3                               3.0         2.0   \n",
       "5                               4.0         4.0   \n",
       "6                               2.0         2.0   \n",
       "7                               1.0         3.0   \n",
       "\n",
       "                      Tipo_seguro  \n",
       "1  ...cuenta propia o voluntario?  \n",
       "3                  ...asalariado?  \n",
       "5                  ...asalariado?  \n",
       "6                  ...asalariado?  \n",
       "7  ...cuenta propia o voluntario?  "
      ]
     },
     "execution_count": 64,
     "metadata": {},
     "output_type": "execute_result"
    },
    {
     "data": {
      "application/javascript": [
       "\n",
       "            setTimeout(function() {\n",
       "                var nbb_cell_id = 64;\n",
       "                var nbb_unformatted_code = \"data.head()\";\n",
       "                var nbb_formatted_code = \"data.head()\";\n",
       "                var nbb_cells = Jupyter.notebook.get_cells();\n",
       "                for (var i = 0; i < nbb_cells.length; ++i) {\n",
       "                    if (nbb_cells[i].input_prompt_number == nbb_cell_id) {\n",
       "                        if (nbb_cells[i].get_text() == nbb_unformatted_code) {\n",
       "                             nbb_cells[i].set_text(nbb_formatted_code);\n",
       "                        }\n",
       "                        break;\n",
       "                    }\n",
       "                }\n",
       "            }, 500);\n",
       "            "
      ],
      "text/plain": [
       "<IPython.core.display.Javascript object>"
      ]
     },
     "metadata": {},
     "output_type": "display_data"
    }
   ],
   "source": [
    "data.head()"
   ]
  },
  {
   "cell_type": "code",
   "execution_count": 65,
   "metadata": {
    "colab": {
     "base_uri": "https://localhost:8080/",
     "height": 206
    },
    "id": "8K3K8vUl65zx",
    "outputId": "16502a99-3154-494e-e61d-c7ef0a3d3535"
   },
   "outputs": [
    {
     "data": {
      "text/html": [
       "<div>\n",
       "<style scoped>\n",
       "    .dataframe tbody tr th:only-of-type {\n",
       "        vertical-align: middle;\n",
       "    }\n",
       "\n",
       "    .dataframe tbody tr th {\n",
       "        vertical-align: top;\n",
       "    }\n",
       "\n",
       "    .dataframe thead th {\n",
       "        text-align: right;\n",
       "    }\n",
       "</style>\n",
       "<table border=\"1\" class=\"dataframe\">\n",
       "  <thead>\n",
       "    <tr style=\"text-align: right;\">\n",
       "      <th></th>\n",
       "      <th>Sexo</th>\n",
       "      <th>Edad</th>\n",
       "      <th>Seguro</th>\n",
       "      <th>Regimen_pension</th>\n",
       "      <th>Plan_voluntario</th>\n",
       "      <th>Idioma</th>\n",
       "      <th>Trabajo</th>\n",
       "      <th>Zona</th>\n",
       "      <th>Nivel_educativo</th>\n",
       "      <th>Condicion_actividad</th>\n",
       "      <th>Grupo_horas_efectivas</th>\n",
       "      <th>Condicion_aseguramiento</th>\n",
       "      <th>Formalidad_informalidad</th>\n",
       "      <th>Rango_ingreso_bruto_total_trabaj</th>\n",
       "      <th>Grupo_edad</th>\n",
       "      <th>Tipo_seguro</th>\n",
       "    </tr>\n",
       "  </thead>\n",
       "  <tbody>\n",
       "    <tr>\n",
       "      <th>22875</th>\n",
       "      <td>1.0</td>\n",
       "      <td>24.0</td>\n",
       "      <td>Sí</td>\n",
       "      <td>Régimen de IVM de la CCSS?</td>\n",
       "      <td>0.0</td>\n",
       "      <td>0.0</td>\n",
       "      <td>1.0</td>\n",
       "      <td>0.0</td>\n",
       "      <td>4.0</td>\n",
       "      <td>1.0</td>\n",
       "      <td>2.0</td>\n",
       "      <td>1.0</td>\n",
       "      <td>1.0</td>\n",
       "      <td>2.0</td>\n",
       "      <td>0.0</td>\n",
       "      <td>...asalariado?</td>\n",
       "    </tr>\n",
       "    <tr>\n",
       "      <th>22876</th>\n",
       "      <td>1.0</td>\n",
       "      <td>25.0</td>\n",
       "      <td>Sí</td>\n",
       "      <td>Régimen de IVM de la CCSS?</td>\n",
       "      <td>0.0</td>\n",
       "      <td>0.0</td>\n",
       "      <td>1.0</td>\n",
       "      <td>0.0</td>\n",
       "      <td>3.0</td>\n",
       "      <td>1.0</td>\n",
       "      <td>2.0</td>\n",
       "      <td>1.0</td>\n",
       "      <td>1.0</td>\n",
       "      <td>2.0</td>\n",
       "      <td>1.0</td>\n",
       "      <td>...asalariado?</td>\n",
       "    </tr>\n",
       "    <tr>\n",
       "      <th>22880</th>\n",
       "      <td>1.0</td>\n",
       "      <td>21.0</td>\n",
       "      <td>Sí</td>\n",
       "      <td>Régimen de IVM de la CCSS?</td>\n",
       "      <td>0.0</td>\n",
       "      <td>0.0</td>\n",
       "      <td>1.0</td>\n",
       "      <td>0.0</td>\n",
       "      <td>4.0</td>\n",
       "      <td>1.0</td>\n",
       "      <td>3.0</td>\n",
       "      <td>1.0</td>\n",
       "      <td>1.0</td>\n",
       "      <td>2.0</td>\n",
       "      <td>0.0</td>\n",
       "      <td>...asalariado?</td>\n",
       "    </tr>\n",
       "    <tr>\n",
       "      <th>22883</th>\n",
       "      <td>1.0</td>\n",
       "      <td>25.0</td>\n",
       "      <td>Sí</td>\n",
       "      <td>Régimen de IVM de la CCSS?</td>\n",
       "      <td>0.0</td>\n",
       "      <td>0.0</td>\n",
       "      <td>1.0</td>\n",
       "      <td>0.0</td>\n",
       "      <td>1.0</td>\n",
       "      <td>1.0</td>\n",
       "      <td>3.0</td>\n",
       "      <td>1.0</td>\n",
       "      <td>1.0</td>\n",
       "      <td>1.0</td>\n",
       "      <td>1.0</td>\n",
       "      <td>...asalariado?</td>\n",
       "    </tr>\n",
       "    <tr>\n",
       "      <th>22889</th>\n",
       "      <td>1.0</td>\n",
       "      <td>45.0</td>\n",
       "      <td>Sí</td>\n",
       "      <td>Régimen de IVM de la CCSS?</td>\n",
       "      <td>0.0</td>\n",
       "      <td>0.0</td>\n",
       "      <td>1.0</td>\n",
       "      <td>0.0</td>\n",
       "      <td>1.0</td>\n",
       "      <td>1.0</td>\n",
       "      <td>2.0</td>\n",
       "      <td>1.0</td>\n",
       "      <td>1.0</td>\n",
       "      <td>2.0</td>\n",
       "      <td>3.0</td>\n",
       "      <td>...asalariado?</td>\n",
       "    </tr>\n",
       "  </tbody>\n",
       "</table>\n",
       "</div>"
      ],
      "text/plain": [
       "       Sexo  Edad Seguro             Regimen_pension  Plan_voluntario  Idioma  \\\n",
       "22875   1.0  24.0     Sí  Régimen de IVM de la CCSS?              0.0     0.0   \n",
       "22876   1.0  25.0     Sí  Régimen de IVM de la CCSS?              0.0     0.0   \n",
       "22880   1.0  21.0     Sí  Régimen de IVM de la CCSS?              0.0     0.0   \n",
       "22883   1.0  25.0     Sí  Régimen de IVM de la CCSS?              0.0     0.0   \n",
       "22889   1.0  45.0     Sí  Régimen de IVM de la CCSS?              0.0     0.0   \n",
       "\n",
       "       Trabajo  Zona  Nivel_educativo  Condicion_actividad  \\\n",
       "22875      1.0   0.0              4.0                  1.0   \n",
       "22876      1.0   0.0              3.0                  1.0   \n",
       "22880      1.0   0.0              4.0                  1.0   \n",
       "22883      1.0   0.0              1.0                  1.0   \n",
       "22889      1.0   0.0              1.0                  1.0   \n",
       "\n",
       "       Grupo_horas_efectivas  Condicion_aseguramiento  \\\n",
       "22875                    2.0                      1.0   \n",
       "22876                    2.0                      1.0   \n",
       "22880                    3.0                      1.0   \n",
       "22883                    3.0                      1.0   \n",
       "22889                    2.0                      1.0   \n",
       "\n",
       "       Formalidad_informalidad  Rango_ingreso_bruto_total_trabaj  Grupo_edad  \\\n",
       "22875                      1.0                               2.0         0.0   \n",
       "22876                      1.0                               2.0         1.0   \n",
       "22880                      1.0                               2.0         0.0   \n",
       "22883                      1.0                               1.0         1.0   \n",
       "22889                      1.0                               2.0         3.0   \n",
       "\n",
       "          Tipo_seguro  \n",
       "22875  ...asalariado?  \n",
       "22876  ...asalariado?  \n",
       "22880  ...asalariado?  \n",
       "22883  ...asalariado?  \n",
       "22889  ...asalariado?  "
      ]
     },
     "execution_count": 65,
     "metadata": {},
     "output_type": "execute_result"
    },
    {
     "data": {
      "application/javascript": [
       "\n",
       "            setTimeout(function() {\n",
       "                var nbb_cell_id = 65;\n",
       "                var nbb_unformatted_code = \"data.tail()\";\n",
       "                var nbb_formatted_code = \"data.tail()\";\n",
       "                var nbb_cells = Jupyter.notebook.get_cells();\n",
       "                for (var i = 0; i < nbb_cells.length; ++i) {\n",
       "                    if (nbb_cells[i].input_prompt_number == nbb_cell_id) {\n",
       "                        if (nbb_cells[i].get_text() == nbb_unformatted_code) {\n",
       "                             nbb_cells[i].set_text(nbb_formatted_code);\n",
       "                        }\n",
       "                        break;\n",
       "                    }\n",
       "                }\n",
       "            }, 500);\n",
       "            "
      ],
      "text/plain": [
       "<IPython.core.display.Javascript object>"
      ]
     },
     "metadata": {},
     "output_type": "display_data"
    }
   ],
   "source": [
    "data.tail()"
   ]
  },
  {
   "cell_type": "markdown",
   "metadata": {
    "id": "gpk_q9CP65zy"
   },
   "source": [
    "### Dimensiones del dataframe"
   ]
  },
  {
   "cell_type": "code",
   "execution_count": 66,
   "metadata": {
    "colab": {
     "base_uri": "https://localhost:8080/",
     "height": 35
    },
    "id": "E8S9gt5k65zy",
    "outputId": "79b478c9-f48c-4328-bcf7-9018d61960a5"
   },
   "outputs": [
    {
     "data": {
      "text/plain": [
       "(5353, 16)"
      ]
     },
     "execution_count": 66,
     "metadata": {},
     "output_type": "execute_result"
    },
    {
     "data": {
      "application/javascript": [
       "\n",
       "            setTimeout(function() {\n",
       "                var nbb_cell_id = 66;\n",
       "                var nbb_unformatted_code = \"data.shape\";\n",
       "                var nbb_formatted_code = \"data.shape\";\n",
       "                var nbb_cells = Jupyter.notebook.get_cells();\n",
       "                for (var i = 0; i < nbb_cells.length; ++i) {\n",
       "                    if (nbb_cells[i].input_prompt_number == nbb_cell_id) {\n",
       "                        if (nbb_cells[i].get_text() == nbb_unformatted_code) {\n",
       "                             nbb_cells[i].set_text(nbb_formatted_code);\n",
       "                        }\n",
       "                        break;\n",
       "                    }\n",
       "                }\n",
       "            }, 500);\n",
       "            "
      ],
      "text/plain": [
       "<IPython.core.display.Javascript object>"
      ]
     },
     "metadata": {},
     "output_type": "display_data"
    }
   ],
   "source": [
    "data.shape"
   ]
  },
  {
   "cell_type": "code",
   "execution_count": 67,
   "metadata": {},
   "outputs": [
    {
     "data": {
      "text/plain": [
       "Index(['Sexo', 'Edad', 'Seguro', 'Regimen_pension', 'Plan_voluntario',\n",
       "       'Idioma', 'Trabajo', 'Zona', 'Nivel_educativo', 'Condicion_actividad',\n",
       "       'Grupo_horas_efectivas', 'Condicion_aseguramiento',\n",
       "       'Formalidad_informalidad', 'Rango_ingreso_bruto_total_trabaj',\n",
       "       'Grupo_edad', 'Tipo_seguro'],\n",
       "      dtype='object')"
      ]
     },
     "execution_count": 67,
     "metadata": {},
     "output_type": "execute_result"
    },
    {
     "data": {
      "application/javascript": [
       "\n",
       "            setTimeout(function() {\n",
       "                var nbb_cell_id = 67;\n",
       "                var nbb_unformatted_code = \"data.columns\";\n",
       "                var nbb_formatted_code = \"data.columns\";\n",
       "                var nbb_cells = Jupyter.notebook.get_cells();\n",
       "                for (var i = 0; i < nbb_cells.length; ++i) {\n",
       "                    if (nbb_cells[i].input_prompt_number == nbb_cell_id) {\n",
       "                        if (nbb_cells[i].get_text() == nbb_unformatted_code) {\n",
       "                             nbb_cells[i].set_text(nbb_formatted_code);\n",
       "                        }\n",
       "                        break;\n",
       "                    }\n",
       "                }\n",
       "            }, 500);\n",
       "            "
      ],
      "text/plain": [
       "<IPython.core.display.Javascript object>"
      ]
     },
     "metadata": {},
     "output_type": "display_data"
    }
   ],
   "source": [
    "data.columns"
   ]
  },
  {
   "cell_type": "markdown",
   "metadata": {
    "id": "knN4qlj865zz"
   },
   "source": [
    "### Vemos si hay valores perdidos "
   ]
  },
  {
   "cell_type": "code",
   "execution_count": 68,
   "metadata": {
    "colab": {
     "base_uri": "https://localhost:8080/",
     "height": 35
    },
    "id": "5wZPelGq65zz",
    "outputId": "12793415-f583-404f-e089-02e6bfda7246"
   },
   "outputs": [
    {
     "data": {
      "text/plain": [
       "False"
      ]
     },
     "execution_count": 68,
     "metadata": {},
     "output_type": "execute_result"
    },
    {
     "data": {
      "application/javascript": [
       "\n",
       "            setTimeout(function() {\n",
       "                var nbb_cell_id = 68;\n",
       "                var nbb_unformatted_code = \"data.isnull().values.any()\";\n",
       "                var nbb_formatted_code = \"data.isnull().values.any()\";\n",
       "                var nbb_cells = Jupyter.notebook.get_cells();\n",
       "                for (var i = 0; i < nbb_cells.length; ++i) {\n",
       "                    if (nbb_cells[i].input_prompt_number == nbb_cell_id) {\n",
       "                        if (nbb_cells[i].get_text() == nbb_unformatted_code) {\n",
       "                             nbb_cells[i].set_text(nbb_formatted_code);\n",
       "                        }\n",
       "                        break;\n",
       "                    }\n",
       "                }\n",
       "            }, 500);\n",
       "            "
      ],
      "text/plain": [
       "<IPython.core.display.Javascript object>"
      ]
     },
     "metadata": {},
     "output_type": "display_data"
    }
   ],
   "source": [
    "data.isnull().values.any()"
   ]
  },
  {
   "cell_type": "code",
   "execution_count": 69,
   "metadata": {},
   "outputs": [
    {
     "name": "stdout",
     "output_type": "stream",
     "text": [
      "<class 'pandas.core.frame.DataFrame'>\n",
      "Index: 5353 entries, 1 to 22889\n",
      "Data columns (total 16 columns):\n",
      " #   Column                            Non-Null Count  Dtype   \n",
      "---  ------                            --------------  -----   \n",
      " 0   Sexo                              5353 non-null   float64 \n",
      " 1   Edad                              5353 non-null   float64 \n",
      " 2   Seguro                            5353 non-null   category\n",
      " 3   Regimen_pension                   5353 non-null   category\n",
      " 4   Plan_voluntario                   5353 non-null   float64 \n",
      " 5   Idioma                            5353 non-null   float64 \n",
      " 6   Trabajo                           5353 non-null   float64 \n",
      " 7   Zona                              5353 non-null   float64 \n",
      " 8   Nivel_educativo                   5353 non-null   float64 \n",
      " 9   Condicion_actividad               5353 non-null   float64 \n",
      " 10  Grupo_horas_efectivas             5353 non-null   float64 \n",
      " 11  Condicion_aseguramiento           5353 non-null   float64 \n",
      " 12  Formalidad_informalidad           5353 non-null   float64 \n",
      " 13  Rango_ingreso_bruto_total_trabaj  5353 non-null   float64 \n",
      " 14  Grupo_edad                        5353 non-null   float64 \n",
      " 15  Tipo_seguro                       5353 non-null   category\n",
      "dtypes: category(3), float64(13)\n",
      "memory usage: 601.8 KB\n"
     ]
    },
    {
     "data": {
      "application/javascript": [
       "\n",
       "            setTimeout(function() {\n",
       "                var nbb_cell_id = 69;\n",
       "                var nbb_unformatted_code = \"data.info()\";\n",
       "                var nbb_formatted_code = \"data.info()\";\n",
       "                var nbb_cells = Jupyter.notebook.get_cells();\n",
       "                for (var i = 0; i < nbb_cells.length; ++i) {\n",
       "                    if (nbb_cells[i].input_prompt_number == nbb_cell_id) {\n",
       "                        if (nbb_cells[i].get_text() == nbb_unformatted_code) {\n",
       "                             nbb_cells[i].set_text(nbb_formatted_code);\n",
       "                        }\n",
       "                        break;\n",
       "                    }\n",
       "                }\n",
       "            }, 500);\n",
       "            "
      ],
      "text/plain": [
       "<IPython.core.display.Javascript object>"
      ]
     },
     "metadata": {},
     "output_type": "display_data"
    }
   ],
   "source": [
    "data.info()"
   ]
  },
  {
   "cell_type": "markdown",
   "metadata": {},
   "source": [
    "## Todas las variables son palabras por lo cúal debemos pasarlo a binarias o calificaciones numericas "
   ]
  },
  {
   "cell_type": "markdown",
   "metadata": {},
   "source": [
    "## Tipo seguro "
   ]
  },
  {
   "cell_type": "code",
   "execution_count": 70,
   "metadata": {},
   "outputs": [
    {
     "data": {
      "text/plain": [
       "['...cuenta propia o voluntario?', '...asalariado?', '...mediante convenio como asociaciones, sindi...]\n",
       "Categories (9, object): ['...asalariado?', '...cuenta propia o voluntario?', '...familiar de asegurado directo o pensionado?', '...mediante convenio como asociaciones, sindi..., ..., '..asegurado por el Estado, incluye familiar d..., '..otras formas como seguro de estudiante, de ..., '..pensionado del régimen no contributivo mont..., '..seguro privado o del extranjero?']"
      ]
     },
     "execution_count": 70,
     "metadata": {},
     "output_type": "execute_result"
    },
    {
     "data": {
      "application/javascript": [
       "\n",
       "            setTimeout(function() {\n",
       "                var nbb_cell_id = 70;\n",
       "                var nbb_unformatted_code = \"data[\\\"Tipo_seguro\\\"].unique()\";\n",
       "                var nbb_formatted_code = \"data[\\\"Tipo_seguro\\\"].unique()\";\n",
       "                var nbb_cells = Jupyter.notebook.get_cells();\n",
       "                for (var i = 0; i < nbb_cells.length; ++i) {\n",
       "                    if (nbb_cells[i].input_prompt_number == nbb_cell_id) {\n",
       "                        if (nbb_cells[i].get_text() == nbb_unformatted_code) {\n",
       "                             nbb_cells[i].set_text(nbb_formatted_code);\n",
       "                        }\n",
       "                        break;\n",
       "                    }\n",
       "                }\n",
       "            }, 500);\n",
       "            "
      ],
      "text/plain": [
       "<IPython.core.display.Javascript object>"
      ]
     },
     "metadata": {},
     "output_type": "display_data"
    }
   ],
   "source": [
    "data[\"Tipo_seguro\"].unique()"
   ]
  },
  {
   "cell_type": "markdown",
   "metadata": {},
   "source": [
    "## Opciones seguro"
   ]
  },
  {
   "cell_type": "code",
   "execution_count": 71,
   "metadata": {},
   "outputs": [
    {
     "data": {
      "text/plain": [
       "['Sí']\n",
       "Categories (2, object): ['No', 'Sí']"
      ]
     },
     "execution_count": 71,
     "metadata": {},
     "output_type": "execute_result"
    },
    {
     "data": {
      "application/javascript": [
       "\n",
       "            setTimeout(function() {\n",
       "                var nbb_cell_id = 71;\n",
       "                var nbb_unformatted_code = \"data[\\\"Seguro\\\"].unique()\";\n",
       "                var nbb_formatted_code = \"data[\\\"Seguro\\\"].unique()\";\n",
       "                var nbb_cells = Jupyter.notebook.get_cells();\n",
       "                for (var i = 0; i < nbb_cells.length; ++i) {\n",
       "                    if (nbb_cells[i].input_prompt_number == nbb_cell_id) {\n",
       "                        if (nbb_cells[i].get_text() == nbb_unformatted_code) {\n",
       "                             nbb_cells[i].set_text(nbb_formatted_code);\n",
       "                        }\n",
       "                        break;\n",
       "                    }\n",
       "                }\n",
       "            }, 500);\n",
       "            "
      ],
      "text/plain": [
       "<IPython.core.display.Javascript object>"
      ]
     },
     "metadata": {},
     "output_type": "display_data"
    }
   ],
   "source": [
    "data[\"Seguro\"].unique()"
   ]
  },
  {
   "cell_type": "code",
   "execution_count": 72,
   "metadata": {},
   "outputs": [
    {
     "data": {
      "application/javascript": [
       "\n",
       "            setTimeout(function() {\n",
       "                var nbb_cell_id = 72;\n",
       "                var nbb_unformatted_code = \"data[\\\"Trabajo\\\"] = data[\\\"Trabajo\\\"].replace(\\\"S\\u00ed\\\", 1)\\ndata[\\\"Trabajo\\\"] = data[\\\"Trabajo\\\"].replace([\\\"No\\\"], 0)\\ndata[\\\"Trabajo\\\"] = data[\\\"Trabajo\\\"].astype(float)\";\n",
       "                var nbb_formatted_code = \"data[\\\"Trabajo\\\"] = data[\\\"Trabajo\\\"].replace(\\\"S\\u00ed\\\", 1)\\ndata[\\\"Trabajo\\\"] = data[\\\"Trabajo\\\"].replace([\\\"No\\\"], 0)\\ndata[\\\"Trabajo\\\"] = data[\\\"Trabajo\\\"].astype(float)\";\n",
       "                var nbb_cells = Jupyter.notebook.get_cells();\n",
       "                for (var i = 0; i < nbb_cells.length; ++i) {\n",
       "                    if (nbb_cells[i].input_prompt_number == nbb_cell_id) {\n",
       "                        if (nbb_cells[i].get_text() == nbb_unformatted_code) {\n",
       "                             nbb_cells[i].set_text(nbb_formatted_code);\n",
       "                        }\n",
       "                        break;\n",
       "                    }\n",
       "                }\n",
       "            }, 500);\n",
       "            "
      ],
      "text/plain": [
       "<IPython.core.display.Javascript object>"
      ]
     },
     "metadata": {},
     "output_type": "display_data"
    }
   ],
   "source": [
    "data[\"Trabajo\"] = data[\"Trabajo\"].replace(\"Sí\", 1)\n",
    "data[\"Trabajo\"] = data[\"Trabajo\"].replace([\"No\"], 0)\n",
    "data[\"Trabajo\"] = data[\"Trabajo\"].astype(float)"
   ]
  },
  {
   "cell_type": "code",
   "execution_count": 73,
   "metadata": {},
   "outputs": [
    {
     "data": {
      "text/plain": [
       "array([1., 0.])"
      ]
     },
     "execution_count": 73,
     "metadata": {},
     "output_type": "execute_result"
    },
    {
     "data": {
      "application/javascript": [
       "\n",
       "            setTimeout(function() {\n",
       "                var nbb_cell_id = 73;\n",
       "                var nbb_unformatted_code = \"data[\\\"Trabajo\\\"].unique()\";\n",
       "                var nbb_formatted_code = \"data[\\\"Trabajo\\\"].unique()\";\n",
       "                var nbb_cells = Jupyter.notebook.get_cells();\n",
       "                for (var i = 0; i < nbb_cells.length; ++i) {\n",
       "                    if (nbb_cells[i].input_prompt_number == nbb_cell_id) {\n",
       "                        if (nbb_cells[i].get_text() == nbb_unformatted_code) {\n",
       "                             nbb_cells[i].set_text(nbb_formatted_code);\n",
       "                        }\n",
       "                        break;\n",
       "                    }\n",
       "                }\n",
       "            }, 500);\n",
       "            "
      ],
      "text/plain": [
       "<IPython.core.display.Javascript object>"
      ]
     },
     "metadata": {},
     "output_type": "display_data"
    }
   ],
   "source": [
    "data[\"Trabajo\"].unique()"
   ]
  },
  {
   "cell_type": "markdown",
   "metadata": {},
   "source": [
    "## Lo que hice fue que Sí = 1 y No = 0, además de volver a la columna numerica"
   ]
  },
  {
   "cell_type": "markdown",
   "metadata": {},
   "source": [
    "## Opciones que tiene Sexo"
   ]
  },
  {
   "cell_type": "code",
   "execution_count": 74,
   "metadata": {},
   "outputs": [
    {
     "data": {
      "text/plain": [
       "array([0., 1.])"
      ]
     },
     "execution_count": 74,
     "metadata": {},
     "output_type": "execute_result"
    },
    {
     "data": {
      "application/javascript": [
       "\n",
       "            setTimeout(function() {\n",
       "                var nbb_cell_id = 74;\n",
       "                var nbb_unformatted_code = \"data[\\\"Sexo\\\"].unique()\";\n",
       "                var nbb_formatted_code = \"data[\\\"Sexo\\\"].unique()\";\n",
       "                var nbb_cells = Jupyter.notebook.get_cells();\n",
       "                for (var i = 0; i < nbb_cells.length; ++i) {\n",
       "                    if (nbb_cells[i].input_prompt_number == nbb_cell_id) {\n",
       "                        if (nbb_cells[i].get_text() == nbb_unformatted_code) {\n",
       "                             nbb_cells[i].set_text(nbb_formatted_code);\n",
       "                        }\n",
       "                        break;\n",
       "                    }\n",
       "                }\n",
       "            }, 500);\n",
       "            "
      ],
      "text/plain": [
       "<IPython.core.display.Javascript object>"
      ]
     },
     "metadata": {},
     "output_type": "display_data"
    }
   ],
   "source": [
    "data[\"Sexo\"].unique()"
   ]
  },
  {
   "cell_type": "code",
   "execution_count": 75,
   "metadata": {},
   "outputs": [
    {
     "data": {
      "application/javascript": [
       "\n",
       "            setTimeout(function() {\n",
       "                var nbb_cell_id = 75;\n",
       "                var nbb_unformatted_code = \"data[\\\"Sexo\\\"] = data[\\\"Sexo\\\"].replace(\\\"Mujer\\\", 0)\\ndata[\\\"Sexo\\\"] = data[\\\"Sexo\\\"].replace(\\\"Hombre\\\", 1)\\ndata[\\\"Sexo\\\"] = data[\\\"Sexo\\\"].astype(float)\";\n",
       "                var nbb_formatted_code = \"data[\\\"Sexo\\\"] = data[\\\"Sexo\\\"].replace(\\\"Mujer\\\", 0)\\ndata[\\\"Sexo\\\"] = data[\\\"Sexo\\\"].replace(\\\"Hombre\\\", 1)\\ndata[\\\"Sexo\\\"] = data[\\\"Sexo\\\"].astype(float)\";\n",
       "                var nbb_cells = Jupyter.notebook.get_cells();\n",
       "                for (var i = 0; i < nbb_cells.length; ++i) {\n",
       "                    if (nbb_cells[i].input_prompt_number == nbb_cell_id) {\n",
       "                        if (nbb_cells[i].get_text() == nbb_unformatted_code) {\n",
       "                             nbb_cells[i].set_text(nbb_formatted_code);\n",
       "                        }\n",
       "                        break;\n",
       "                    }\n",
       "                }\n",
       "            }, 500);\n",
       "            "
      ],
      "text/plain": [
       "<IPython.core.display.Javascript object>"
      ]
     },
     "metadata": {},
     "output_type": "display_data"
    }
   ],
   "source": [
    "data[\"Sexo\"] = data[\"Sexo\"].replace(\"Mujer\", 0)\n",
    "data[\"Sexo\"] = data[\"Sexo\"].replace(\"Hombre\", 1)\n",
    "data[\"Sexo\"] = data[\"Sexo\"].astype(float)"
   ]
  },
  {
   "cell_type": "code",
   "execution_count": 76,
   "metadata": {},
   "outputs": [
    {
     "data": {
      "text/plain": [
       "array([0., 1.])"
      ]
     },
     "execution_count": 76,
     "metadata": {},
     "output_type": "execute_result"
    },
    {
     "data": {
      "application/javascript": [
       "\n",
       "            setTimeout(function() {\n",
       "                var nbb_cell_id = 76;\n",
       "                var nbb_unformatted_code = \"data[\\\"Sexo\\\"].unique()\";\n",
       "                var nbb_formatted_code = \"data[\\\"Sexo\\\"].unique()\";\n",
       "                var nbb_cells = Jupyter.notebook.get_cells();\n",
       "                for (var i = 0; i < nbb_cells.length; ++i) {\n",
       "                    if (nbb_cells[i].input_prompt_number == nbb_cell_id) {\n",
       "                        if (nbb_cells[i].get_text() == nbb_unformatted_code) {\n",
       "                             nbb_cells[i].set_text(nbb_formatted_code);\n",
       "                        }\n",
       "                        break;\n",
       "                    }\n",
       "                }\n",
       "            }, 500);\n",
       "            "
      ],
      "text/plain": [
       "<IPython.core.display.Javascript object>"
      ]
     },
     "metadata": {},
     "output_type": "display_data"
    }
   ],
   "source": [
    "data[\"Sexo\"].unique()"
   ]
  },
  {
   "cell_type": "markdown",
   "metadata": {},
   "source": [
    "## Lo que hice fue que Hombre = 1 y Mujer = 0, además de volver a la columna numerica"
   ]
  },
  {
   "cell_type": "markdown",
   "metadata": {},
   "source": [
    "## Opciones que tiene Edad"
   ]
  },
  {
   "cell_type": "code",
   "execution_count": 77,
   "metadata": {},
   "outputs": [
    {
     "data": {
      "text/plain": [
       "array([55., 36., 60., 44., 58., 61., 40., 38., 31., 22., 34., 26., 41.,\n",
       "       29., 32., 56., 35., 30., 23., 75., 47., 42., 24., 20., 28., 39.,\n",
       "       78., 52., 27., 25., 57., 53., 43., 50., 51., 19., 68., 59., 49.,\n",
       "       46., 45., 33., 48., 37., 54., 72., 64., 62., 21., 63., 65., 74.,\n",
       "       67., 76., 71., 70., 18., 69., 73., 66., 81., 77., 86., 80., 17.])"
      ]
     },
     "execution_count": 77,
     "metadata": {},
     "output_type": "execute_result"
    },
    {
     "data": {
      "application/javascript": [
       "\n",
       "            setTimeout(function() {\n",
       "                var nbb_cell_id = 77;\n",
       "                var nbb_unformatted_code = \"data[\\\"Edad\\\"].unique()\";\n",
       "                var nbb_formatted_code = \"data[\\\"Edad\\\"].unique()\";\n",
       "                var nbb_cells = Jupyter.notebook.get_cells();\n",
       "                for (var i = 0; i < nbb_cells.length; ++i) {\n",
       "                    if (nbb_cells[i].input_prompt_number == nbb_cell_id) {\n",
       "                        if (nbb_cells[i].get_text() == nbb_unformatted_code) {\n",
       "                             nbb_cells[i].set_text(nbb_formatted_code);\n",
       "                        }\n",
       "                        break;\n",
       "                    }\n",
       "                }\n",
       "            }, 500);\n",
       "            "
      ],
      "text/plain": [
       "<IPython.core.display.Javascript object>"
      ]
     },
     "metadata": {},
     "output_type": "display_data"
    }
   ],
   "source": [
    "data[\"Edad\"].unique()"
   ]
  },
  {
   "cell_type": "code",
   "execution_count": 78,
   "metadata": {},
   "outputs": [
    {
     "data": {
      "application/javascript": [
       "\n",
       "            setTimeout(function() {\n",
       "                var nbb_cell_id = 78;\n",
       "                var nbb_unformatted_code = \"data[\\\"Edad\\\"] = data[\\\"Edad\\\"].replace(\\\"Menor de un a\\u00f1o\\\", np.nan)\\ndata[\\\"Edad\\\"] = data[\\\"Edad\\\"].replace(\\\"97 a\\u00f1os y m\\u00e1s\\\", np.nan)\\ndata[\\\"Edad\\\"] = data[\\\"Edad\\\"].replace(\\\"Menor de 15 a\\u00f1os con edad ignorada\\\", np.nan)\\ndata[\\\"Edad\\\"] = data[\\\"Edad\\\"].replace(\\\"Mayor de 15 a\\u00f1os con edad ignorada\\\", np.nan)\\ndata[\\\"Edad\\\"] = data[\\\"Edad\\\"].astype(float)\";\n",
       "                var nbb_formatted_code = \"data[\\\"Edad\\\"] = data[\\\"Edad\\\"].replace(\\\"Menor de un a\\u00f1o\\\", np.nan)\\ndata[\\\"Edad\\\"] = data[\\\"Edad\\\"].replace(\\\"97 a\\u00f1os y m\\u00e1s\\\", np.nan)\\ndata[\\\"Edad\\\"] = data[\\\"Edad\\\"].replace(\\\"Menor de 15 a\\u00f1os con edad ignorada\\\", np.nan)\\ndata[\\\"Edad\\\"] = data[\\\"Edad\\\"].replace(\\\"Mayor de 15 a\\u00f1os con edad ignorada\\\", np.nan)\\ndata[\\\"Edad\\\"] = data[\\\"Edad\\\"].astype(float)\";\n",
       "                var nbb_cells = Jupyter.notebook.get_cells();\n",
       "                for (var i = 0; i < nbb_cells.length; ++i) {\n",
       "                    if (nbb_cells[i].input_prompt_number == nbb_cell_id) {\n",
       "                        if (nbb_cells[i].get_text() == nbb_unformatted_code) {\n",
       "                             nbb_cells[i].set_text(nbb_formatted_code);\n",
       "                        }\n",
       "                        break;\n",
       "                    }\n",
       "                }\n",
       "            }, 500);\n",
       "            "
      ],
      "text/plain": [
       "<IPython.core.display.Javascript object>"
      ]
     },
     "metadata": {},
     "output_type": "display_data"
    }
   ],
   "source": [
    "data[\"Edad\"] = data[\"Edad\"].replace(\"Menor de un año\", np.nan)\n",
    "data[\"Edad\"] = data[\"Edad\"].replace(\"97 años y más\", np.nan)\n",
    "data[\"Edad\"] = data[\"Edad\"].replace(\"Menor de 15 años con edad ignorada\", np.nan)\n",
    "data[\"Edad\"] = data[\"Edad\"].replace(\"Mayor de 15 años con edad ignorada\", np.nan)\n",
    "data[\"Edad\"] = data[\"Edad\"].astype(float)"
   ]
  },
  {
   "cell_type": "code",
   "execution_count": 79,
   "metadata": {},
   "outputs": [
    {
     "data": {
      "text/plain": [
       "array([55., 36., 60., 44., 58., 61., 40., 38., 31., 22., 34., 26., 41.,\n",
       "       29., 32., 56., 35., 30., 23., 75., 47., 42., 24., 20., 28., 39.,\n",
       "       78., 52., 27., 25., 57., 53., 43., 50., 51., 19., 68., 59., 49.,\n",
       "       46., 45., 33., 48., 37., 54., 72., 64., 62., 21., 63., 65., 74.,\n",
       "       67., 76., 71., 70., 18., 69., 73., 66., 81., 77., 86., 80., 17.])"
      ]
     },
     "execution_count": 79,
     "metadata": {},
     "output_type": "execute_result"
    },
    {
     "data": {
      "application/javascript": [
       "\n",
       "            setTimeout(function() {\n",
       "                var nbb_cell_id = 79;\n",
       "                var nbb_unformatted_code = \"data[\\\"Edad\\\"].unique()\";\n",
       "                var nbb_formatted_code = \"data[\\\"Edad\\\"].unique()\";\n",
       "                var nbb_cells = Jupyter.notebook.get_cells();\n",
       "                for (var i = 0; i < nbb_cells.length; ++i) {\n",
       "                    if (nbb_cells[i].input_prompt_number == nbb_cell_id) {\n",
       "                        if (nbb_cells[i].get_text() == nbb_unformatted_code) {\n",
       "                             nbb_cells[i].set_text(nbb_formatted_code);\n",
       "                        }\n",
       "                        break;\n",
       "                    }\n",
       "                }\n",
       "            }, 500);\n",
       "            "
      ],
      "text/plain": [
       "<IPython.core.display.Javascript object>"
      ]
     },
     "metadata": {},
     "output_type": "display_data"
    }
   ],
   "source": [
    "data[\"Edad\"].unique()"
   ]
  },
  {
   "cell_type": "markdown",
   "metadata": {},
   "source": [
    "## Lo que hice fue quitar las observaciones con letras"
   ]
  },
  {
   "cell_type": "markdown",
   "metadata": {},
   "source": [
    "## Opciones Nivel Educativo"
   ]
  },
  {
   "cell_type": "code",
   "execution_count": 80,
   "metadata": {},
   "outputs": [
    {
     "data": {
      "text/plain": [
       "array([6., 3., 2., 4., 1., 5., 0.])"
      ]
     },
     "execution_count": 80,
     "metadata": {},
     "output_type": "execute_result"
    },
    {
     "data": {
      "application/javascript": [
       "\n",
       "            setTimeout(function() {\n",
       "                var nbb_cell_id = 80;\n",
       "                var nbb_unformatted_code = \"data[\\\"Nivel_educativo\\\"].unique()\";\n",
       "                var nbb_formatted_code = \"data[\\\"Nivel_educativo\\\"].unique()\";\n",
       "                var nbb_cells = Jupyter.notebook.get_cells();\n",
       "                for (var i = 0; i < nbb_cells.length; ++i) {\n",
       "                    if (nbb_cells[i].input_prompt_number == nbb_cell_id) {\n",
       "                        if (nbb_cells[i].get_text() == nbb_unformatted_code) {\n",
       "                             nbb_cells[i].set_text(nbb_formatted_code);\n",
       "                        }\n",
       "                        break;\n",
       "                    }\n",
       "                }\n",
       "            }, 500);\n",
       "            "
      ],
      "text/plain": [
       "<IPython.core.display.Javascript object>"
      ]
     },
     "metadata": {},
     "output_type": "display_data"
    }
   ],
   "source": [
    "data[\"Nivel_educativo\"].unique()"
   ]
  },
  {
   "cell_type": "code",
   "execution_count": 81,
   "metadata": {},
   "outputs": [
    {
     "data": {
      "application/javascript": [
       "\n",
       "            setTimeout(function() {\n",
       "                var nbb_cell_id = 81;\n",
       "                var nbb_unformatted_code = \"data[\\\"Nivel_educativo\\\"] = data[\\\"Nivel_educativo\\\"].replace([\\\"No especificado\\\"], np.nan)\\ndata[\\\"Nivel_educativo\\\"] = data[\\\"Nivel_educativo\\\"].replace(\\\"Ninguno\\\", 0)\\ndata[\\\"Nivel_educativo\\\"] = data[\\\"Nivel_educativo\\\"].replace(\\\"Primaria incompleta\\\", 1)\\ndata[\\\"Nivel_educativo\\\"] = data[\\\"Nivel_educativo\\\"].replace(\\\"Primaria completa\\\", 2)\\ndata[\\\"Nivel_educativo\\\"] = data[\\\"Nivel_educativo\\\"].replace(\\\"Secundaria incompleta\\\", 3)\\ndata[\\\"Nivel_educativo\\\"] = data[\\\"Nivel_educativo\\\"].replace(\\\"Secundaria completa\\\", 4)\\ndata[\\\"Nivel_educativo\\\"] = data[\\\"Nivel_educativo\\\"].replace(\\\"Universitario sin t\\u00edtulo\\\", 5)\\ndata[\\\"Nivel_educativo\\\"] = data[\\\"Nivel_educativo\\\"].replace(\\\"Universitario con t\\u00edtulo\\\", 6)\\ndata[\\\"Nivel_educativo\\\"] = data[\\\"Nivel_educativo\\\"].astype(float)\";\n",
       "                var nbb_formatted_code = \"data[\\\"Nivel_educativo\\\"] = data[\\\"Nivel_educativo\\\"].replace([\\\"No especificado\\\"], np.nan)\\ndata[\\\"Nivel_educativo\\\"] = data[\\\"Nivel_educativo\\\"].replace(\\\"Ninguno\\\", 0)\\ndata[\\\"Nivel_educativo\\\"] = data[\\\"Nivel_educativo\\\"].replace(\\\"Primaria incompleta\\\", 1)\\ndata[\\\"Nivel_educativo\\\"] = data[\\\"Nivel_educativo\\\"].replace(\\\"Primaria completa\\\", 2)\\ndata[\\\"Nivel_educativo\\\"] = data[\\\"Nivel_educativo\\\"].replace(\\\"Secundaria incompleta\\\", 3)\\ndata[\\\"Nivel_educativo\\\"] = data[\\\"Nivel_educativo\\\"].replace(\\\"Secundaria completa\\\", 4)\\ndata[\\\"Nivel_educativo\\\"] = data[\\\"Nivel_educativo\\\"].replace(\\\"Universitario sin t\\u00edtulo\\\", 5)\\ndata[\\\"Nivel_educativo\\\"] = data[\\\"Nivel_educativo\\\"].replace(\\\"Universitario con t\\u00edtulo\\\", 6)\\ndata[\\\"Nivel_educativo\\\"] = data[\\\"Nivel_educativo\\\"].astype(float)\";\n",
       "                var nbb_cells = Jupyter.notebook.get_cells();\n",
       "                for (var i = 0; i < nbb_cells.length; ++i) {\n",
       "                    if (nbb_cells[i].input_prompt_number == nbb_cell_id) {\n",
       "                        if (nbb_cells[i].get_text() == nbb_unformatted_code) {\n",
       "                             nbb_cells[i].set_text(nbb_formatted_code);\n",
       "                        }\n",
       "                        break;\n",
       "                    }\n",
       "                }\n",
       "            }, 500);\n",
       "            "
      ],
      "text/plain": [
       "<IPython.core.display.Javascript object>"
      ]
     },
     "metadata": {},
     "output_type": "display_data"
    }
   ],
   "source": [
    "data[\"Nivel_educativo\"] = data[\"Nivel_educativo\"].replace([\"No especificado\"], np.nan)\n",
    "data[\"Nivel_educativo\"] = data[\"Nivel_educativo\"].replace(\"Ninguno\", 0)\n",
    "data[\"Nivel_educativo\"] = data[\"Nivel_educativo\"].replace(\"Primaria incompleta\", 1)\n",
    "data[\"Nivel_educativo\"] = data[\"Nivel_educativo\"].replace(\"Primaria completa\", 2)\n",
    "data[\"Nivel_educativo\"] = data[\"Nivel_educativo\"].replace(\"Secundaria incompleta\", 3)\n",
    "data[\"Nivel_educativo\"] = data[\"Nivel_educativo\"].replace(\"Secundaria completa\", 4)\n",
    "data[\"Nivel_educativo\"] = data[\"Nivel_educativo\"].replace(\"Universitario sin título\", 5)\n",
    "data[\"Nivel_educativo\"] = data[\"Nivel_educativo\"].replace(\"Universitario con título\", 6)\n",
    "data[\"Nivel_educativo\"] = data[\"Nivel_educativo\"].astype(float)"
   ]
  },
  {
   "cell_type": "code",
   "execution_count": 82,
   "metadata": {},
   "outputs": [
    {
     "data": {
      "text/plain": [
       "array([6., 3., 2., 4., 1., 5., 0.])"
      ]
     },
     "execution_count": 82,
     "metadata": {},
     "output_type": "execute_result"
    },
    {
     "data": {
      "application/javascript": [
       "\n",
       "            setTimeout(function() {\n",
       "                var nbb_cell_id = 82;\n",
       "                var nbb_unformatted_code = \"data[\\\"Nivel_educativo\\\"].unique()\";\n",
       "                var nbb_formatted_code = \"data[\\\"Nivel_educativo\\\"].unique()\";\n",
       "                var nbb_cells = Jupyter.notebook.get_cells();\n",
       "                for (var i = 0; i < nbb_cells.length; ++i) {\n",
       "                    if (nbb_cells[i].input_prompt_number == nbb_cell_id) {\n",
       "                        if (nbb_cells[i].get_text() == nbb_unformatted_code) {\n",
       "                             nbb_cells[i].set_text(nbb_formatted_code);\n",
       "                        }\n",
       "                        break;\n",
       "                    }\n",
       "                }\n",
       "            }, 500);\n",
       "            "
      ],
      "text/plain": [
       "<IPython.core.display.Javascript object>"
      ]
     },
     "metadata": {},
     "output_type": "display_data"
    }
   ],
   "source": [
    "data[\"Nivel_educativo\"].unique()"
   ]
  },
  {
   "cell_type": "markdown",
   "metadata": {},
   "source": [
    "## Lo que hice fue darle un numero mayor conferme el grado aumentara "
   ]
  },
  {
   "cell_type": "markdown",
   "metadata": {},
   "source": [
    "## Opciones Grupo Horas Efectivas"
   ]
  },
  {
   "cell_type": "code",
   "execution_count": 83,
   "metadata": {},
   "outputs": [
    {
     "data": {
      "text/plain": [
       "array([3., 2., 0., 1.])"
      ]
     },
     "execution_count": 83,
     "metadata": {},
     "output_type": "execute_result"
    },
    {
     "data": {
      "application/javascript": [
       "\n",
       "            setTimeout(function() {\n",
       "                var nbb_cell_id = 83;\n",
       "                var nbb_unformatted_code = \"data[\\\"Grupo_horas_efectivas\\\"].unique()\";\n",
       "                var nbb_formatted_code = \"data[\\\"Grupo_horas_efectivas\\\"].unique()\";\n",
       "                var nbb_cells = Jupyter.notebook.get_cells();\n",
       "                for (var i = 0; i < nbb_cells.length; ++i) {\n",
       "                    if (nbb_cells[i].input_prompt_number == nbb_cell_id) {\n",
       "                        if (nbb_cells[i].get_text() == nbb_unformatted_code) {\n",
       "                             nbb_cells[i].set_text(nbb_formatted_code);\n",
       "                        }\n",
       "                        break;\n",
       "                    }\n",
       "                }\n",
       "            }, 500);\n",
       "            "
      ],
      "text/plain": [
       "<IPython.core.display.Javascript object>"
      ]
     },
     "metadata": {},
     "output_type": "display_data"
    }
   ],
   "source": [
    "data[\"Grupo_horas_efectivas\"].unique()"
   ]
  },
  {
   "cell_type": "code",
   "execution_count": 84,
   "metadata": {},
   "outputs": [
    {
     "data": {
      "application/javascript": [
       "\n",
       "            setTimeout(function() {\n",
       "                var nbb_cell_id = 84;\n",
       "                var nbb_unformatted_code = \"data[\\\"Grupo_horas_efectivas\\\"] = data[\\\"Grupo_horas_efectivas\\\"].replace(\\n    [\\\"No especificado\\\"], np.nan\\n)\\ndata[\\\"Grupo_horas_efectivas\\\"] = data[\\\"Grupo_horas_efectivas\\\"].replace(\\n    \\\"Menos de 15 horas\\\", 0\\n)\\ndata[\\\"Grupo_horas_efectivas\\\"] = data[\\\"Grupo_horas_efectivas\\\"].replace(\\n    \\\"De 15 a 39 horas\\\", 1\\n)\\ndata[\\\"Grupo_horas_efectivas\\\"] = data[\\\"Grupo_horas_efectivas\\\"].replace(\\n    \\\"De 40 a 48 horas\\\", 2\\n)\\ndata[\\\"Grupo_horas_efectivas\\\"] = data[\\\"Grupo_horas_efectivas\\\"].replace(\\n    \\\"M\\u00e1s de 48 horas\\\", 3\\n)\\ndata[\\\"Grupo_horas_efectivas\\\"] = data[\\\"Grupo_horas_efectivas\\\"].astype(float)\";\n",
       "                var nbb_formatted_code = \"data[\\\"Grupo_horas_efectivas\\\"] = data[\\\"Grupo_horas_efectivas\\\"].replace(\\n    [\\\"No especificado\\\"], np.nan\\n)\\ndata[\\\"Grupo_horas_efectivas\\\"] = data[\\\"Grupo_horas_efectivas\\\"].replace(\\n    \\\"Menos de 15 horas\\\", 0\\n)\\ndata[\\\"Grupo_horas_efectivas\\\"] = data[\\\"Grupo_horas_efectivas\\\"].replace(\\n    \\\"De 15 a 39 horas\\\", 1\\n)\\ndata[\\\"Grupo_horas_efectivas\\\"] = data[\\\"Grupo_horas_efectivas\\\"].replace(\\n    \\\"De 40 a 48 horas\\\", 2\\n)\\ndata[\\\"Grupo_horas_efectivas\\\"] = data[\\\"Grupo_horas_efectivas\\\"].replace(\\n    \\\"M\\u00e1s de 48 horas\\\", 3\\n)\\ndata[\\\"Grupo_horas_efectivas\\\"] = data[\\\"Grupo_horas_efectivas\\\"].astype(float)\";\n",
       "                var nbb_cells = Jupyter.notebook.get_cells();\n",
       "                for (var i = 0; i < nbb_cells.length; ++i) {\n",
       "                    if (nbb_cells[i].input_prompt_number == nbb_cell_id) {\n",
       "                        if (nbb_cells[i].get_text() == nbb_unformatted_code) {\n",
       "                             nbb_cells[i].set_text(nbb_formatted_code);\n",
       "                        }\n",
       "                        break;\n",
       "                    }\n",
       "                }\n",
       "            }, 500);\n",
       "            "
      ],
      "text/plain": [
       "<IPython.core.display.Javascript object>"
      ]
     },
     "metadata": {},
     "output_type": "display_data"
    }
   ],
   "source": [
    "data[\"Grupo_horas_efectivas\"] = data[\"Grupo_horas_efectivas\"].replace(\n",
    "    [\"No especificado\"], np.nan\n",
    ")\n",
    "data[\"Grupo_horas_efectivas\"] = data[\"Grupo_horas_efectivas\"].replace(\n",
    "    \"Menos de 15 horas\", 0\n",
    ")\n",
    "data[\"Grupo_horas_efectivas\"] = data[\"Grupo_horas_efectivas\"].replace(\n",
    "    \"De 15 a 39 horas\", 1\n",
    ")\n",
    "data[\"Grupo_horas_efectivas\"] = data[\"Grupo_horas_efectivas\"].replace(\n",
    "    \"De 40 a 48 horas\", 2\n",
    ")\n",
    "data[\"Grupo_horas_efectivas\"] = data[\"Grupo_horas_efectivas\"].replace(\n",
    "    \"Más de 48 horas\", 3\n",
    ")\n",
    "data[\"Grupo_horas_efectivas\"] = data[\"Grupo_horas_efectivas\"].astype(float)"
   ]
  },
  {
   "cell_type": "code",
   "execution_count": 85,
   "metadata": {},
   "outputs": [
    {
     "data": {
      "text/plain": [
       "array([3., 2., 0., 1.])"
      ]
     },
     "execution_count": 85,
     "metadata": {},
     "output_type": "execute_result"
    },
    {
     "data": {
      "application/javascript": [
       "\n",
       "            setTimeout(function() {\n",
       "                var nbb_cell_id = 85;\n",
       "                var nbb_unformatted_code = \"data[\\\"Grupo_horas_efectivas\\\"].unique()\";\n",
       "                var nbb_formatted_code = \"data[\\\"Grupo_horas_efectivas\\\"].unique()\";\n",
       "                var nbb_cells = Jupyter.notebook.get_cells();\n",
       "                for (var i = 0; i < nbb_cells.length; ++i) {\n",
       "                    if (nbb_cells[i].input_prompt_number == nbb_cell_id) {\n",
       "                        if (nbb_cells[i].get_text() == nbb_unformatted_code) {\n",
       "                             nbb_cells[i].set_text(nbb_formatted_code);\n",
       "                        }\n",
       "                        break;\n",
       "                    }\n",
       "                }\n",
       "            }, 500);\n",
       "            "
      ],
      "text/plain": [
       "<IPython.core.display.Javascript object>"
      ]
     },
     "metadata": {},
     "output_type": "display_data"
    }
   ],
   "source": [
    "data[\"Grupo_horas_efectivas\"].unique()"
   ]
  },
  {
   "cell_type": "markdown",
   "metadata": {},
   "source": [
    "## Conforme más horas trabajara mayor el numero"
   ]
  },
  {
   "cell_type": "markdown",
   "metadata": {},
   "source": [
    "## Opciones Formaliad e Informalidad"
   ]
  },
  {
   "cell_type": "code",
   "execution_count": 86,
   "metadata": {},
   "outputs": [
    {
     "data": {
      "text/plain": [
       "array([0., 1.])"
      ]
     },
     "execution_count": 86,
     "metadata": {},
     "output_type": "execute_result"
    },
    {
     "data": {
      "application/javascript": [
       "\n",
       "            setTimeout(function() {\n",
       "                var nbb_cell_id = 86;\n",
       "                var nbb_unformatted_code = \"data[\\\"Formalidad_informalidad\\\"].unique()\";\n",
       "                var nbb_formatted_code = \"data[\\\"Formalidad_informalidad\\\"].unique()\";\n",
       "                var nbb_cells = Jupyter.notebook.get_cells();\n",
       "                for (var i = 0; i < nbb_cells.length; ++i) {\n",
       "                    if (nbb_cells[i].input_prompt_number == nbb_cell_id) {\n",
       "                        if (nbb_cells[i].get_text() == nbb_unformatted_code) {\n",
       "                             nbb_cells[i].set_text(nbb_formatted_code);\n",
       "                        }\n",
       "                        break;\n",
       "                    }\n",
       "                }\n",
       "            }, 500);\n",
       "            "
      ],
      "text/plain": [
       "<IPython.core.display.Javascript object>"
      ]
     },
     "metadata": {},
     "output_type": "display_data"
    }
   ],
   "source": [
    "data[\"Formalidad_informalidad\"].unique()"
   ]
  },
  {
   "cell_type": "code",
   "execution_count": 87,
   "metadata": {},
   "outputs": [
    {
     "data": {
      "application/javascript": [
       "\n",
       "            setTimeout(function() {\n",
       "                var nbb_cell_id = 87;\n",
       "                var nbb_unformatted_code = \"data[\\\"Formalidad_informalidad\\\"] = data[\\\"Formalidad_informalidad\\\"].replace(\\n    [\\\"Con empleo informal\\\"], 0\\n)\\ndata[\\\"Formalidad_informalidad\\\"] = data[\\\"Formalidad_informalidad\\\"].replace(\\n    \\\"Con empleo formal\\\", 1\\n)\\ndata[\\\"Formalidad_informalidad\\\"] = data[\\\"Formalidad_informalidad\\\"].astype(float)\";\n",
       "                var nbb_formatted_code = \"data[\\\"Formalidad_informalidad\\\"] = data[\\\"Formalidad_informalidad\\\"].replace(\\n    [\\\"Con empleo informal\\\"], 0\\n)\\ndata[\\\"Formalidad_informalidad\\\"] = data[\\\"Formalidad_informalidad\\\"].replace(\\n    \\\"Con empleo formal\\\", 1\\n)\\ndata[\\\"Formalidad_informalidad\\\"] = data[\\\"Formalidad_informalidad\\\"].astype(float)\";\n",
       "                var nbb_cells = Jupyter.notebook.get_cells();\n",
       "                for (var i = 0; i < nbb_cells.length; ++i) {\n",
       "                    if (nbb_cells[i].input_prompt_number == nbb_cell_id) {\n",
       "                        if (nbb_cells[i].get_text() == nbb_unformatted_code) {\n",
       "                             nbb_cells[i].set_text(nbb_formatted_code);\n",
       "                        }\n",
       "                        break;\n",
       "                    }\n",
       "                }\n",
       "            }, 500);\n",
       "            "
      ],
      "text/plain": [
       "<IPython.core.display.Javascript object>"
      ]
     },
     "metadata": {},
     "output_type": "display_data"
    }
   ],
   "source": [
    "data[\"Formalidad_informalidad\"] = data[\"Formalidad_informalidad\"].replace(\n",
    "    [\"Con empleo informal\"], 0\n",
    ")\n",
    "data[\"Formalidad_informalidad\"] = data[\"Formalidad_informalidad\"].replace(\n",
    "    \"Con empleo formal\", 1\n",
    ")\n",
    "data[\"Formalidad_informalidad\"] = data[\"Formalidad_informalidad\"].astype(float)"
   ]
  },
  {
   "cell_type": "code",
   "execution_count": 88,
   "metadata": {},
   "outputs": [
    {
     "data": {
      "text/plain": [
       "array([0., 1.])"
      ]
     },
     "execution_count": 88,
     "metadata": {},
     "output_type": "execute_result"
    },
    {
     "data": {
      "application/javascript": [
       "\n",
       "            setTimeout(function() {\n",
       "                var nbb_cell_id = 88;\n",
       "                var nbb_unformatted_code = \"data[\\\"Formalidad_informalidad\\\"].unique()\";\n",
       "                var nbb_formatted_code = \"data[\\\"Formalidad_informalidad\\\"].unique()\";\n",
       "                var nbb_cells = Jupyter.notebook.get_cells();\n",
       "                for (var i = 0; i < nbb_cells.length; ++i) {\n",
       "                    if (nbb_cells[i].input_prompt_number == nbb_cell_id) {\n",
       "                        if (nbb_cells[i].get_text() == nbb_unformatted_code) {\n",
       "                             nbb_cells[i].set_text(nbb_formatted_code);\n",
       "                        }\n",
       "                        break;\n",
       "                    }\n",
       "                }\n",
       "            }, 500);\n",
       "            "
      ],
      "text/plain": [
       "<IPython.core.display.Javascript object>"
      ]
     },
     "metadata": {},
     "output_type": "display_data"
    }
   ],
   "source": [
    "data[\"Formalidad_informalidad\"].unique()"
   ]
  },
  {
   "cell_type": "markdown",
   "metadata": {},
   "source": [
    "## Formal = 1 , Informal = 0 "
   ]
  },
  {
   "cell_type": "markdown",
   "metadata": {},
   "source": [
    "## Opciones Plan voluntario"
   ]
  },
  {
   "cell_type": "code",
   "execution_count": 89,
   "metadata": {},
   "outputs": [
    {
     "data": {
      "text/plain": [
       "array([0., 1.])"
      ]
     },
     "execution_count": 89,
     "metadata": {},
     "output_type": "execute_result"
    },
    {
     "data": {
      "application/javascript": [
       "\n",
       "            setTimeout(function() {\n",
       "                var nbb_cell_id = 89;\n",
       "                var nbb_unformatted_code = \"data[\\\"Plan_voluntario\\\"].unique()\";\n",
       "                var nbb_formatted_code = \"data[\\\"Plan_voluntario\\\"].unique()\";\n",
       "                var nbb_cells = Jupyter.notebook.get_cells();\n",
       "                for (var i = 0; i < nbb_cells.length; ++i) {\n",
       "                    if (nbb_cells[i].input_prompt_number == nbb_cell_id) {\n",
       "                        if (nbb_cells[i].get_text() == nbb_unformatted_code) {\n",
       "                             nbb_cells[i].set_text(nbb_formatted_code);\n",
       "                        }\n",
       "                        break;\n",
       "                    }\n",
       "                }\n",
       "            }, 500);\n",
       "            "
      ],
      "text/plain": [
       "<IPython.core.display.Javascript object>"
      ]
     },
     "metadata": {},
     "output_type": "display_data"
    }
   ],
   "source": [
    "data[\"Plan_voluntario\"].unique()"
   ]
  },
  {
   "cell_type": "code",
   "execution_count": 90,
   "metadata": {},
   "outputs": [
    {
     "data": {
      "application/javascript": [
       "\n",
       "            setTimeout(function() {\n",
       "                var nbb_cell_id = 90;\n",
       "                var nbb_unformatted_code = \"data[\\\"Plan_voluntario\\\"] = data[\\\"Plan_voluntario\\\"].replace([\\\"No\\\"], 0)\\ndata[\\\"Plan_voluntario\\\"] = data[\\\"Plan_voluntario\\\"].replace(\\\"S\\u00ed\\\", 1)\\ndata[\\\"Plan_voluntario\\\"] = data[\\\"Plan_voluntario\\\"].astype(float)\";\n",
       "                var nbb_formatted_code = \"data[\\\"Plan_voluntario\\\"] = data[\\\"Plan_voluntario\\\"].replace([\\\"No\\\"], 0)\\ndata[\\\"Plan_voluntario\\\"] = data[\\\"Plan_voluntario\\\"].replace(\\\"S\\u00ed\\\", 1)\\ndata[\\\"Plan_voluntario\\\"] = data[\\\"Plan_voluntario\\\"].astype(float)\";\n",
       "                var nbb_cells = Jupyter.notebook.get_cells();\n",
       "                for (var i = 0; i < nbb_cells.length; ++i) {\n",
       "                    if (nbb_cells[i].input_prompt_number == nbb_cell_id) {\n",
       "                        if (nbb_cells[i].get_text() == nbb_unformatted_code) {\n",
       "                             nbb_cells[i].set_text(nbb_formatted_code);\n",
       "                        }\n",
       "                        break;\n",
       "                    }\n",
       "                }\n",
       "            }, 500);\n",
       "            "
      ],
      "text/plain": [
       "<IPython.core.display.Javascript object>"
      ]
     },
     "metadata": {},
     "output_type": "display_data"
    }
   ],
   "source": [
    "data[\"Plan_voluntario\"] = data[\"Plan_voluntario\"].replace([\"No\"], 0)\n",
    "data[\"Plan_voluntario\"] = data[\"Plan_voluntario\"].replace(\"Sí\", 1)\n",
    "data[\"Plan_voluntario\"] = data[\"Plan_voluntario\"].astype(float)"
   ]
  },
  {
   "cell_type": "code",
   "execution_count": 91,
   "metadata": {},
   "outputs": [
    {
     "data": {
      "text/plain": [
       "array([0., 1.])"
      ]
     },
     "execution_count": 91,
     "metadata": {},
     "output_type": "execute_result"
    },
    {
     "data": {
      "application/javascript": [
       "\n",
       "            setTimeout(function() {\n",
       "                var nbb_cell_id = 91;\n",
       "                var nbb_unformatted_code = \"data[\\\"Plan_voluntario\\\"].unique()\";\n",
       "                var nbb_formatted_code = \"data[\\\"Plan_voluntario\\\"].unique()\";\n",
       "                var nbb_cells = Jupyter.notebook.get_cells();\n",
       "                for (var i = 0; i < nbb_cells.length; ++i) {\n",
       "                    if (nbb_cells[i].input_prompt_number == nbb_cell_id) {\n",
       "                        if (nbb_cells[i].get_text() == nbb_unformatted_code) {\n",
       "                             nbb_cells[i].set_text(nbb_formatted_code);\n",
       "                        }\n",
       "                        break;\n",
       "                    }\n",
       "                }\n",
       "            }, 500);\n",
       "            "
      ],
      "text/plain": [
       "<IPython.core.display.Javascript object>"
      ]
     },
     "metadata": {},
     "output_type": "display_data"
    }
   ],
   "source": [
    "data[\"Plan_voluntario\"].unique()"
   ]
  },
  {
   "cell_type": "markdown",
   "metadata": {},
   "source": [
    "## Sí = 1, No = 0 "
   ]
  },
  {
   "cell_type": "markdown",
   "metadata": {},
   "source": [
    "## Opciones de Idioma"
   ]
  },
  {
   "cell_type": "code",
   "execution_count": 92,
   "metadata": {},
   "outputs": [
    {
     "data": {
      "text/plain": [
       "array([0., 1.])"
      ]
     },
     "execution_count": 92,
     "metadata": {},
     "output_type": "execute_result"
    },
    {
     "data": {
      "application/javascript": [
       "\n",
       "            setTimeout(function() {\n",
       "                var nbb_cell_id = 92;\n",
       "                var nbb_unformatted_code = \"data[\\\"Idioma\\\"].unique()\";\n",
       "                var nbb_formatted_code = \"data[\\\"Idioma\\\"].unique()\";\n",
       "                var nbb_cells = Jupyter.notebook.get_cells();\n",
       "                for (var i = 0; i < nbb_cells.length; ++i) {\n",
       "                    if (nbb_cells[i].input_prompt_number == nbb_cell_id) {\n",
       "                        if (nbb_cells[i].get_text() == nbb_unformatted_code) {\n",
       "                             nbb_cells[i].set_text(nbb_formatted_code);\n",
       "                        }\n",
       "                        break;\n",
       "                    }\n",
       "                }\n",
       "            }, 500);\n",
       "            "
      ],
      "text/plain": [
       "<IPython.core.display.Javascript object>"
      ]
     },
     "metadata": {},
     "output_type": "display_data"
    }
   ],
   "source": [
    "data[\"Idioma\"].unique()"
   ]
  },
  {
   "cell_type": "code",
   "execution_count": 93,
   "metadata": {},
   "outputs": [
    {
     "data": {
      "application/javascript": [
       "\n",
       "            setTimeout(function() {\n",
       "                var nbb_cell_id = 93;\n",
       "                var nbb_unformatted_code = \"data[\\\"Idioma\\\"] = data[\\\"Idioma\\\"].replace([\\\"No\\\"], 0)\\ndata[\\\"Idioma\\\"] = data[\\\"Idioma\\\"].replace(\\\"S\\u00ed\\\", 1)\\ndata[\\\"Idioma\\\"] = data[\\\"Idioma\\\"].astype(float)\";\n",
       "                var nbb_formatted_code = \"data[\\\"Idioma\\\"] = data[\\\"Idioma\\\"].replace([\\\"No\\\"], 0)\\ndata[\\\"Idioma\\\"] = data[\\\"Idioma\\\"].replace(\\\"S\\u00ed\\\", 1)\\ndata[\\\"Idioma\\\"] = data[\\\"Idioma\\\"].astype(float)\";\n",
       "                var nbb_cells = Jupyter.notebook.get_cells();\n",
       "                for (var i = 0; i < nbb_cells.length; ++i) {\n",
       "                    if (nbb_cells[i].input_prompt_number == nbb_cell_id) {\n",
       "                        if (nbb_cells[i].get_text() == nbb_unformatted_code) {\n",
       "                             nbb_cells[i].set_text(nbb_formatted_code);\n",
       "                        }\n",
       "                        break;\n",
       "                    }\n",
       "                }\n",
       "            }, 500);\n",
       "            "
      ],
      "text/plain": [
       "<IPython.core.display.Javascript object>"
      ]
     },
     "metadata": {},
     "output_type": "display_data"
    }
   ],
   "source": [
    "data[\"Idioma\"] = data[\"Idioma\"].replace([\"No\"], 0)\n",
    "data[\"Idioma\"] = data[\"Idioma\"].replace(\"Sí\", 1)\n",
    "data[\"Idioma\"] = data[\"Idioma\"].astype(float)"
   ]
  },
  {
   "cell_type": "code",
   "execution_count": 94,
   "metadata": {},
   "outputs": [
    {
     "data": {
      "text/plain": [
       "array([0., 1.])"
      ]
     },
     "execution_count": 94,
     "metadata": {},
     "output_type": "execute_result"
    },
    {
     "data": {
      "application/javascript": [
       "\n",
       "            setTimeout(function() {\n",
       "                var nbb_cell_id = 94;\n",
       "                var nbb_unformatted_code = \"data[\\\"Idioma\\\"].unique()\";\n",
       "                var nbb_formatted_code = \"data[\\\"Idioma\\\"].unique()\";\n",
       "                var nbb_cells = Jupyter.notebook.get_cells();\n",
       "                for (var i = 0; i < nbb_cells.length; ++i) {\n",
       "                    if (nbb_cells[i].input_prompt_number == nbb_cell_id) {\n",
       "                        if (nbb_cells[i].get_text() == nbb_unformatted_code) {\n",
       "                             nbb_cells[i].set_text(nbb_formatted_code);\n",
       "                        }\n",
       "                        break;\n",
       "                    }\n",
       "                }\n",
       "            }, 500);\n",
       "            "
      ],
      "text/plain": [
       "<IPython.core.display.Javascript object>"
      ]
     },
     "metadata": {},
     "output_type": "display_data"
    }
   ],
   "source": [
    "data[\"Idioma\"].unique()"
   ]
  },
  {
   "cell_type": "markdown",
   "metadata": {},
   "source": [
    "## Sí = 1, No = 0"
   ]
  },
  {
   "cell_type": "markdown",
   "metadata": {},
   "source": [
    "## Opciones Zona"
   ]
  },
  {
   "cell_type": "code",
   "execution_count": 95,
   "metadata": {},
   "outputs": [
    {
     "data": {
      "text/plain": [
       "array([1., 0.])"
      ]
     },
     "execution_count": 95,
     "metadata": {},
     "output_type": "execute_result"
    },
    {
     "data": {
      "application/javascript": [
       "\n",
       "            setTimeout(function() {\n",
       "                var nbb_cell_id = 95;\n",
       "                var nbb_unformatted_code = \"data[\\\"Zona\\\"].unique()\";\n",
       "                var nbb_formatted_code = \"data[\\\"Zona\\\"].unique()\";\n",
       "                var nbb_cells = Jupyter.notebook.get_cells();\n",
       "                for (var i = 0; i < nbb_cells.length; ++i) {\n",
       "                    if (nbb_cells[i].input_prompt_number == nbb_cell_id) {\n",
       "                        if (nbb_cells[i].get_text() == nbb_unformatted_code) {\n",
       "                             nbb_cells[i].set_text(nbb_formatted_code);\n",
       "                        }\n",
       "                        break;\n",
       "                    }\n",
       "                }\n",
       "            }, 500);\n",
       "            "
      ],
      "text/plain": [
       "<IPython.core.display.Javascript object>"
      ]
     },
     "metadata": {},
     "output_type": "display_data"
    }
   ],
   "source": [
    "data[\"Zona\"].unique()"
   ]
  },
  {
   "cell_type": "code",
   "execution_count": 96,
   "metadata": {},
   "outputs": [
    {
     "data": {
      "text/plain": [
       "array([1.])"
      ]
     },
     "execution_count": 96,
     "metadata": {},
     "output_type": "execute_result"
    },
    {
     "data": {
      "application/javascript": [
       "\n",
       "            setTimeout(function() {\n",
       "                var nbb_cell_id = 96;\n",
       "                var nbb_unformatted_code = \"data[\\\"Condicion_actividad\\\"].unique()\";\n",
       "                var nbb_formatted_code = \"data[\\\"Condicion_actividad\\\"].unique()\";\n",
       "                var nbb_cells = Jupyter.notebook.get_cells();\n",
       "                for (var i = 0; i < nbb_cells.length; ++i) {\n",
       "                    if (nbb_cells[i].input_prompt_number == nbb_cell_id) {\n",
       "                        if (nbb_cells[i].get_text() == nbb_unformatted_code) {\n",
       "                             nbb_cells[i].set_text(nbb_formatted_code);\n",
       "                        }\n",
       "                        break;\n",
       "                    }\n",
       "                }\n",
       "            }, 500);\n",
       "            "
      ],
      "text/plain": [
       "<IPython.core.display.Javascript object>"
      ]
     },
     "metadata": {},
     "output_type": "display_data"
    }
   ],
   "source": [
    "data[\"Condicion_actividad\"].unique()"
   ]
  },
  {
   "cell_type": "code",
   "execution_count": 97,
   "metadata": {},
   "outputs": [
    {
     "data": {
      "text/plain": [
       "array([1., 0.])"
      ]
     },
     "execution_count": 97,
     "metadata": {},
     "output_type": "execute_result"
    },
    {
     "data": {
      "application/javascript": [
       "\n",
       "            setTimeout(function() {\n",
       "                var nbb_cell_id = 97;\n",
       "                var nbb_unformatted_code = \"data[\\\"Zona\\\"].unique()\";\n",
       "                var nbb_formatted_code = \"data[\\\"Zona\\\"].unique()\";\n",
       "                var nbb_cells = Jupyter.notebook.get_cells();\n",
       "                for (var i = 0; i < nbb_cells.length; ++i) {\n",
       "                    if (nbb_cells[i].input_prompt_number == nbb_cell_id) {\n",
       "                        if (nbb_cells[i].get_text() == nbb_unformatted_code) {\n",
       "                             nbb_cells[i].set_text(nbb_formatted_code);\n",
       "                        }\n",
       "                        break;\n",
       "                    }\n",
       "                }\n",
       "            }, 500);\n",
       "            "
      ],
      "text/plain": [
       "<IPython.core.display.Javascript object>"
      ]
     },
     "metadata": {},
     "output_type": "display_data"
    }
   ],
   "source": [
    "data[\"Zona\"].unique()"
   ]
  },
  {
   "cell_type": "code",
   "execution_count": 98,
   "metadata": {},
   "outputs": [
    {
     "data": {
      "application/javascript": [
       "\n",
       "            setTimeout(function() {\n",
       "                var nbb_cell_id = 98;\n",
       "                var nbb_unformatted_code = \"data[\\\"Zona\\\"] = data[\\\"Zona\\\"].replace(\\\"Rural\\\", 0)\\ndata[\\\"Zona\\\"] = data[\\\"Zona\\\"].replace(\\\"Urbana\\\", 1)\\ndata[\\\"Zona\\\"] = data[\\\"Zona\\\"].astype(float)\";\n",
       "                var nbb_formatted_code = \"data[\\\"Zona\\\"] = data[\\\"Zona\\\"].replace(\\\"Rural\\\", 0)\\ndata[\\\"Zona\\\"] = data[\\\"Zona\\\"].replace(\\\"Urbana\\\", 1)\\ndata[\\\"Zona\\\"] = data[\\\"Zona\\\"].astype(float)\";\n",
       "                var nbb_cells = Jupyter.notebook.get_cells();\n",
       "                for (var i = 0; i < nbb_cells.length; ++i) {\n",
       "                    if (nbb_cells[i].input_prompt_number == nbb_cell_id) {\n",
       "                        if (nbb_cells[i].get_text() == nbb_unformatted_code) {\n",
       "                             nbb_cells[i].set_text(nbb_formatted_code);\n",
       "                        }\n",
       "                        break;\n",
       "                    }\n",
       "                }\n",
       "            }, 500);\n",
       "            "
      ],
      "text/plain": [
       "<IPython.core.display.Javascript object>"
      ]
     },
     "metadata": {},
     "output_type": "display_data"
    }
   ],
   "source": [
    "data[\"Zona\"] = data[\"Zona\"].replace(\"Rural\", 0)\n",
    "data[\"Zona\"] = data[\"Zona\"].replace(\"Urbana\", 1)\n",
    "data[\"Zona\"] = data[\"Zona\"].astype(float)"
   ]
  },
  {
   "cell_type": "markdown",
   "metadata": {},
   "source": [
    "## Rural = 0, Urbana = 1 "
   ]
  },
  {
   "cell_type": "markdown",
   "metadata": {},
   "source": [
    "## Opciones Condicion Actividad"
   ]
  },
  {
   "cell_type": "code",
   "execution_count": 99,
   "metadata": {},
   "outputs": [
    {
     "data": {
      "text/plain": [
       "array([1.])"
      ]
     },
     "execution_count": 99,
     "metadata": {},
     "output_type": "execute_result"
    },
    {
     "data": {
      "application/javascript": [
       "\n",
       "            setTimeout(function() {\n",
       "                var nbb_cell_id = 99;\n",
       "                var nbb_unformatted_code = \"data[\\\"Condicion_actividad\\\"].unique()\";\n",
       "                var nbb_formatted_code = \"data[\\\"Condicion_actividad\\\"].unique()\";\n",
       "                var nbb_cells = Jupyter.notebook.get_cells();\n",
       "                for (var i = 0; i < nbb_cells.length; ++i) {\n",
       "                    if (nbb_cells[i].input_prompt_number == nbb_cell_id) {\n",
       "                        if (nbb_cells[i].get_text() == nbb_unformatted_code) {\n",
       "                             nbb_cells[i].set_text(nbb_formatted_code);\n",
       "                        }\n",
       "                        break;\n",
       "                    }\n",
       "                }\n",
       "            }, 500);\n",
       "            "
      ],
      "text/plain": [
       "<IPython.core.display.Javascript object>"
      ]
     },
     "metadata": {},
     "output_type": "display_data"
    }
   ],
   "source": [
    "data[\"Condicion_actividad\"].unique()"
   ]
  },
  {
   "cell_type": "code",
   "execution_count": 100,
   "metadata": {},
   "outputs": [
    {
     "data": {
      "application/javascript": [
       "\n",
       "            setTimeout(function() {\n",
       "                var nbb_cell_id = 100;\n",
       "                var nbb_unformatted_code = \"data[\\\"Condicion_actividad\\\"] = data[\\\"Condicion_actividad\\\"].replace(\\n    [\\\"Fuera de la fuerza de trabajo\\\"], np.nan\\n)\\ndata[\\\"Condicion_actividad\\\"] = data[\\\"Condicion_actividad\\\"].replace(\\\"Desempleado\\\", 0)\\ndata[\\\"Condicion_actividad\\\"] = data[\\\"Condicion_actividad\\\"].replace(\\\"Ocupado\\\", 1)\\ndata[\\\"Condicion_actividad\\\"] = data[\\\"Condicion_actividad\\\"].astype(float)\";\n",
       "                var nbb_formatted_code = \"data[\\\"Condicion_actividad\\\"] = data[\\\"Condicion_actividad\\\"].replace(\\n    [\\\"Fuera de la fuerza de trabajo\\\"], np.nan\\n)\\ndata[\\\"Condicion_actividad\\\"] = data[\\\"Condicion_actividad\\\"].replace(\\\"Desempleado\\\", 0)\\ndata[\\\"Condicion_actividad\\\"] = data[\\\"Condicion_actividad\\\"].replace(\\\"Ocupado\\\", 1)\\ndata[\\\"Condicion_actividad\\\"] = data[\\\"Condicion_actividad\\\"].astype(float)\";\n",
       "                var nbb_cells = Jupyter.notebook.get_cells();\n",
       "                for (var i = 0; i < nbb_cells.length; ++i) {\n",
       "                    if (nbb_cells[i].input_prompt_number == nbb_cell_id) {\n",
       "                        if (nbb_cells[i].get_text() == nbb_unformatted_code) {\n",
       "                             nbb_cells[i].set_text(nbb_formatted_code);\n",
       "                        }\n",
       "                        break;\n",
       "                    }\n",
       "                }\n",
       "            }, 500);\n",
       "            "
      ],
      "text/plain": [
       "<IPython.core.display.Javascript object>"
      ]
     },
     "metadata": {},
     "output_type": "display_data"
    }
   ],
   "source": [
    "data[\"Condicion_actividad\"] = data[\"Condicion_actividad\"].replace(\n",
    "    [\"Fuera de la fuerza de trabajo\"], np.nan\n",
    ")\n",
    "data[\"Condicion_actividad\"] = data[\"Condicion_actividad\"].replace(\"Desempleado\", 0)\n",
    "data[\"Condicion_actividad\"] = data[\"Condicion_actividad\"].replace(\"Ocupado\", 1)\n",
    "data[\"Condicion_actividad\"] = data[\"Condicion_actividad\"].astype(float)"
   ]
  },
  {
   "cell_type": "code",
   "execution_count": 101,
   "metadata": {},
   "outputs": [
    {
     "data": {
      "text/plain": [
       "array([1.])"
      ]
     },
     "execution_count": 101,
     "metadata": {},
     "output_type": "execute_result"
    },
    {
     "data": {
      "application/javascript": [
       "\n",
       "            setTimeout(function() {\n",
       "                var nbb_cell_id = 101;\n",
       "                var nbb_unformatted_code = \"data[\\\"Condicion_actividad\\\"].unique()\";\n",
       "                var nbb_formatted_code = \"data[\\\"Condicion_actividad\\\"].unique()\";\n",
       "                var nbb_cells = Jupyter.notebook.get_cells();\n",
       "                for (var i = 0; i < nbb_cells.length; ++i) {\n",
       "                    if (nbb_cells[i].input_prompt_number == nbb_cell_id) {\n",
       "                        if (nbb_cells[i].get_text() == nbb_unformatted_code) {\n",
       "                             nbb_cells[i].set_text(nbb_formatted_code);\n",
       "                        }\n",
       "                        break;\n",
       "                    }\n",
       "                }\n",
       "            }, 500);\n",
       "            "
      ],
      "text/plain": [
       "<IPython.core.display.Javascript object>"
      ]
     },
     "metadata": {},
     "output_type": "display_data"
    }
   ],
   "source": [
    "data[\"Condicion_actividad\"].unique()"
   ]
  },
  {
   "cell_type": "markdown",
   "metadata": {},
   "source": [
    "## Fuera de la fuerza de trabajo = No nos interesa, por ende le puse valor perdido para al final borrarlo\n",
    "## Ocupado = 1, Desempleado = 0"
   ]
  },
  {
   "cell_type": "markdown",
   "metadata": {},
   "source": [
    "## Opciones Condicion aseguramiento"
   ]
  },
  {
   "cell_type": "code",
   "execution_count": 102,
   "metadata": {},
   "outputs": [
    {
     "data": {
      "text/plain": [
       "array([1.])"
      ]
     },
     "execution_count": 102,
     "metadata": {},
     "output_type": "execute_result"
    },
    {
     "data": {
      "application/javascript": [
       "\n",
       "            setTimeout(function() {\n",
       "                var nbb_cell_id = 102;\n",
       "                var nbb_unformatted_code = \"data[\\\"Condicion_aseguramiento\\\"].unique()\";\n",
       "                var nbb_formatted_code = \"data[\\\"Condicion_aseguramiento\\\"].unique()\";\n",
       "                var nbb_cells = Jupyter.notebook.get_cells();\n",
       "                for (var i = 0; i < nbb_cells.length; ++i) {\n",
       "                    if (nbb_cells[i].input_prompt_number == nbb_cell_id) {\n",
       "                        if (nbb_cells[i].get_text() == nbb_unformatted_code) {\n",
       "                             nbb_cells[i].set_text(nbb_formatted_code);\n",
       "                        }\n",
       "                        break;\n",
       "                    }\n",
       "                }\n",
       "            }, 500);\n",
       "            "
      ],
      "text/plain": [
       "<IPython.core.display.Javascript object>"
      ]
     },
     "metadata": {},
     "output_type": "display_data"
    }
   ],
   "source": [
    "data[\"Condicion_aseguramiento\"].unique()"
   ]
  },
  {
   "cell_type": "code",
   "execution_count": 103,
   "metadata": {},
   "outputs": [
    {
     "data": {
      "application/javascript": [
       "\n",
       "            setTimeout(function() {\n",
       "                var nbb_cell_id = 103;\n",
       "                var nbb_unformatted_code = \"data[\\\"Condicion_aseguramiento\\\"] = data[\\\"Condicion_aseguramiento\\\"].replace(\\n    \\\"No tiene seguro por trabajo\\\", 0\\n)\\ndata[\\\"Condicion_aseguramiento\\\"] = data[\\\"Condicion_aseguramiento\\\"].replace(\\n    \\\"Tiene seguro por trabajo\\\", 1\\n)\\ndata[\\\"Condicion_aseguramiento\\\"] = data[\\\"Condicion_aseguramiento\\\"].astype(float)\";\n",
       "                var nbb_formatted_code = \"data[\\\"Condicion_aseguramiento\\\"] = data[\\\"Condicion_aseguramiento\\\"].replace(\\n    \\\"No tiene seguro por trabajo\\\", 0\\n)\\ndata[\\\"Condicion_aseguramiento\\\"] = data[\\\"Condicion_aseguramiento\\\"].replace(\\n    \\\"Tiene seguro por trabajo\\\", 1\\n)\\ndata[\\\"Condicion_aseguramiento\\\"] = data[\\\"Condicion_aseguramiento\\\"].astype(float)\";\n",
       "                var nbb_cells = Jupyter.notebook.get_cells();\n",
       "                for (var i = 0; i < nbb_cells.length; ++i) {\n",
       "                    if (nbb_cells[i].input_prompt_number == nbb_cell_id) {\n",
       "                        if (nbb_cells[i].get_text() == nbb_unformatted_code) {\n",
       "                             nbb_cells[i].set_text(nbb_formatted_code);\n",
       "                        }\n",
       "                        break;\n",
       "                    }\n",
       "                }\n",
       "            }, 500);\n",
       "            "
      ],
      "text/plain": [
       "<IPython.core.display.Javascript object>"
      ]
     },
     "metadata": {},
     "output_type": "display_data"
    }
   ],
   "source": [
    "data[\"Condicion_aseguramiento\"] = data[\"Condicion_aseguramiento\"].replace(\n",
    "    \"No tiene seguro por trabajo\", 0\n",
    ")\n",
    "data[\"Condicion_aseguramiento\"] = data[\"Condicion_aseguramiento\"].replace(\n",
    "    \"Tiene seguro por trabajo\", 1\n",
    ")\n",
    "data[\"Condicion_aseguramiento\"] = data[\"Condicion_aseguramiento\"].astype(float)"
   ]
  },
  {
   "cell_type": "code",
   "execution_count": 104,
   "metadata": {},
   "outputs": [
    {
     "data": {
      "text/plain": [
       "array([1.])"
      ]
     },
     "execution_count": 104,
     "metadata": {},
     "output_type": "execute_result"
    },
    {
     "data": {
      "application/javascript": [
       "\n",
       "            setTimeout(function() {\n",
       "                var nbb_cell_id = 104;\n",
       "                var nbb_unformatted_code = \"data[\\\"Condicion_aseguramiento\\\"].unique()\";\n",
       "                var nbb_formatted_code = \"data[\\\"Condicion_aseguramiento\\\"].unique()\";\n",
       "                var nbb_cells = Jupyter.notebook.get_cells();\n",
       "                for (var i = 0; i < nbb_cells.length; ++i) {\n",
       "                    if (nbb_cells[i].input_prompt_number == nbb_cell_id) {\n",
       "                        if (nbb_cells[i].get_text() == nbb_unformatted_code) {\n",
       "                             nbb_cells[i].set_text(nbb_formatted_code);\n",
       "                        }\n",
       "                        break;\n",
       "                    }\n",
       "                }\n",
       "            }, 500);\n",
       "            "
      ],
      "text/plain": [
       "<IPython.core.display.Javascript object>"
      ]
     },
     "metadata": {},
     "output_type": "display_data"
    }
   ],
   "source": [
    "data[\"Condicion_aseguramiento\"].unique()"
   ]
  },
  {
   "cell_type": "markdown",
   "metadata": {},
   "source": [
    "## Tiene = 1, No tiene = 0"
   ]
  },
  {
   "cell_type": "markdown",
   "metadata": {},
   "source": [
    "## Rango de ingreso bruto total trabajo"
   ]
  },
  {
   "cell_type": "code",
   "execution_count": 105,
   "metadata": {},
   "outputs": [
    {
     "data": {
      "text/plain": [
       "array([1., 3., 4., 2., 0.])"
      ]
     },
     "execution_count": 105,
     "metadata": {},
     "output_type": "execute_result"
    },
    {
     "data": {
      "application/javascript": [
       "\n",
       "            setTimeout(function() {\n",
       "                var nbb_cell_id = 105;\n",
       "                var nbb_unformatted_code = \"data[\\\"Rango_ingreso_bruto_total_trabaj\\\"].unique()\";\n",
       "                var nbb_formatted_code = \"data[\\\"Rango_ingreso_bruto_total_trabaj\\\"].unique()\";\n",
       "                var nbb_cells = Jupyter.notebook.get_cells();\n",
       "                for (var i = 0; i < nbb_cells.length; ++i) {\n",
       "                    if (nbb_cells[i].input_prompt_number == nbb_cell_id) {\n",
       "                        if (nbb_cells[i].get_text() == nbb_unformatted_code) {\n",
       "                             nbb_cells[i].set_text(nbb_formatted_code);\n",
       "                        }\n",
       "                        break;\n",
       "                    }\n",
       "                }\n",
       "            }, 500);\n",
       "            "
      ],
      "text/plain": [
       "<IPython.core.display.Javascript object>"
      ]
     },
     "metadata": {},
     "output_type": "display_data"
    }
   ],
   "source": [
    "data[\"Rango_ingreso_bruto_total_trabaj\"].unique()"
   ]
  },
  {
   "cell_type": "code",
   "execution_count": 106,
   "metadata": {},
   "outputs": [
    {
     "data": {
      "application/javascript": [
       "\n",
       "            setTimeout(function() {\n",
       "                var nbb_cell_id = 106;\n",
       "                var nbb_unformatted_code = \"data[\\\"Rango_ingreso_bruto_total_trabaj\\\"] = data[\\n    \\\"Rango_ingreso_bruto_total_trabaj\\\"\\n].replace(\\\"No especificado\\\", np.nan)\\ndata[\\\"Rango_ingreso_bruto_total_trabaj\\\"] = data[\\n    \\\"Rango_ingreso_bruto_total_trabaj\\\"\\n].replace(\\\"No recibe ingresos\\\", 0)\\ndata[\\\"Rango_ingreso_bruto_total_trabaj\\\"] = data[\\n    \\\"Rango_ingreso_bruto_total_trabaj\\\"\\n].replace(\\\"Menos de un salario m\\u00ednimo\\\", 1)\\ndata[\\\"Rango_ingreso_bruto_total_trabaj\\\"] = data[\\n    \\\"Rango_ingreso_bruto_total_trabaj\\\"\\n].replace(\\\"De uno a menos de dos salarios m\\u00ednimos\\\", 2)\\ndata[\\\"Rango_ingreso_bruto_total_trabaj\\\"] = data[\\n    \\\"Rango_ingreso_bruto_total_trabaj\\\"\\n].replace(\\\"De dos a menos de cinco salarios m\\u00ednimos\\\", 3)\\ndata[\\\"Rango_ingreso_bruto_total_trabaj\\\"] = data[\\n    \\\"Rango_ingreso_bruto_total_trabaj\\\"\\n].replace(\\\"Cinco salarios m\\u00ednimos o m\\u00e1s\\\", 4)\\ndata[\\\"Rango_ingreso_bruto_total_trabaj\\\"] = data[\\n    \\\"Rango_ingreso_bruto_total_trabaj\\\"\\n].astype(float)\";\n",
       "                var nbb_formatted_code = \"data[\\\"Rango_ingreso_bruto_total_trabaj\\\"] = data[\\n    \\\"Rango_ingreso_bruto_total_trabaj\\\"\\n].replace(\\\"No especificado\\\", np.nan)\\ndata[\\\"Rango_ingreso_bruto_total_trabaj\\\"] = data[\\n    \\\"Rango_ingreso_bruto_total_trabaj\\\"\\n].replace(\\\"No recibe ingresos\\\", 0)\\ndata[\\\"Rango_ingreso_bruto_total_trabaj\\\"] = data[\\n    \\\"Rango_ingreso_bruto_total_trabaj\\\"\\n].replace(\\\"Menos de un salario m\\u00ednimo\\\", 1)\\ndata[\\\"Rango_ingreso_bruto_total_trabaj\\\"] = data[\\n    \\\"Rango_ingreso_bruto_total_trabaj\\\"\\n].replace(\\\"De uno a menos de dos salarios m\\u00ednimos\\\", 2)\\ndata[\\\"Rango_ingreso_bruto_total_trabaj\\\"] = data[\\n    \\\"Rango_ingreso_bruto_total_trabaj\\\"\\n].replace(\\\"De dos a menos de cinco salarios m\\u00ednimos\\\", 3)\\ndata[\\\"Rango_ingreso_bruto_total_trabaj\\\"] = data[\\n    \\\"Rango_ingreso_bruto_total_trabaj\\\"\\n].replace(\\\"Cinco salarios m\\u00ednimos o m\\u00e1s\\\", 4)\\ndata[\\\"Rango_ingreso_bruto_total_trabaj\\\"] = data[\\n    \\\"Rango_ingreso_bruto_total_trabaj\\\"\\n].astype(float)\";\n",
       "                var nbb_cells = Jupyter.notebook.get_cells();\n",
       "                for (var i = 0; i < nbb_cells.length; ++i) {\n",
       "                    if (nbb_cells[i].input_prompt_number == nbb_cell_id) {\n",
       "                        if (nbb_cells[i].get_text() == nbb_unformatted_code) {\n",
       "                             nbb_cells[i].set_text(nbb_formatted_code);\n",
       "                        }\n",
       "                        break;\n",
       "                    }\n",
       "                }\n",
       "            }, 500);\n",
       "            "
      ],
      "text/plain": [
       "<IPython.core.display.Javascript object>"
      ]
     },
     "metadata": {},
     "output_type": "display_data"
    }
   ],
   "source": [
    "data[\"Rango_ingreso_bruto_total_trabaj\"] = data[\n",
    "    \"Rango_ingreso_bruto_total_trabaj\"\n",
    "].replace(\"No especificado\", np.nan)\n",
    "data[\"Rango_ingreso_bruto_total_trabaj\"] = data[\n",
    "    \"Rango_ingreso_bruto_total_trabaj\"\n",
    "].replace(\"No recibe ingresos\", 0)\n",
    "data[\"Rango_ingreso_bruto_total_trabaj\"] = data[\n",
    "    \"Rango_ingreso_bruto_total_trabaj\"\n",
    "].replace(\"Menos de un salario mínimo\", 1)\n",
    "data[\"Rango_ingreso_bruto_total_trabaj\"] = data[\n",
    "    \"Rango_ingreso_bruto_total_trabaj\"\n",
    "].replace(\"De uno a menos de dos salarios mínimos\", 2)\n",
    "data[\"Rango_ingreso_bruto_total_trabaj\"] = data[\n",
    "    \"Rango_ingreso_bruto_total_trabaj\"\n",
    "].replace(\"De dos a menos de cinco salarios mínimos\", 3)\n",
    "data[\"Rango_ingreso_bruto_total_trabaj\"] = data[\n",
    "    \"Rango_ingreso_bruto_total_trabaj\"\n",
    "].replace(\"Cinco salarios mínimos o más\", 4)\n",
    "data[\"Rango_ingreso_bruto_total_trabaj\"] = data[\n",
    "    \"Rango_ingreso_bruto_total_trabaj\"\n",
    "].astype(float)"
   ]
  },
  {
   "cell_type": "markdown",
   "metadata": {},
   "source": [
    "## Si no se especifico lo pongo como perdido \n",
    "## los demas van avanzando conforme gana mas dinero "
   ]
  },
  {
   "cell_type": "markdown",
   "metadata": {},
   "source": [
    "## Opciones grupo edad"
   ]
  },
  {
   "cell_type": "code",
   "execution_count": 107,
   "metadata": {},
   "outputs": [
    {
     "data": {
      "text/plain": [
       "array([3., 2., 4., 1., 0.])"
      ]
     },
     "execution_count": 107,
     "metadata": {},
     "output_type": "execute_result"
    },
    {
     "data": {
      "application/javascript": [
       "\n",
       "            setTimeout(function() {\n",
       "                var nbb_cell_id = 107;\n",
       "                var nbb_unformatted_code = \"data[\\\"Grupo_edad\\\"].unique()\";\n",
       "                var nbb_formatted_code = \"data[\\\"Grupo_edad\\\"].unique()\";\n",
       "                var nbb_cells = Jupyter.notebook.get_cells();\n",
       "                for (var i = 0; i < nbb_cells.length; ++i) {\n",
       "                    if (nbb_cells[i].input_prompt_number == nbb_cell_id) {\n",
       "                        if (nbb_cells[i].get_text() == nbb_unformatted_code) {\n",
       "                             nbb_cells[i].set_text(nbb_formatted_code);\n",
       "                        }\n",
       "                        break;\n",
       "                    }\n",
       "                }\n",
       "            }, 500);\n",
       "            "
      ],
      "text/plain": [
       "<IPython.core.display.Javascript object>"
      ]
     },
     "metadata": {},
     "output_type": "display_data"
    }
   ],
   "source": [
    "data[\"Grupo_edad\"].unique()"
   ]
  },
  {
   "cell_type": "code",
   "execution_count": 108,
   "metadata": {},
   "outputs": [
    {
     "data": {
      "application/javascript": [
       "\n",
       "            setTimeout(function() {\n",
       "                var nbb_cell_id = 108;\n",
       "                var nbb_unformatted_code = \"data[\\\"Grupo_edad\\\"] = data[\\\"Grupo_edad\\\"].replace(\\\"Ignorado\\\", np.nan)\\ndata[\\\"Grupo_edad\\\"] = data[\\\"Grupo_edad\\\"].replace(\\\"15 a 24 a\\u00f1os\\\", 0)\\ndata[\\\"Grupo_edad\\\"] = data[\\\"Grupo_edad\\\"].replace(\\\"25 a 34 a\\u00f1os\\\", 1)\\ndata[\\\"Grupo_edad\\\"] = data[\\\"Grupo_edad\\\"].replace(\\\"35 a 44 a\\u00f1os\\\", 2)\\ndata[\\\"Grupo_edad\\\"] = data[\\\"Grupo_edad\\\"].replace(\\\"45 a 59 a\\u00f1os\\\", 3)\\ndata[\\\"Grupo_edad\\\"] = data[\\\"Grupo_edad\\\"].replace(\\\"60 y m\\u00e1s\\\", 4)\\ndata[\\\"Grupo_edad\\\"] = data[\\\"Grupo_edad\\\"].astype(float)\";\n",
       "                var nbb_formatted_code = \"data[\\\"Grupo_edad\\\"] = data[\\\"Grupo_edad\\\"].replace(\\\"Ignorado\\\", np.nan)\\ndata[\\\"Grupo_edad\\\"] = data[\\\"Grupo_edad\\\"].replace(\\\"15 a 24 a\\u00f1os\\\", 0)\\ndata[\\\"Grupo_edad\\\"] = data[\\\"Grupo_edad\\\"].replace(\\\"25 a 34 a\\u00f1os\\\", 1)\\ndata[\\\"Grupo_edad\\\"] = data[\\\"Grupo_edad\\\"].replace(\\\"35 a 44 a\\u00f1os\\\", 2)\\ndata[\\\"Grupo_edad\\\"] = data[\\\"Grupo_edad\\\"].replace(\\\"45 a 59 a\\u00f1os\\\", 3)\\ndata[\\\"Grupo_edad\\\"] = data[\\\"Grupo_edad\\\"].replace(\\\"60 y m\\u00e1s\\\", 4)\\ndata[\\\"Grupo_edad\\\"] = data[\\\"Grupo_edad\\\"].astype(float)\";\n",
       "                var nbb_cells = Jupyter.notebook.get_cells();\n",
       "                for (var i = 0; i < nbb_cells.length; ++i) {\n",
       "                    if (nbb_cells[i].input_prompt_number == nbb_cell_id) {\n",
       "                        if (nbb_cells[i].get_text() == nbb_unformatted_code) {\n",
       "                             nbb_cells[i].set_text(nbb_formatted_code);\n",
       "                        }\n",
       "                        break;\n",
       "                    }\n",
       "                }\n",
       "            }, 500);\n",
       "            "
      ],
      "text/plain": [
       "<IPython.core.display.Javascript object>"
      ]
     },
     "metadata": {},
     "output_type": "display_data"
    }
   ],
   "source": [
    "data[\"Grupo_edad\"] = data[\"Grupo_edad\"].replace(\"Ignorado\", np.nan)\n",
    "data[\"Grupo_edad\"] = data[\"Grupo_edad\"].replace(\"15 a 24 años\", 0)\n",
    "data[\"Grupo_edad\"] = data[\"Grupo_edad\"].replace(\"25 a 34 años\", 1)\n",
    "data[\"Grupo_edad\"] = data[\"Grupo_edad\"].replace(\"35 a 44 años\", 2)\n",
    "data[\"Grupo_edad\"] = data[\"Grupo_edad\"].replace(\"45 a 59 años\", 3)\n",
    "data[\"Grupo_edad\"] = data[\"Grupo_edad\"].replace(\"60 y más\", 4)\n",
    "data[\"Grupo_edad\"] = data[\"Grupo_edad\"].astype(float)"
   ]
  },
  {
   "cell_type": "markdown",
   "metadata": {},
   "source": [
    "## Si se ignoro lo borro, lo demás va avanzado conforme la edad es mayor"
   ]
  },
  {
   "cell_type": "markdown",
   "metadata": {},
   "source": [
    "## Veamos como quedo la base de datos"
   ]
  },
  {
   "cell_type": "code",
   "execution_count": 109,
   "metadata": {},
   "outputs": [
    {
     "name": "stdout",
     "output_type": "stream",
     "text": [
      "<class 'pandas.core.frame.DataFrame'>\n",
      "Index: 5353 entries, 1 to 22889\n",
      "Data columns (total 16 columns):\n",
      " #   Column                            Non-Null Count  Dtype   \n",
      "---  ------                            --------------  -----   \n",
      " 0   Sexo                              5353 non-null   float64 \n",
      " 1   Edad                              5353 non-null   float64 \n",
      " 2   Seguro                            5353 non-null   category\n",
      " 3   Regimen_pension                   5353 non-null   category\n",
      " 4   Plan_voluntario                   5353 non-null   float64 \n",
      " 5   Idioma                            5353 non-null   float64 \n",
      " 6   Trabajo                           5353 non-null   float64 \n",
      " 7   Zona                              5353 non-null   float64 \n",
      " 8   Nivel_educativo                   5353 non-null   float64 \n",
      " 9   Condicion_actividad               5353 non-null   float64 \n",
      " 10  Grupo_horas_efectivas             5353 non-null   float64 \n",
      " 11  Condicion_aseguramiento           5353 non-null   float64 \n",
      " 12  Formalidad_informalidad           5353 non-null   float64 \n",
      " 13  Rango_ingreso_bruto_total_trabaj  5353 non-null   float64 \n",
      " 14  Grupo_edad                        5353 non-null   float64 \n",
      " 15  Tipo_seguro                       5353 non-null   category\n",
      "dtypes: category(3), float64(13)\n",
      "memory usage: 601.8 KB\n"
     ]
    },
    {
     "data": {
      "application/javascript": [
       "\n",
       "            setTimeout(function() {\n",
       "                var nbb_cell_id = 109;\n",
       "                var nbb_unformatted_code = \"data.info()\";\n",
       "                var nbb_formatted_code = \"data.info()\";\n",
       "                var nbb_cells = Jupyter.notebook.get_cells();\n",
       "                for (var i = 0; i < nbb_cells.length; ++i) {\n",
       "                    if (nbb_cells[i].input_prompt_number == nbb_cell_id) {\n",
       "                        if (nbb_cells[i].get_text() == nbb_unformatted_code) {\n",
       "                             nbb_cells[i].set_text(nbb_formatted_code);\n",
       "                        }\n",
       "                        break;\n",
       "                    }\n",
       "                }\n",
       "            }, 500);\n",
       "            "
      ],
      "text/plain": [
       "<IPython.core.display.Javascript object>"
      ]
     },
     "metadata": {},
     "output_type": "display_data"
    }
   ],
   "source": [
    "data.info()"
   ]
  },
  {
   "cell_type": "code",
   "execution_count": 153,
   "metadata": {},
   "outputs": [
    {
     "data": {
      "application/javascript": [
       "\n",
       "            setTimeout(function() {\n",
       "                var nbb_cell_id = 153;\n",
       "                var nbb_unformatted_code = \"data.to_csv(\\\"datos_tratados\\\")\";\n",
       "                var nbb_formatted_code = \"data.to_csv(\\\"datos_tratados\\\")\";\n",
       "                var nbb_cells = Jupyter.notebook.get_cells();\n",
       "                for (var i = 0; i < nbb_cells.length; ++i) {\n",
       "                    if (nbb_cells[i].input_prompt_number == nbb_cell_id) {\n",
       "                        if (nbb_cells[i].get_text() == nbb_unformatted_code) {\n",
       "                             nbb_cells[i].set_text(nbb_formatted_code);\n",
       "                        }\n",
       "                        break;\n",
       "                    }\n",
       "                }\n",
       "            }, 500);\n",
       "            "
      ],
      "text/plain": [
       "<IPython.core.display.Javascript object>"
      ]
     },
     "metadata": {},
     "output_type": "display_data"
    }
   ],
   "source": [
    "data.to_csv(\"datos_tratados\")"
   ]
  },
  {
   "cell_type": "code",
   "execution_count": 110,
   "metadata": {},
   "outputs": [
    {
     "data": {
      "application/javascript": [
       "\n",
       "            setTimeout(function() {\n",
       "                var nbb_cell_id = 110;\n",
       "                var nbb_unformatted_code = \"data.dropna(inplace=True)\";\n",
       "                var nbb_formatted_code = \"data.dropna(inplace=True)\";\n",
       "                var nbb_cells = Jupyter.notebook.get_cells();\n",
       "                for (var i = 0; i < nbb_cells.length; ++i) {\n",
       "                    if (nbb_cells[i].input_prompt_number == nbb_cell_id) {\n",
       "                        if (nbb_cells[i].get_text() == nbb_unformatted_code) {\n",
       "                             nbb_cells[i].set_text(nbb_formatted_code);\n",
       "                        }\n",
       "                        break;\n",
       "                    }\n",
       "                }\n",
       "            }, 500);\n",
       "            "
      ],
      "text/plain": [
       "<IPython.core.display.Javascript object>"
      ]
     },
     "metadata": {},
     "output_type": "display_data"
    }
   ],
   "source": [
    "data.dropna(inplace=True)"
   ]
  },
  {
   "cell_type": "code",
   "execution_count": 111,
   "metadata": {},
   "outputs": [
    {
     "name": "stdout",
     "output_type": "stream",
     "text": [
      "<class 'pandas.core.frame.DataFrame'>\n",
      "Index: 5353 entries, 1 to 22889\n",
      "Data columns (total 16 columns):\n",
      " #   Column                            Non-Null Count  Dtype   \n",
      "---  ------                            --------------  -----   \n",
      " 0   Sexo                              5353 non-null   float64 \n",
      " 1   Edad                              5353 non-null   float64 \n",
      " 2   Seguro                            5353 non-null   category\n",
      " 3   Regimen_pension                   5353 non-null   category\n",
      " 4   Plan_voluntario                   5353 non-null   float64 \n",
      " 5   Idioma                            5353 non-null   float64 \n",
      " 6   Trabajo                           5353 non-null   float64 \n",
      " 7   Zona                              5353 non-null   float64 \n",
      " 8   Nivel_educativo                   5353 non-null   float64 \n",
      " 9   Condicion_actividad               5353 non-null   float64 \n",
      " 10  Grupo_horas_efectivas             5353 non-null   float64 \n",
      " 11  Condicion_aseguramiento           5353 non-null   float64 \n",
      " 12  Formalidad_informalidad           5353 non-null   float64 \n",
      " 13  Rango_ingreso_bruto_total_trabaj  5353 non-null   float64 \n",
      " 14  Grupo_edad                        5353 non-null   float64 \n",
      " 15  Tipo_seguro                       5353 non-null   category\n",
      "dtypes: category(3), float64(13)\n",
      "memory usage: 601.8 KB\n"
     ]
    },
    {
     "data": {
      "application/javascript": [
       "\n",
       "            setTimeout(function() {\n",
       "                var nbb_cell_id = 111;\n",
       "                var nbb_unformatted_code = \"data.info()\";\n",
       "                var nbb_formatted_code = \"data.info()\";\n",
       "                var nbb_cells = Jupyter.notebook.get_cells();\n",
       "                for (var i = 0; i < nbb_cells.length; ++i) {\n",
       "                    if (nbb_cells[i].input_prompt_number == nbb_cell_id) {\n",
       "                        if (nbb_cells[i].get_text() == nbb_unformatted_code) {\n",
       "                             nbb_cells[i].set_text(nbb_formatted_code);\n",
       "                        }\n",
       "                        break;\n",
       "                    }\n",
       "                }\n",
       "            }, 500);\n",
       "            "
      ],
      "text/plain": [
       "<IPython.core.display.Javascript object>"
      ]
     },
     "metadata": {},
     "output_type": "display_data"
    }
   ],
   "source": [
    "data.info()"
   ]
  },
  {
   "cell_type": "code",
   "execution_count": 112,
   "metadata": {},
   "outputs": [
    {
     "data": {
      "application/javascript": [
       "\n",
       "            setTimeout(function() {\n",
       "                var nbb_cell_id = 112;\n",
       "                var nbb_unformatted_code = \"# data.to_csv(\\\"data.csv\\\")\";\n",
       "                var nbb_formatted_code = \"# data.to_csv(\\\"data.csv\\\")\";\n",
       "                var nbb_cells = Jupyter.notebook.get_cells();\n",
       "                for (var i = 0; i < nbb_cells.length; ++i) {\n",
       "                    if (nbb_cells[i].input_prompt_number == nbb_cell_id) {\n",
       "                        if (nbb_cells[i].get_text() == nbb_unformatted_code) {\n",
       "                             nbb_cells[i].set_text(nbb_formatted_code);\n",
       "                        }\n",
       "                        break;\n",
       "                    }\n",
       "                }\n",
       "            }, 500);\n",
       "            "
      ],
      "text/plain": [
       "<IPython.core.display.Javascript object>"
      ]
     },
     "metadata": {},
     "output_type": "display_data"
    }
   ],
   "source": [
    "# data.to_csv(\"data.csv\")"
   ]
  },
  {
   "cell_type": "code",
   "execution_count": 113,
   "metadata": {
    "colab": {
     "base_uri": "https://localhost:8080/",
     "height": 191
    },
    "id": "tXMD-Gwa65z1",
    "outputId": "361b9ce1-b69c-4c97-f840-34546e2ed8d0"
   },
   "outputs": [
    {
     "data": {
      "text/plain": [
       "Sexo                                0\n",
       "Edad                                0\n",
       "Seguro                              0\n",
       "Regimen_pension                     0\n",
       "Plan_voluntario                     0\n",
       "Idioma                              0\n",
       "Trabajo                             0\n",
       "Zona                                0\n",
       "Nivel_educativo                     0\n",
       "Condicion_actividad                 0\n",
       "Grupo_horas_efectivas               0\n",
       "Condicion_aseguramiento             0\n",
       "Formalidad_informalidad             0\n",
       "Rango_ingreso_bruto_total_trabaj    0\n",
       "Grupo_edad                          0\n",
       "Tipo_seguro                         0\n",
       "dtype: int64"
      ]
     },
     "execution_count": 113,
     "metadata": {},
     "output_type": "execute_result"
    },
    {
     "data": {
      "application/javascript": [
       "\n",
       "            setTimeout(function() {\n",
       "                var nbb_cell_id = 113;\n",
       "                var nbb_unformatted_code = \"# let's check missing values in the data again\\ndata.isna().sum()\";\n",
       "                var nbb_formatted_code = \"# let's check missing values in the data again\\ndata.isna().sum()\";\n",
       "                var nbb_cells = Jupyter.notebook.get_cells();\n",
       "                for (var i = 0; i < nbb_cells.length; ++i) {\n",
       "                    if (nbb_cells[i].input_prompt_number == nbb_cell_id) {\n",
       "                        if (nbb_cells[i].get_text() == nbb_unformatted_code) {\n",
       "                             nbb_cells[i].set_text(nbb_formatted_code);\n",
       "                        }\n",
       "                        break;\n",
       "                    }\n",
       "                }\n",
       "            }, 500);\n",
       "            "
      ],
      "text/plain": [
       "<IPython.core.display.Javascript object>"
      ]
     },
     "metadata": {},
     "output_type": "display_data"
    }
   ],
   "source": [
    "# let's check missing values in the data again\n",
    "data.isna().sum()"
   ]
  },
  {
   "cell_type": "code",
   "execution_count": 114,
   "metadata": {
    "colab": {
     "base_uri": "https://localhost:8080/",
     "height": 17
    },
    "id": "gZx7YHM865z1",
    "outputId": "ccf10a21-dcef-4bb5-8c2c-e8f0d55c903b"
   },
   "outputs": [
    {
     "data": {
      "application/javascript": [
       "\n",
       "            setTimeout(function() {\n",
       "                var nbb_cell_id = 114;\n",
       "                var nbb_unformatted_code = \"# Let's impute missing values using mean value\\n# data[cols] = data[cols].fillna(data[cols].mean())\";\n",
       "                var nbb_formatted_code = \"# Let's impute missing values using mean value\\n# data[cols] = data[cols].fillna(data[cols].mean())\";\n",
       "                var nbb_cells = Jupyter.notebook.get_cells();\n",
       "                for (var i = 0; i < nbb_cells.length; ++i) {\n",
       "                    if (nbb_cells[i].input_prompt_number == nbb_cell_id) {\n",
       "                        if (nbb_cells[i].get_text() == nbb_unformatted_code) {\n",
       "                             nbb_cells[i].set_text(nbb_formatted_code);\n",
       "                        }\n",
       "                        break;\n",
       "                    }\n",
       "                }\n",
       "            }, 500);\n",
       "            "
      ],
      "text/plain": [
       "<IPython.core.display.Javascript object>"
      ]
     },
     "metadata": {},
     "output_type": "display_data"
    }
   ],
   "source": [
    "# Let's impute missing values using mean value\n",
    "# data[cols] = data[cols].fillna(data[cols].mean())"
   ]
  },
  {
   "cell_type": "code",
   "execution_count": 115,
   "metadata": {
    "colab": {
     "base_uri": "https://localhost:8080/",
     "height": 191
    },
    "id": "fjL0CLkn65z1",
    "outputId": "b77a95ff-032f-469a-acf4-cc9d74ac64c0"
   },
   "outputs": [
    {
     "data": {
      "text/plain": [
       "Sexo                                0\n",
       "Edad                                0\n",
       "Seguro                              0\n",
       "Regimen_pension                     0\n",
       "Plan_voluntario                     0\n",
       "Idioma                              0\n",
       "Trabajo                             0\n",
       "Zona                                0\n",
       "Nivel_educativo                     0\n",
       "Condicion_actividad                 0\n",
       "Grupo_horas_efectivas               0\n",
       "Condicion_aseguramiento             0\n",
       "Formalidad_informalidad             0\n",
       "Rango_ingreso_bruto_total_trabaj    0\n",
       "Grupo_edad                          0\n",
       "Tipo_seguro                         0\n",
       "dtype: int64"
      ]
     },
     "execution_count": 115,
     "metadata": {},
     "output_type": "execute_result"
    },
    {
     "data": {
      "application/javascript": [
       "\n",
       "            setTimeout(function() {\n",
       "                var nbb_cell_id = 115;\n",
       "                var nbb_unformatted_code = \"# let's check missing values in the data again\\ndata.isna().sum()\";\n",
       "                var nbb_formatted_code = \"# let's check missing values in the data again\\ndata.isna().sum()\";\n",
       "                var nbb_cells = Jupyter.notebook.get_cells();\n",
       "                for (var i = 0; i < nbb_cells.length; ++i) {\n",
       "                    if (nbb_cells[i].input_prompt_number == nbb_cell_id) {\n",
       "                        if (nbb_cells[i].get_text() == nbb_unformatted_code) {\n",
       "                             nbb_cells[i].set_text(nbb_formatted_code);\n",
       "                        }\n",
       "                        break;\n",
       "                    }\n",
       "                }\n",
       "            }, 500);\n",
       "            "
      ],
      "text/plain": [
       "<IPython.core.display.Javascript object>"
      ]
     },
     "metadata": {},
     "output_type": "display_data"
    }
   ],
   "source": [
    "# let's check missing values in the data again\n",
    "data.isna().sum()"
   ]
  },
  {
   "cell_type": "code",
   "execution_count": 116,
   "metadata": {},
   "outputs": [
    {
     "name": "stdout",
     "output_type": "stream",
     "text": [
      "<class 'pandas.core.frame.DataFrame'>\n",
      "Index: 5353 entries, 1 to 22889\n",
      "Data columns (total 16 columns):\n",
      " #   Column                            Non-Null Count  Dtype   \n",
      "---  ------                            --------------  -----   \n",
      " 0   Sexo                              5353 non-null   float64 \n",
      " 1   Edad                              5353 non-null   float64 \n",
      " 2   Seguro                            5353 non-null   category\n",
      " 3   Regimen_pension                   5353 non-null   category\n",
      " 4   Plan_voluntario                   5353 non-null   float64 \n",
      " 5   Idioma                            5353 non-null   float64 \n",
      " 6   Trabajo                           5353 non-null   float64 \n",
      " 7   Zona                              5353 non-null   float64 \n",
      " 8   Nivel_educativo                   5353 non-null   float64 \n",
      " 9   Condicion_actividad               5353 non-null   float64 \n",
      " 10  Grupo_horas_efectivas             5353 non-null   float64 \n",
      " 11  Condicion_aseguramiento           5353 non-null   float64 \n",
      " 12  Formalidad_informalidad           5353 non-null   float64 \n",
      " 13  Rango_ingreso_bruto_total_trabaj  5353 non-null   float64 \n",
      " 14  Grupo_edad                        5353 non-null   float64 \n",
      " 15  Tipo_seguro                       5353 non-null   category\n",
      "dtypes: category(3), float64(13)\n",
      "memory usage: 601.8 KB\n"
     ]
    },
    {
     "data": {
      "application/javascript": [
       "\n",
       "            setTimeout(function() {\n",
       "                var nbb_cell_id = 116;\n",
       "                var nbb_unformatted_code = \"data.info()\";\n",
       "                var nbb_formatted_code = \"data.info()\";\n",
       "                var nbb_cells = Jupyter.notebook.get_cells();\n",
       "                for (var i = 0; i < nbb_cells.length; ++i) {\n",
       "                    if (nbb_cells[i].input_prompt_number == nbb_cell_id) {\n",
       "                        if (nbb_cells[i].get_text() == nbb_unformatted_code) {\n",
       "                             nbb_cells[i].set_text(nbb_formatted_code);\n",
       "                        }\n",
       "                        break;\n",
       "                    }\n",
       "                }\n",
       "            }, 500);\n",
       "            "
      ],
      "text/plain": [
       "<IPython.core.display.Javascript object>"
      ]
     },
     "metadata": {},
     "output_type": "display_data"
    }
   ],
   "source": [
    "data.info()"
   ]
  },
  {
   "cell_type": "markdown",
   "metadata": {
    "id": "ml2H0JSW65z2"
   },
   "source": [
    "### Bivariate Analysis"
   ]
  },
  {
   "cell_type": "code",
   "execution_count": 117,
   "metadata": {
    "colab": {
     "base_uri": "https://localhost:8080/",
     "height": 432
    },
    "id": "d1j4u1IZ65z2",
    "outputId": "c4d86942-6294-4504-9e05-679715974bfb"
   },
   "outputs": [
    {
     "data": {
      "image/png": "[encoded data removed]",
      "text/plain": [
       "<Figure size 1000x500 with 2 Axes>"
      ]
     },
     "metadata": {},
     "output_type": "display_data"
    },
    {
     "data": {
      "application/javascript": [
       "\n",
       "            setTimeout(function() {\n",
       "                var nbb_cell_id = 117;\n",
       "                var nbb_unformatted_code = \"plt.figure(figsize=(10, 5))\\nsns.heatmap(\\n    data[\\n        [\\n            \\\"Trabajo\\\",\\n            \\\"Sexo\\\",\\n            \\\"Grupo_horas_efectivas\\\",\\n            \\\"Nivel_educativo\\\",\\n            \\\"Edad\\\",\\n            \\\"Formalidad_informalidad\\\",\\n            \\\"Rango_ingreso_bruto_total_trabaj\\\",\\n        ]\\n    ].corr(),\\n    annot=True,\\n    vmin=-1,\\n    vmax=1,\\n)\\nplt.show()\";\n",
       "                var nbb_formatted_code = \"plt.figure(figsize=(10, 5))\\nsns.heatmap(\\n    data[\\n        [\\n            \\\"Trabajo\\\",\\n            \\\"Sexo\\\",\\n            \\\"Grupo_horas_efectivas\\\",\\n            \\\"Nivel_educativo\\\",\\n            \\\"Edad\\\",\\n            \\\"Formalidad_informalidad\\\",\\n            \\\"Rango_ingreso_bruto_total_trabaj\\\",\\n        ]\\n    ].corr(),\\n    annot=True,\\n    vmin=-1,\\n    vmax=1,\\n)\\nplt.show()\";\n",
       "                var nbb_cells = Jupyter.notebook.get_cells();\n",
       "                for (var i = 0; i < nbb_cells.length; ++i) {\n",
       "                    if (nbb_cells[i].input_prompt_number == nbb_cell_id) {\n",
       "                        if (nbb_cells[i].get_text() == nbb_unformatted_code) {\n",
       "                             nbb_cells[i].set_text(nbb_formatted_code);\n",
       "                        }\n",
       "                        break;\n",
       "                    }\n",
       "                }\n",
       "            }, 500);\n",
       "            "
      ],
      "text/plain": [
       "<IPython.core.display.Javascript object>"
      ]
     },
     "metadata": {},
     "output_type": "display_data"
    }
   ],
   "source": [
    "plt.figure(figsize=(10, 5))\n",
    "sns.heatmap(\n",
    "    data[\n",
    "        [\n",
    "            \"Trabajo\",\n",
    "            \"Sexo\",\n",
    "            \"Grupo_horas_efectivas\",\n",
    "            \"Nivel_educativo\",\n",
    "            \"Edad\",\n",
    "            \"Formalidad_informalidad\",\n",
    "            \"Rango_ingreso_bruto_total_trabaj\",\n",
    "        ]\n",
    "    ].corr(),\n",
    "    annot=True,\n",
    "    vmin=-1,\n",
    "    vmax=1,\n",
    ")\n",
    "plt.show()"
   ]
  },
  {
   "cell_type": "code",
   "execution_count": 118,
   "metadata": {
    "colab": {
     "base_uri": "https://localhost:8080/",
     "height": 1000
    },
    "id": "8djqMQql65z3",
    "outputId": "76506f0a-a2ea-47a1-d3dd-45685850858e"
   },
   "outputs": [
    {
     "data": {
      "image/png": "[encoded data removed]",
      "text/plain": [
       "<Figure size 1500x1500 with 42 Axes>"
      ]
     },
     "metadata": {},
     "output_type": "display_data"
    },
    {
     "data": {
      "application/javascript": [
       "\n",
       "            setTimeout(function() {\n",
       "                var nbb_cell_id = 118;\n",
       "                var nbb_unformatted_code = \"sns.pairplot(\\n    data[\\n        [\\n            \\\"Sexo\\\",\\n            \\\"Grupo_horas_efectivas\\\",\\n            \\\"Nivel_educativo\\\",\\n            \\\"Edad\\\",\\n            \\\"Formalidad_informalidad\\\",\\n            \\\"Rango_ingreso_bruto_total_trabaj\\\",\\n        ]\\n    ]\\n)\\nplt.show()\";\n",
       "                var nbb_formatted_code = \"sns.pairplot(\\n    data[\\n        [\\n            \\\"Sexo\\\",\\n            \\\"Grupo_horas_efectivas\\\",\\n            \\\"Nivel_educativo\\\",\\n            \\\"Edad\\\",\\n            \\\"Formalidad_informalidad\\\",\\n            \\\"Rango_ingreso_bruto_total_trabaj\\\",\\n        ]\\n    ]\\n)\\nplt.show()\";\n",
       "                var nbb_cells = Jupyter.notebook.get_cells();\n",
       "                for (var i = 0; i < nbb_cells.length; ++i) {\n",
       "                    if (nbb_cells[i].input_prompt_number == nbb_cell_id) {\n",
       "                        if (nbb_cells[i].get_text() == nbb_unformatted_code) {\n",
       "                             nbb_cells[i].set_text(nbb_formatted_code);\n",
       "                        }\n",
       "                        break;\n",
       "                    }\n",
       "                }\n",
       "            }, 500);\n",
       "            "
      ],
      "text/plain": [
       "<IPython.core.display.Javascript object>"
      ]
     },
     "metadata": {},
     "output_type": "display_data"
    }
   ],
   "source": [
    "sns.pairplot(\n",
    "    data[\n",
    "        [\n",
    "            \"Sexo\",\n",
    "            \"Grupo_horas_efectivas\",\n",
    "            \"Nivel_educativo\",\n",
    "            \"Edad\",\n",
    "            \"Formalidad_informalidad\",\n",
    "            \"Rango_ingreso_bruto_total_trabaj\",\n",
    "        ]\n",
    "    ]\n",
    ")\n",
    "plt.show()"
   ]
  },
  {
   "cell_type": "code",
   "execution_count": 119,
   "metadata": {
    "scrolled": false
   },
   "outputs": [
    {
     "data": {
      "text/plain": [
       "<Axes: ylabel='Trabajo'>"
      ]
     },
     "execution_count": 119,
     "metadata": {},
     "output_type": "execute_result"
    },
    {
     "data": {
      "image/png": "[encoded data removed]",
      "text/plain": [
       "<Figure size 640x480 with 1 Axes>"
      ]
     },
     "metadata": {},
     "output_type": "display_data"
    },
    {
     "data": {
      "application/javascript": [
       "\n",
       "            setTimeout(function() {\n",
       "                var nbb_cell_id = 119;\n",
       "                var nbb_unformatted_code = \"sns.scatterplot(data=data, x=data.index, y=\\\"Trabajo\\\")\";\n",
       "                var nbb_formatted_code = \"sns.scatterplot(data=data, x=data.index, y=\\\"Trabajo\\\")\";\n",
       "                var nbb_cells = Jupyter.notebook.get_cells();\n",
       "                for (var i = 0; i < nbb_cells.length; ++i) {\n",
       "                    if (nbb_cells[i].input_prompt_number == nbb_cell_id) {\n",
       "                        if (nbb_cells[i].get_text() == nbb_unformatted_code) {\n",
       "                             nbb_cells[i].set_text(nbb_formatted_code);\n",
       "                        }\n",
       "                        break;\n",
       "                    }\n",
       "                }\n",
       "            }, 500);\n",
       "            "
      ],
      "text/plain": [
       "<IPython.core.display.Javascript object>"
      ]
     },
     "metadata": {},
     "output_type": "display_data"
    }
   ],
   "source": [
    "sns.scatterplot(data=data, x=data.index, y=\"Trabajo\")"
   ]
  },
  {
   "cell_type": "markdown",
   "metadata": {},
   "source": [
    "##  Principal Problema"
   ]
  },
  {
   "cell_type": "code",
   "execution_count": 120,
   "metadata": {
    "colab": {
     "base_uri": "https://localhost:8080/",
     "height": 69
    },
    "id": "hFfXKifn65z3",
    "outputId": "00020f53-e922-46d3-f6a0-28719d80dc58"
   },
   "outputs": [
    {
     "data": {
      "text/plain": [
       "Trabajo\n",
       "1.0    5012\n",
       "0.0     341\n",
       "Name: count, dtype: int64"
      ]
     },
     "execution_count": 120,
     "metadata": {},
     "output_type": "execute_result"
    },
    {
     "data": {
      "application/javascript": [
       "\n",
       "            setTimeout(function() {\n",
       "                var nbb_cell_id = 120;\n",
       "                var nbb_unformatted_code = \"data[\\\"Trabajo\\\"].value_counts()\";\n",
       "                var nbb_formatted_code = \"data[\\\"Trabajo\\\"].value_counts()\";\n",
       "                var nbb_cells = Jupyter.notebook.get_cells();\n",
       "                for (var i = 0; i < nbb_cells.length; ++i) {\n",
       "                    if (nbb_cells[i].input_prompt_number == nbb_cell_id) {\n",
       "                        if (nbb_cells[i].get_text() == nbb_unformatted_code) {\n",
       "                             nbb_cells[i].set_text(nbb_formatted_code);\n",
       "                        }\n",
       "                        break;\n",
       "                    }\n",
       "                }\n",
       "            }, 500);\n",
       "            "
      ],
      "text/plain": [
       "<IPython.core.display.Javascript object>"
      ]
     },
     "metadata": {},
     "output_type": "display_data"
    }
   ],
   "source": [
    "data[\"Trabajo\"].value_counts()"
   ]
  },
  {
   "cell_type": "code",
   "execution_count": 121,
   "metadata": {
    "colab": {
     "base_uri": "https://localhost:8080/",
     "height": 69
    },
    "id": "Is8ME2Mh65z4",
    "outputId": "fac1df96-d3bc-4a6f-b529-a0b2351200ec"
   },
   "outputs": [
    {
     "data": {
      "text/plain": [
       "Trabajo\n",
       "1.0    0.936297\n",
       "0.0    0.063703\n",
       "Name: proportion, dtype: float64"
      ]
     },
     "execution_count": 121,
     "metadata": {},
     "output_type": "execute_result"
    },
    {
     "data": {
      "application/javascript": [
       "\n",
       "            setTimeout(function() {\n",
       "                var nbb_cell_id = 121;\n",
       "                var nbb_unformatted_code = \"data[\\\"Trabajo\\\"].value_counts(1)\";\n",
       "                var nbb_formatted_code = \"data[\\\"Trabajo\\\"].value_counts(1)\";\n",
       "                var nbb_cells = Jupyter.notebook.get_cells();\n",
       "                for (var i = 0; i < nbb_cells.length; ++i) {\n",
       "                    if (nbb_cells[i].input_prompt_number == nbb_cell_id) {\n",
       "                        if (nbb_cells[i].get_text() == nbb_unformatted_code) {\n",
       "                             nbb_cells[i].set_text(nbb_formatted_code);\n",
       "                        }\n",
       "                        break;\n",
       "                    }\n",
       "                }\n",
       "            }, 500);\n",
       "            "
      ],
      "text/plain": [
       "<IPython.core.display.Javascript object>"
      ]
     },
     "metadata": {},
     "output_type": "display_data"
    }
   ],
   "source": [
    "data[\"Trabajo\"].value_counts(1)"
   ]
  },
  {
   "cell_type": "markdown",
   "metadata": {},
   "source": [
    "## En la base de datos casi todos estan empleado por ende emplear un 0.5 sin diferenciar va a hacer que el modelo sea malo para predecir"
   ]
  },
  {
   "cell_type": "code",
   "execution_count": 122,
   "metadata": {
    "colab": {
     "base_uri": "https://localhost:8080/",
     "height": 17
    },
    "id": "mAnWpazr65z5",
    "outputId": "969fa7d5-9d12-4d1b-ad17-5441ce9af0c7"
   },
   "outputs": [
    {
     "data": {
      "application/javascript": [
       "\n",
       "            setTimeout(function() {\n",
       "                var nbb_cell_id = 122;\n",
       "                var nbb_unformatted_code = \"X = data[\\n    [\\n        \\\"Sexo\\\",\\n        \\\"Grupo_horas_efectivas\\\",\\n        \\\"Nivel_educativo\\\",\\n        \\\"Edad\\\",\\n        \\\"Formalidad_informalidad\\\",\\n    ]\\n]\\nY = data[\\\"Trabajo\\\"]\\n\\nX = add_constant(X)\";\n",
       "                var nbb_formatted_code = \"X = data[\\n    [\\n        \\\"Sexo\\\",\\n        \\\"Grupo_horas_efectivas\\\",\\n        \\\"Nivel_educativo\\\",\\n        \\\"Edad\\\",\\n        \\\"Formalidad_informalidad\\\",\\n    ]\\n]\\nY = data[\\\"Trabajo\\\"]\\n\\nX = add_constant(X)\";\n",
       "                var nbb_cells = Jupyter.notebook.get_cells();\n",
       "                for (var i = 0; i < nbb_cells.length; ++i) {\n",
       "                    if (nbb_cells[i].input_prompt_number == nbb_cell_id) {\n",
       "                        if (nbb_cells[i].get_text() == nbb_unformatted_code) {\n",
       "                             nbb_cells[i].set_text(nbb_formatted_code);\n",
       "                        }\n",
       "                        break;\n",
       "                    }\n",
       "                }\n",
       "            }, 500);\n",
       "            "
      ],
      "text/plain": [
       "<IPython.core.display.Javascript object>"
      ]
     },
     "metadata": {},
     "output_type": "display_data"
    }
   ],
   "source": [
    "X = data[\n",
    "    [\n",
    "        \"Sexo\",\n",
    "        \"Grupo_horas_efectivas\",\n",
    "        \"Nivel_educativo\",\n",
    "        \"Edad\",\n",
    "        \"Formalidad_informalidad\",\n",
    "    ]\n",
    "]\n",
    "Y = data[\"Trabajo\"]\n",
    "\n",
    "X = add_constant(X)\n"
   ]
  },
  {
   "cell_type": "code",
   "execution_count": 123,
   "metadata": {},
   "outputs": [
    {
     "name": "stdout",
     "output_type": "stream",
     "text": [
      "<class 'pandas.core.frame.DataFrame'>\n",
      "Index: 5353 entries, 1 to 22889\n",
      "Data columns (total 6 columns):\n",
      " #   Column                   Non-Null Count  Dtype  \n",
      "---  ------                   --------------  -----  \n",
      " 0   const                    5353 non-null   float64\n",
      " 1   Sexo                     5353 non-null   float64\n",
      " 2   Grupo_horas_efectivas    5353 non-null   float64\n",
      " 3   Nivel_educativo          5353 non-null   float64\n",
      " 4   Edad                     5353 non-null   float64\n",
      " 5   Formalidad_informalidad  5353 non-null   float64\n",
      "dtypes: float64(6)\n",
      "memory usage: 292.7 KB\n"
     ]
    },
    {
     "data": {
      "application/javascript": [
       "\n",
       "            setTimeout(function() {\n",
       "                var nbb_cell_id = 123;\n",
       "                var nbb_unformatted_code = \"X.info()\";\n",
       "                var nbb_formatted_code = \"X.info()\";\n",
       "                var nbb_cells = Jupyter.notebook.get_cells();\n",
       "                for (var i = 0; i < nbb_cells.length; ++i) {\n",
       "                    if (nbb_cells[i].input_prompt_number == nbb_cell_id) {\n",
       "                        if (nbb_cells[i].get_text() == nbb_unformatted_code) {\n",
       "                             nbb_cells[i].set_text(nbb_formatted_code);\n",
       "                        }\n",
       "                        break;\n",
       "                    }\n",
       "                }\n",
       "            }, 500);\n",
       "            "
      ],
      "text/plain": [
       "<IPython.core.display.Javascript object>"
      ]
     },
     "metadata": {},
     "output_type": "display_data"
    }
   ],
   "source": [
    "X.info()"
   ]
  },
  {
   "cell_type": "code",
   "execution_count": 124,
   "metadata": {},
   "outputs": [
    {
     "name": "stdout",
     "output_type": "stream",
     "text": [
      "<class 'pandas.core.series.Series'>\n",
      "Index: 5353 entries, 1 to 22889\n",
      "Series name: Trabajo\n",
      "Non-Null Count  Dtype  \n",
      "--------------  -----  \n",
      "5353 non-null   float64\n",
      "dtypes: float64(1)\n",
      "memory usage: 83.6 KB\n"
     ]
    },
    {
     "data": {
      "application/javascript": [
       "\n",
       "            setTimeout(function() {\n",
       "                var nbb_cell_id = 124;\n",
       "                var nbb_unformatted_code = \"Y.info()\";\n",
       "                var nbb_formatted_code = \"Y.info()\";\n",
       "                var nbb_cells = Jupyter.notebook.get_cells();\n",
       "                for (var i = 0; i < nbb_cells.length; ++i) {\n",
       "                    if (nbb_cells[i].input_prompt_number == nbb_cell_id) {\n",
       "                        if (nbb_cells[i].get_text() == nbb_unformatted_code) {\n",
       "                             nbb_cells[i].set_text(nbb_formatted_code);\n",
       "                        }\n",
       "                        break;\n",
       "                    }\n",
       "                }\n",
       "            }, 500);\n",
       "            "
      ],
      "text/plain": [
       "<IPython.core.display.Javascript object>"
      ]
     },
     "metadata": {},
     "output_type": "display_data"
    }
   ],
   "source": [
    "Y.info()"
   ]
  },
  {
   "cell_type": "code",
   "execution_count": 125,
   "metadata": {},
   "outputs": [
    {
     "data": {
      "text/plain": [
       "<matplotlib.collections.PathCollection at 0x22b3e152220>"
      ]
     },
     "execution_count": 125,
     "metadata": {},
     "output_type": "execute_result"
    },
    {
     "data": {
      "image/png": "[encoded data removed]",
      "text/plain": [
       "<Figure size 800x600 with 1 Axes>"
      ]
     },
     "metadata": {},
     "output_type": "display_data"
    },
    {
     "data": {
      "application/javascript": [
       "\n",
       "            setTimeout(function() {\n",
       "                var nbb_cell_id = 125;\n",
       "                var nbb_unformatted_code = \"# Crear una figura y ejes para el gr\\u00e1fico\\nfig, ax = plt.subplots(figsize=(8, 6))\\n\\n# Graficar los datos\\nax.scatter(X.index,Y, color='b', label='Datos', marker='o')\";\n",
       "                var nbb_formatted_code = \"# Crear una figura y ejes para el gr\\u00e1fico\\nfig, ax = plt.subplots(figsize=(8, 6))\\n\\n# Graficar los datos\\nax.scatter(X.index, Y, color=\\\"b\\\", label=\\\"Datos\\\", marker=\\\"o\\\")\";\n",
       "                var nbb_cells = Jupyter.notebook.get_cells();\n",
       "                for (var i = 0; i < nbb_cells.length; ++i) {\n",
       "                    if (nbb_cells[i].input_prompt_number == nbb_cell_id) {\n",
       "                        if (nbb_cells[i].get_text() == nbb_unformatted_code) {\n",
       "                             nbb_cells[i].set_text(nbb_formatted_code);\n",
       "                        }\n",
       "                        break;\n",
       "                    }\n",
       "                }\n",
       "            }, 500);\n",
       "            "
      ],
      "text/plain": [
       "<IPython.core.display.Javascript object>"
      ]
     },
     "metadata": {},
     "output_type": "display_data"
    }
   ],
   "source": [
    "# Crear una figura y ejes para el gráfico\n",
    "fig, ax = plt.subplots(figsize=(8, 6))\n",
    "\n",
    "# Graficar los datos\n",
    "ax.scatter(X.index,Y, color='b', label='Datos', marker='o')\n"
   ]
  },
  {
   "cell_type": "markdown",
   "metadata": {},
   "source": [
    "## Hacemos el modelo"
   ]
  },
  {
   "cell_type": "code",
   "execution_count": 126,
   "metadata": {
    "colab": {
     "base_uri": "https://localhost:8080/",
     "height": 69
    },
    "id": "J03N62J065z6",
    "outputId": "8869ee18-823d-4c1a-cb84-fa47463e27b8"
   },
   "outputs": [
    {
     "name": "stdout",
     "output_type": "stream",
     "text": [
      "Optimization terminated successfully.\n",
      "         Current function value: 0.208655\n",
      "         Iterations 8\n"
     ]
    },
    {
     "data": {
      "application/javascript": [
       "\n",
       "            setTimeout(function() {\n",
       "                var nbb_cell_id = 126;\n",
       "                var nbb_unformatted_code = \"logit = sm.Logit(Y, X)\\nlg = logit.fit()\";\n",
       "                var nbb_formatted_code = \"logit = sm.Logit(Y, X)\\nlg = logit.fit()\";\n",
       "                var nbb_cells = Jupyter.notebook.get_cells();\n",
       "                for (var i = 0; i < nbb_cells.length; ++i) {\n",
       "                    if (nbb_cells[i].input_prompt_number == nbb_cell_id) {\n",
       "                        if (nbb_cells[i].get_text() == nbb_unformatted_code) {\n",
       "                             nbb_cells[i].set_text(nbb_formatted_code);\n",
       "                        }\n",
       "                        break;\n",
       "                    }\n",
       "                }\n",
       "            }, 500);\n",
       "            "
      ],
      "text/plain": [
       "<IPython.core.display.Javascript object>"
      ]
     },
     "metadata": {},
     "output_type": "display_data"
    }
   ],
   "source": [
    "logit = sm.Logit(Y, X)\n",
    "lg = logit.fit()"
   ]
  },
  {
   "cell_type": "code",
   "execution_count": 127,
   "metadata": {
    "colab": {
     "base_uri": "https://localhost:8080/",
     "height": 399
    },
    "id": "7Fqk03By65z6",
    "outputId": "f5730f82-6529-4930-ccfc-9e356b489cf7"
   },
   "outputs": [
    {
     "name": "stdout",
     "output_type": "stream",
     "text": [
      "                           Logit Regression Results                           \n",
      "==============================================================================\n",
      "Dep. Variable:                Trabajo   No. Observations:                 5353\n",
      "Model:                          Logit   Df Residuals:                     5347\n",
      "Method:                           MLE   Df Model:                            5\n",
      "Date:                Sun, 12 Nov 2023   Pseudo R-squ.:                  0.1197\n",
      "Time:                        12:53:05   Log-Likelihood:                -1116.9\n",
      "converged:                       True   LL-Null:                       -1268.9\n",
      "Covariance Type:            nonrobust   LLR p-value:                 1.494e-63\n",
      "===========================================================================================\n",
      "                              coef    std err          z      P>|z|      [0.025      0.975]\n",
      "-------------------------------------------------------------------------------------------\n",
      "const                       5.0718      0.405     12.532      0.000       4.279       5.865\n",
      "Sexo                        0.5579      0.124      4.506      0.000       0.315       0.801\n",
      "Grupo_horas_efectivas       0.5666      0.099      5.727      0.000       0.373       0.760\n",
      "Nivel_educativo            -0.4293      0.041    -10.523      0.000      -0.509      -0.349\n",
      "Edad                       -0.0293      0.005     -5.661      0.000      -0.039      -0.019\n",
      "Formalidad_informalidad    -0.8513      0.209     -4.072      0.000      -1.261      -0.442\n",
      "===========================================================================================\n"
     ]
    },
    {
     "data": {
      "application/javascript": [
       "\n",
       "            setTimeout(function() {\n",
       "                var nbb_cell_id = 127;\n",
       "                var nbb_unformatted_code = \"# Vemos los resultados\\nprint(lg.summary())\";\n",
       "                var nbb_formatted_code = \"# Vemos los resultados\\nprint(lg.summary())\";\n",
       "                var nbb_cells = Jupyter.notebook.get_cells();\n",
       "                for (var i = 0; i < nbb_cells.length; ++i) {\n",
       "                    if (nbb_cells[i].input_prompt_number == nbb_cell_id) {\n",
       "                        if (nbb_cells[i].get_text() == nbb_unformatted_code) {\n",
       "                             nbb_cells[i].set_text(nbb_formatted_code);\n",
       "                        }\n",
       "                        break;\n",
       "                    }\n",
       "                }\n",
       "            }, 500);\n",
       "            "
      ],
      "text/plain": [
       "<IPython.core.display.Javascript object>"
      ]
     },
     "metadata": {},
     "output_type": "display_data"
    }
   ],
   "source": [
    "# Vemos los resultados\n",
    "print(lg.summary())"
   ]
  },
  {
   "cell_type": "markdown",
   "metadata": {},
   "source": [
    "## Cumple con: \n",
    "- Todas son signficativas \n",
    "- La razón de verosimilitud es significativo por ende globalmente funciona el modelo "
   ]
  },
  {
   "cell_type": "code",
   "execution_count": 128,
   "metadata": {},
   "outputs": [
    {
     "data": {
      "text/plain": [
       "const                      5.071802\n",
       "Sexo                       0.557883\n",
       "Grupo_horas_efectivas      0.566558\n",
       "Nivel_educativo           -0.429344\n",
       "Edad                      -0.029310\n",
       "Formalidad_informalidad   -0.851287\n",
       "dtype: float64"
      ]
     },
     "execution_count": 128,
     "metadata": {},
     "output_type": "execute_result"
    },
    {
     "data": {
      "application/javascript": [
       "\n",
       "            setTimeout(function() {\n",
       "                var nbb_cell_id = 128;\n",
       "                var nbb_unformatted_code = \"lg.params\";\n",
       "                var nbb_formatted_code = \"lg.params\";\n",
       "                var nbb_cells = Jupyter.notebook.get_cells();\n",
       "                for (var i = 0; i < nbb_cells.length; ++i) {\n",
       "                    if (nbb_cells[i].input_prompt_number == nbb_cell_id) {\n",
       "                        if (nbb_cells[i].get_text() == nbb_unformatted_code) {\n",
       "                             nbb_cells[i].set_text(nbb_formatted_code);\n",
       "                        }\n",
       "                        break;\n",
       "                    }\n",
       "                }\n",
       "            }, 500);\n",
       "            "
      ],
      "text/plain": [
       "<IPython.core.display.Javascript object>"
      ]
     },
     "metadata": {},
     "output_type": "display_data"
    }
   ],
   "source": [
    "lg.params"
   ]
  },
  {
   "cell_type": "markdown",
   "metadata": {},
   "source": [
    "## Ahora para cambiar el límite de probabilidad se puede usar la intercección entre accuracy y recall que son criterios de información relevantes "
   ]
  },
  {
   "cell_type": "code",
   "execution_count": 129,
   "metadata": {},
   "outputs": [
    {
     "data": {
      "image/png": "[encoded data removed]",
      "text/plain": [
       "<Figure size 1000x700 with 1 Axes>"
      ]
     },
     "metadata": {},
     "output_type": "display_data"
    },
    {
     "data": {
      "application/javascript": [
       "\n",
       "            setTimeout(function() {\n",
       "                var nbb_cell_id = 129;\n",
       "                var nbb_unformatted_code = \"y_scores = lg.predict(X)\\nprec, rec, tre = precision_recall_curve(\\n    Y,\\n    y_scores,\\n)\\n\\n\\ndef plot_prec_recall_vs_tresh(accuracy, recalls, thresholds):\\n    plt.plot(thresholds, accuracy[:-1], \\\"r--\\\", label=\\\"Acierto\\\")\\n    plt.plot(thresholds, recalls[:-1], \\\"b--\\\", label=\\\"Sensibilidad\\\")\\n    plt.xlabel(\\\"Threshold\\\")\\n    plt.legend(loc=\\\"best\\\")\\n    plt.ylim([0, 1])\\n\\n\\nplt.figure(figsize=(10, 7))\\nplot_prec_recall_vs_tresh(prec, rec, tre)\\nplt.show()\";\n",
       "                var nbb_formatted_code = \"y_scores = lg.predict(X)\\nprec, rec, tre = precision_recall_curve(\\n    Y,\\n    y_scores,\\n)\\n\\n\\ndef plot_prec_recall_vs_tresh(accuracy, recalls, thresholds):\\n    plt.plot(thresholds, accuracy[:-1], \\\"r--\\\", label=\\\"Acierto\\\")\\n    plt.plot(thresholds, recalls[:-1], \\\"b--\\\", label=\\\"Sensibilidad\\\")\\n    plt.xlabel(\\\"Threshold\\\")\\n    plt.legend(loc=\\\"best\\\")\\n    plt.ylim([0, 1])\\n\\n\\nplt.figure(figsize=(10, 7))\\nplot_prec_recall_vs_tresh(prec, rec, tre)\\nplt.show()\";\n",
       "                var nbb_cells = Jupyter.notebook.get_cells();\n",
       "                for (var i = 0; i < nbb_cells.length; ++i) {\n",
       "                    if (nbb_cells[i].input_prompt_number == nbb_cell_id) {\n",
       "                        if (nbb_cells[i].get_text() == nbb_unformatted_code) {\n",
       "                             nbb_cells[i].set_text(nbb_formatted_code);\n",
       "                        }\n",
       "                        break;\n",
       "                    }\n",
       "                }\n",
       "            }, 500);\n",
       "            "
      ],
      "text/plain": [
       "<IPython.core.display.Javascript object>"
      ]
     },
     "metadata": {},
     "output_type": "display_data"
    }
   ],
   "source": [
    "y_scores = lg.predict(X)\n",
    "prec, rec, tre = precision_recall_curve(\n",
    "    Y,\n",
    "    y_scores,\n",
    ")\n",
    "\n",
    "\n",
    "def plot_prec_recall_vs_tresh(accuracy, recalls, thresholds):\n",
    "    plt.plot(thresholds, accuracy[:-1], \"r--\", label=\"Acierto\")\n",
    "    plt.plot(thresholds, recalls[:-1], \"b--\", label=\"Sensibilidad\")\n",
    "    plt.xlabel(\"Threshold\")\n",
    "    plt.legend(loc=\"best\")\n",
    "    plt.ylim([0, 1])\n",
    "\n",
    "\n",
    "plt.figure(figsize=(10, 7))\n",
    "plot_prec_recall_vs_tresh(prec, rec, tre)\n",
    "plt.show()"
   ]
  },
  {
   "cell_type": "markdown",
   "metadata": {},
   "source": [
    "## El límite optimo para el la mejor predicción = 0.81"
   ]
  },
  {
   "cell_type": "code",
   "execution_count": 130,
   "metadata": {
    "colab": {
     "base_uri": "https://localhost:8080/",
     "height": 17
    },
    "id": "80IUdOg565z7",
    "outputId": "fa14753e-53ff-4c95-bd2c-939d15e4dae5"
   },
   "outputs": [
    {
     "data": {
      "application/javascript": [
       "\n",
       "            setTimeout(function() {\n",
       "                var nbb_cell_id = 130;\n",
       "                var nbb_unformatted_code = \"pred_train = lg.predict(X) > 0.81\\npred_train = np.round(pred_train)\";\n",
       "                var nbb_formatted_code = \"pred_train = lg.predict(X) > 0.81\\npred_train = np.round(pred_train)\";\n",
       "                var nbb_cells = Jupyter.notebook.get_cells();\n",
       "                for (var i = 0; i < nbb_cells.length; ++i) {\n",
       "                    if (nbb_cells[i].input_prompt_number == nbb_cell_id) {\n",
       "                        if (nbb_cells[i].get_text() == nbb_unformatted_code) {\n",
       "                             nbb_cells[i].set_text(nbb_formatted_code);\n",
       "                        }\n",
       "                        break;\n",
       "                    }\n",
       "                }\n",
       "            }, 500);\n",
       "            "
      ],
      "text/plain": [
       "<IPython.core.display.Javascript object>"
      ]
     },
     "metadata": {},
     "output_type": "display_data"
    }
   ],
   "source": [
    "pred_train = lg.predict(X) > 0.81\n",
    "pred_train = np.round(pred_train)"
   ]
  },
  {
   "cell_type": "code",
   "execution_count": 131,
   "metadata": {},
   "outputs": [
    {
     "data": {
      "application/javascript": [
       "\n",
       "            setTimeout(function() {\n",
       "                var nbb_cell_id = 131;\n",
       "                var nbb_unformatted_code = \"def HosmerLemeshow(model, Y):\\n    pihat = model.predict()\\n    pihatcat = pd.cut(\\n        pihat,\\n        np.percentile(pihat, [0, 25, 50, 75, 100]),\\n        labels=False,\\n        include_lowest=True,\\n    )  # here we've chosen only 4 groups\\n    meanprobs = [0] * 4\\n    expevents = [0] * 4\\n    obsevents = [0] * 4\\n    meanprobs2 = [0] * 4\\n    expevents2 = [0] * 4\\n    obsevents2 = [0] * 4\\n    for i in range(4):\\n        meanprobs[i] = np.mean(pihat[pihatcat == i])\\n        expevents[i] = np.sum(pihatcat == i) * np.array(meanprobs[i])\\n        obsevents[i] = np.sum(Y[pihatcat == i])\\n        meanprobs2[i] = np.mean(1 - pihat[pihatcat == i])\\n        expevents2[i] = np.sum(pihatcat == i) * np.array(meanprobs2[i])\\n        obsevents2[i] = np.sum(1 - Y[pihatcat == i])\\n    data1 = {\\\"meanprobs\\\": meanprobs, \\\"meanprobs2\\\": meanprobs2}\\n    data2 = {\\\"expevents\\\": expevents, \\\"expevents2\\\": expevents2}\\n    data3 = {\\\"obsevents\\\": obsevents, \\\"obsevents2\\\": obsevents2}\\n    m = pd.DataFrame(data1)\\n    e = pd.DataFrame(data2)\\n    o = pd.DataFrame(data3)\\n\\n    # The statistic for the test, which follows, under the null hypothesis,\\n    # The chi-squared distribution with degrees of freedom equal to amount of groups - 2. Thus 4 - 2 = 2\\n    tt = sum(sum((np.array(o) - np.array(e)) ** 2 / np.array(e)))\\n    pvalue = 1 - chi2.cdf(tt, 2)\\n    return pd.DataFrame(\\n        [[chi2.cdf(tt, 2).round(2), pvalue.round(2)]], columns=[\\\"Chi2\\\", \\\"p - value\\\"]\\n    )\";\n",
       "                var nbb_formatted_code = \"def HosmerLemeshow(model, Y):\\n    pihat = model.predict()\\n    pihatcat = pd.cut(\\n        pihat,\\n        np.percentile(pihat, [0, 25, 50, 75, 100]),\\n        labels=False,\\n        include_lowest=True,\\n    )  # here we've chosen only 4 groups\\n    meanprobs = [0] * 4\\n    expevents = [0] * 4\\n    obsevents = [0] * 4\\n    meanprobs2 = [0] * 4\\n    expevents2 = [0] * 4\\n    obsevents2 = [0] * 4\\n    for i in range(4):\\n        meanprobs[i] = np.mean(pihat[pihatcat == i])\\n        expevents[i] = np.sum(pihatcat == i) * np.array(meanprobs[i])\\n        obsevents[i] = np.sum(Y[pihatcat == i])\\n        meanprobs2[i] = np.mean(1 - pihat[pihatcat == i])\\n        expevents2[i] = np.sum(pihatcat == i) * np.array(meanprobs2[i])\\n        obsevents2[i] = np.sum(1 - Y[pihatcat == i])\\n    data1 = {\\\"meanprobs\\\": meanprobs, \\\"meanprobs2\\\": meanprobs2}\\n    data2 = {\\\"expevents\\\": expevents, \\\"expevents2\\\": expevents2}\\n    data3 = {\\\"obsevents\\\": obsevents, \\\"obsevents2\\\": obsevents2}\\n    m = pd.DataFrame(data1)\\n    e = pd.DataFrame(data2)\\n    o = pd.DataFrame(data3)\\n\\n    # The statistic for the test, which follows, under the null hypothesis,\\n    # The chi-squared distribution with degrees of freedom equal to amount of groups - 2. Thus 4 - 2 = 2\\n    tt = sum(sum((np.array(o) - np.array(e)) ** 2 / np.array(e)))\\n    pvalue = 1 - chi2.cdf(tt, 2)\\n    return pd.DataFrame(\\n        [[chi2.cdf(tt, 2).round(2), pvalue.round(2)]], columns=[\\\"Chi2\\\", \\\"p - value\\\"]\\n    )\";\n",
       "                var nbb_cells = Jupyter.notebook.get_cells();\n",
       "                for (var i = 0; i < nbb_cells.length; ++i) {\n",
       "                    if (nbb_cells[i].input_prompt_number == nbb_cell_id) {\n",
       "                        if (nbb_cells[i].get_text() == nbb_unformatted_code) {\n",
       "                             nbb_cells[i].set_text(nbb_formatted_code);\n",
       "                        }\n",
       "                        break;\n",
       "                    }\n",
       "                }\n",
       "            }, 500);\n",
       "            "
      ],
      "text/plain": [
       "<IPython.core.display.Javascript object>"
      ]
     },
     "metadata": {},
     "output_type": "display_data"
    }
   ],
   "source": [
    "def HosmerLemeshow(model, Y):\n",
    "    pihat = model.predict()\n",
    "    pihatcat = pd.cut(\n",
    "        pihat,\n",
    "        np.percentile(pihat, [0, 25, 50, 75, 100]),\n",
    "        labels=False,\n",
    "        include_lowest=True,\n",
    "    )  # here we've chosen only 4 groups\n",
    "    meanprobs = [0] * 4\n",
    "    expevents = [0] * 4\n",
    "    obsevents = [0] * 4\n",
    "    meanprobs2 = [0] * 4\n",
    "    expevents2 = [0] * 4\n",
    "    obsevents2 = [0] * 4\n",
    "    for i in range(4):\n",
    "        meanprobs[i] = np.mean(pihat[pihatcat == i])\n",
    "        expevents[i] = np.sum(pihatcat == i) * np.array(meanprobs[i])\n",
    "        obsevents[i] = np.sum(Y[pihatcat == i])\n",
    "        meanprobs2[i] = np.mean(1 - pihat[pihatcat == i])\n",
    "        expevents2[i] = np.sum(pihatcat == i) * np.array(meanprobs2[i])\n",
    "        obsevents2[i] = np.sum(1 - Y[pihatcat == i])\n",
    "    data1 = {\"meanprobs\": meanprobs, \"meanprobs2\": meanprobs2}\n",
    "    data2 = {\"expevents\": expevents, \"expevents2\": expevents2}\n",
    "    data3 = {\"obsevents\": obsevents, \"obsevents2\": obsevents2}\n",
    "    m = pd.DataFrame(data1)\n",
    "    e = pd.DataFrame(data2)\n",
    "    o = pd.DataFrame(data3)\n",
    "\n",
    "    # The statistic for the test, which follows, under the null hypothesis,\n",
    "    # The chi-squared distribution with degrees of freedom equal to amount of groups - 2. Thus 4 - 2 = 2\n",
    "    tt = sum(sum((np.array(o) - np.array(e)) ** 2 / np.array(e)))\n",
    "    pvalue = 1 - chi2.cdf(tt, 2)\n",
    "    return pd.DataFrame(\n",
    "        [[chi2.cdf(tt, 2).round(2), pvalue.round(2)]], columns=[\"Chi2\", \"p - value\"]\n",
    "    )"
   ]
  },
  {
   "cell_type": "markdown",
   "metadata": {},
   "source": [
    "## Realizamos el Hosmer Lemeshow "
   ]
  },
  {
   "cell_type": "code",
   "execution_count": 132,
   "metadata": {},
   "outputs": [
    {
     "data": {
      "text/html": [
       "<div>\n",
       "<style scoped>\n",
       "    .dataframe tbody tr th:only-of-type {\n",
       "        vertical-align: middle;\n",
       "    }\n",
       "\n",
       "    .dataframe tbody tr th {\n",
       "        vertical-align: top;\n",
       "    }\n",
       "\n",
       "    .dataframe thead th {\n",
       "        text-align: right;\n",
       "    }\n",
       "</style>\n",
       "<table border=\"1\" class=\"dataframe\">\n",
       "  <thead>\n",
       "    <tr style=\"text-align: right;\">\n",
       "      <th></th>\n",
       "      <th>Chi2</th>\n",
       "      <th>p - value</th>\n",
       "    </tr>\n",
       "  </thead>\n",
       "  <tbody>\n",
       "    <tr>\n",
       "      <th>0</th>\n",
       "      <td>0.87</td>\n",
       "      <td>0.13</td>\n",
       "    </tr>\n",
       "  </tbody>\n",
       "</table>\n",
       "</div>"
      ],
      "text/plain": [
       "   Chi2  p - value\n",
       "0  0.87       0.13"
      ]
     },
     "execution_count": 132,
     "metadata": {},
     "output_type": "execute_result"
    },
    {
     "data": {
      "application/javascript": [
       "\n",
       "            setTimeout(function() {\n",
       "                var nbb_cell_id = 132;\n",
       "                var nbb_unformatted_code = \"HosmerLemeshow(lg, Y)\";\n",
       "                var nbb_formatted_code = \"HosmerLemeshow(lg, Y)\";\n",
       "                var nbb_cells = Jupyter.notebook.get_cells();\n",
       "                for (var i = 0; i < nbb_cells.length; ++i) {\n",
       "                    if (nbb_cells[i].input_prompt_number == nbb_cell_id) {\n",
       "                        if (nbb_cells[i].get_text() == nbb_unformatted_code) {\n",
       "                             nbb_cells[i].set_text(nbb_formatted_code);\n",
       "                        }\n",
       "                        break;\n",
       "                    }\n",
       "                }\n",
       "            }, 500);\n",
       "            "
      ],
      "text/plain": [
       "<IPython.core.display.Javascript object>"
      ]
     },
     "metadata": {},
     "output_type": "display_data"
    }
   ],
   "source": [
    "HosmerLemeshow(lg, Y)"
   ]
  },
  {
   "cell_type": "markdown",
   "metadata": {},
   "source": [
    "### - Cumple tanto en python como en eviews"
   ]
  },
  {
   "cell_type": "markdown",
   "metadata": {
    "id": "LFoVIr0B65z7"
   },
   "source": [
    "## Realizamos una matriz de correctos e incorrectos "
   ]
  },
  {
   "cell_type": "code",
   "execution_count": 133,
   "metadata": {
    "colab": {
     "base_uri": "https://localhost:8080/",
     "height": 334
    },
    "id": "YLM6K4jH65z7",
    "outputId": "76f75fe3-4c50-4344-8b59-328c5c0e8703"
   },
   "outputs": [
    {
     "data": {
      "image/png": "[encoded data removed]",
      "text/plain": [
       "<Figure size 600x400 with 2 Axes>"
      ]
     },
     "metadata": {},
     "output_type": "display_data"
    },
    {
     "data": {
      "application/javascript": [
       "\n",
       "            setTimeout(function() {\n",
       "                var nbb_cell_id = 133;\n",
       "                var nbb_unformatted_code = \"confusion_matrix_statsmodels(lg, X, Y, threshold=0.81)\";\n",
       "                var nbb_formatted_code = \"confusion_matrix_statsmodels(lg, X, Y, threshold=0.81)\";\n",
       "                var nbb_cells = Jupyter.notebook.get_cells();\n",
       "                for (var i = 0; i < nbb_cells.length; ++i) {\n",
       "                    if (nbb_cells[i].input_prompt_number == nbb_cell_id) {\n",
       "                        if (nbb_cells[i].get_text() == nbb_unformatted_code) {\n",
       "                             nbb_cells[i].set_text(nbb_formatted_code);\n",
       "                        }\n",
       "                        break;\n",
       "                    }\n",
       "                }\n",
       "            }, 500);\n",
       "            "
      ],
      "text/plain": [
       "<IPython.core.display.Javascript object>"
      ]
     },
     "metadata": {},
     "output_type": "display_data"
    }
   ],
   "source": [
    "confusion_matrix_statsmodels(lg, X, Y, threshold=0.81)"
   ]
  },
  {
   "cell_type": "code",
   "execution_count": 134,
   "metadata": {
    "colab": {
     "base_uri": "https://localhost:8080/",
     "height": 35
    },
    "id": "EmwLNDQ665z8",
    "outputId": "1f39b1be-5fe0-49e2-e9cd-777f30c31fb3"
   },
   "outputs": [
    {
     "name": "stdout",
     "output_type": "stream",
     "text": [
      "Accuracy:  0.9049131328227162\n"
     ]
    },
    {
     "data": {
      "application/javascript": [
       "\n",
       "            setTimeout(function() {\n",
       "                var nbb_cell_id = 134;\n",
       "                var nbb_unformatted_code = \"print(\\\"Accuracy: \\\", accuracy_score(Y, pred_train))\";\n",
       "                var nbb_formatted_code = \"print(\\\"Accuracy: \\\", accuracy_score(Y, pred_train))\";\n",
       "                var nbb_cells = Jupyter.notebook.get_cells();\n",
       "                for (var i = 0; i < nbb_cells.length; ++i) {\n",
       "                    if (nbb_cells[i].input_prompt_number == nbb_cell_id) {\n",
       "                        if (nbb_cells[i].get_text() == nbb_unformatted_code) {\n",
       "                             nbb_cells[i].set_text(nbb_formatted_code);\n",
       "                        }\n",
       "                        break;\n",
       "                    }\n",
       "                }\n",
       "            }, 500);\n",
       "            "
      ],
      "text/plain": [
       "<IPython.core.display.Javascript object>"
      ]
     },
     "metadata": {},
     "output_type": "display_data"
    }
   ],
   "source": [
    "print(\"Accuracy: \", accuracy_score(Y, pred_train))"
   ]
  },
  {
   "cell_type": "code",
   "execution_count": 135,
   "metadata": {},
   "outputs": [
    {
     "name": "stdout",
     "output_type": "stream",
     "text": [
      "Recall  o sensibilidad :  0.9519154030327215\n"
     ]
    },
    {
     "data": {
      "application/javascript": [
       "\n",
       "            setTimeout(function() {\n",
       "                var nbb_cell_id = 135;\n",
       "                var nbb_unformatted_code = \"print(\\\"Recall  o sensibilidad : \\\", recall_score(Y, pred_train))\";\n",
       "                var nbb_formatted_code = \"print(\\\"Recall  o sensibilidad : \\\", recall_score(Y, pred_train))\";\n",
       "                var nbb_cells = Jupyter.notebook.get_cells();\n",
       "                for (var i = 0; i < nbb_cells.length; ++i) {\n",
       "                    if (nbb_cells[i].input_prompt_number == nbb_cell_id) {\n",
       "                        if (nbb_cells[i].get_text() == nbb_unformatted_code) {\n",
       "                             nbb_cells[i].set_text(nbb_formatted_code);\n",
       "                        }\n",
       "                        break;\n",
       "                    }\n",
       "                }\n",
       "            }, 500);\n",
       "            "
      ],
      "text/plain": [
       "<IPython.core.display.Javascript object>"
      ]
     },
     "metadata": {},
     "output_type": "display_data"
    }
   ],
   "source": [
    "print(\"Recall  o sensibilidad : \", recall_score(Y, pred_train))"
   ]
  },
  {
   "cell_type": "markdown",
   "metadata": {},
   "source": [
    "## Una muy buena sensibilidad "
   ]
  },
  {
   "cell_type": "code",
   "execution_count": 136,
   "metadata": {},
   "outputs": [
    {
     "name": "stdout",
     "output_type": "stream",
     "text": [
      "Especificidad: 0.21407624633431085\n"
     ]
    },
    {
     "data": {
      "application/javascript": [
       "\n",
       "            setTimeout(function() {\n",
       "                var nbb_cell_id = 136;\n",
       "                var nbb_unformatted_code = \"confusion = confusion_matrix(Y, pred_train)\\nVN = confusion[0, 0]\\nFP = confusion[0, 1]\\n\\n# Calcular la especificidad\\nespecificidad = VN / (VN + FP)\\n\\nprint(\\\"Especificidad:\\\", especificidad)\";\n",
       "                var nbb_formatted_code = \"confusion = confusion_matrix(Y, pred_train)\\nVN = confusion[0, 0]\\nFP = confusion[0, 1]\\n\\n# Calcular la especificidad\\nespecificidad = VN / (VN + FP)\\n\\nprint(\\\"Especificidad:\\\", especificidad)\";\n",
       "                var nbb_cells = Jupyter.notebook.get_cells();\n",
       "                for (var i = 0; i < nbb_cells.length; ++i) {\n",
       "                    if (nbb_cells[i].input_prompt_number == nbb_cell_id) {\n",
       "                        if (nbb_cells[i].get_text() == nbb_unformatted_code) {\n",
       "                             nbb_cells[i].set_text(nbb_formatted_code);\n",
       "                        }\n",
       "                        break;\n",
       "                    }\n",
       "                }\n",
       "            }, 500);\n",
       "            "
      ],
      "text/plain": [
       "<IPython.core.display.Javascript object>"
      ]
     },
     "metadata": {},
     "output_type": "display_data"
    }
   ],
   "source": [
    "confusion = confusion_matrix(Y, pred_train)\n",
    "VN = confusion[0, 0]\n",
    "FP = confusion[0, 1]\n",
    "\n",
    "# Calcular la especificidad\n",
    "especificidad = VN / (VN + FP)\n",
    "\n",
    "print(\"Especificidad:\", especificidad)"
   ]
  },
  {
   "cell_type": "markdown",
   "metadata": {},
   "source": [
    "## Una mala especificidad "
   ]
  },
  {
   "cell_type": "markdown",
   "metadata": {
    "id": "B-N94pia65z8"
   },
   "source": [
    "### Revisamos Multicolinealidad"
   ]
  },
  {
   "cell_type": "code",
   "execution_count": 139,
   "metadata": {
    "colab": {
     "base_uri": "https://localhost:8080/",
     "height": 243
    },
    "id": "XTib-iB865z8",
    "outputId": "192c1f02-3751-468b-ffe0-79d0e4a82503"
   },
   "outputs": [
    {
     "name": "stdout",
     "output_type": "stream",
     "text": [
      "VIF values: \n",
      "\n",
      "const                      43.997494\n",
      "Sexo                        1.136491\n",
      "Grupo_horas_efectivas       1.088721\n",
      "Nivel_educativo             1.192944\n",
      "Edad                        1.119075\n",
      "Formalidad_informalidad     1.137304\n",
      "dtype: float64\n",
      "\n"
     ]
    },
    {
     "data": {
      "application/javascript": [
       "\n",
       "            setTimeout(function() {\n",
       "                var nbb_cell_id = 139;\n",
       "                var nbb_unformatted_code = \"# let's check the VIF of the predictors\\nvif_series = pd.Series(\\n    [variance_inflation_factor(X.values, i) for i in range(X.shape[1])],\\n    index=X.columns,\\n    dtype=float,\\n)\\nprint(\\\"VIF values: \\\\n\\\\n{}\\\\n\\\".format(vif_series))\";\n",
       "                var nbb_formatted_code = \"# let's check the VIF of the predictors\\nvif_series = pd.Series(\\n    [variance_inflation_factor(X.values, i) for i in range(X.shape[1])],\\n    index=X.columns,\\n    dtype=float,\\n)\\nprint(\\\"VIF values: \\\\n\\\\n{}\\\\n\\\".format(vif_series))\";\n",
       "                var nbb_cells = Jupyter.notebook.get_cells();\n",
       "                for (var i = 0; i < nbb_cells.length; ++i) {\n",
       "                    if (nbb_cells[i].input_prompt_number == nbb_cell_id) {\n",
       "                        if (nbb_cells[i].get_text() == nbb_unformatted_code) {\n",
       "                             nbb_cells[i].set_text(nbb_formatted_code);\n",
       "                        }\n",
       "                        break;\n",
       "                    }\n",
       "                }\n",
       "            }, 500);\n",
       "            "
      ],
      "text/plain": [
       "<IPython.core.display.Javascript object>"
      ]
     },
     "metadata": {},
     "output_type": "display_data"
    }
   ],
   "source": [
    "# let's check the VIF of the predictors\n",
    "vif_series = pd.Series(\n",
    "    [variance_inflation_factor(X.values, i) for i in range(X.shape[1])],\n",
    "    index=X.columns,\n",
    "    dtype=float,\n",
    ")\n",
    "print(\"VIF values: \\n\\n{}\\n\".format(vif_series))"
   ]
  },
  {
   "cell_type": "markdown",
   "metadata": {
    "id": "PML8wDJj650D"
   },
   "source": [
    "**Odds Ratio de los coeficientes**"
   ]
  },
  {
   "cell_type": "code",
   "execution_count": 140,
   "metadata": {
    "colab": {
     "base_uri": "https://localhost:8080/",
     "height": 81
    },
    "id": "NHV3fVNr650D",
    "outputId": "a9421ce9-0491-49c2-e437-adc692c9baa2"
   },
   "outputs": [
    {
     "data": {
      "text/html": [
       "<div>\n",
       "<style scoped>\n",
       "    .dataframe tbody tr th:only-of-type {\n",
       "        vertical-align: middle;\n",
       "    }\n",
       "\n",
       "    .dataframe tbody tr th {\n",
       "        vertical-align: top;\n",
       "    }\n",
       "\n",
       "    .dataframe thead th {\n",
       "        text-align: right;\n",
       "    }\n",
       "</style>\n",
       "<table border=\"1\" class=\"dataframe\">\n",
       "  <thead>\n",
       "    <tr style=\"text-align: right;\">\n",
       "      <th></th>\n",
       "      <th>const</th>\n",
       "      <th>Sexo</th>\n",
       "      <th>Grupo_horas_efectivas</th>\n",
       "      <th>Nivel_educativo</th>\n",
       "      <th>Edad</th>\n",
       "      <th>Formalidad_informalidad</th>\n",
       "    </tr>\n",
       "  </thead>\n",
       "  <tbody>\n",
       "    <tr>\n",
       "      <th>odds</th>\n",
       "      <td>159.461396</td>\n",
       "      <td>1.74697</td>\n",
       "      <td>1.76219</td>\n",
       "      <td>0.650936</td>\n",
       "      <td>0.971115</td>\n",
       "      <td>0.426865</td>\n",
       "    </tr>\n",
       "  </tbody>\n",
       "</table>\n",
       "</div>"
      ],
      "text/plain": [
       "           const     Sexo  Grupo_horas_efectivas  Nivel_educativo      Edad  \\\n",
       "odds  159.461396  1.74697                1.76219         0.650936  0.971115   \n",
       "\n",
       "      Formalidad_informalidad  \n",
       "odds                 0.426865  "
      ]
     },
     "execution_count": 140,
     "metadata": {},
     "output_type": "execute_result"
    },
    {
     "data": {
      "application/javascript": [
       "\n",
       "            setTimeout(function() {\n",
       "                var nbb_cell_id = 140;\n",
       "                var nbb_unformatted_code = \"# Le sacamos antilogratimo\\nodds = np.exp(lg.params)\\n\\n# Los ponemos en un dataframe\\npd.DataFrame(odds, X.columns, columns=[\\\"odds\\\"]).T\";\n",
       "                var nbb_formatted_code = \"# Le sacamos antilogratimo\\nodds = np.exp(lg.params)\\n\\n# Los ponemos en un dataframe\\npd.DataFrame(odds, X.columns, columns=[\\\"odds\\\"]).T\";\n",
       "                var nbb_cells = Jupyter.notebook.get_cells();\n",
       "                for (var i = 0; i < nbb_cells.length; ++i) {\n",
       "                    if (nbb_cells[i].input_prompt_number == nbb_cell_id) {\n",
       "                        if (nbb_cells[i].get_text() == nbb_unformatted_code) {\n",
       "                             nbb_cells[i].set_text(nbb_formatted_code);\n",
       "                        }\n",
       "                        break;\n",
       "                    }\n",
       "                }\n",
       "            }, 500);\n",
       "            "
      ],
      "text/plain": [
       "<IPython.core.display.Javascript object>"
      ]
     },
     "metadata": {},
     "output_type": "display_data"
    }
   ],
   "source": [
    "# Le sacamos antilogratimo\n",
    "odds = np.exp(lg.params)\n",
    "\n",
    "# Los ponemos en un dataframe\n",
    "pd.DataFrame(odds, X.columns, columns=[\"odds\"]).T"
   ]
  },
  {
   "cell_type": "markdown",
   "metadata": {
    "id": "m6UYy_nD650D"
   },
   "source": [
    "**Percentage change in odds**"
   ]
  },
  {
   "cell_type": "code",
   "execution_count": 141,
   "metadata": {
    "colab": {
     "base_uri": "https://localhost:8080/",
     "height": 81
    },
    "id": "n27evJUL650D",
    "outputId": "885d31e8-2d12-472d-b1f3-09607372faa7"
   },
   "outputs": [
    {
     "data": {
      "text/html": [
       "<div>\n",
       "<style scoped>\n",
       "    .dataframe tbody tr th:only-of-type {\n",
       "        vertical-align: middle;\n",
       "    }\n",
       "\n",
       "    .dataframe tbody tr th {\n",
       "        vertical-align: top;\n",
       "    }\n",
       "\n",
       "    .dataframe thead th {\n",
       "        text-align: right;\n",
       "    }\n",
       "</style>\n",
       "<table border=\"1\" class=\"dataframe\">\n",
       "  <thead>\n",
       "    <tr style=\"text-align: right;\">\n",
       "      <th></th>\n",
       "      <th>const</th>\n",
       "      <th>Sexo</th>\n",
       "      <th>Grupo_horas_efectivas</th>\n",
       "      <th>Nivel_educativo</th>\n",
       "      <th>Edad</th>\n",
       "      <th>Formalidad_informalidad</th>\n",
       "    </tr>\n",
       "  </thead>\n",
       "  <tbody>\n",
       "    <tr>\n",
       "      <th>Cambio% en la razón de probabilidad</th>\n",
       "      <td>15846.139629</td>\n",
       "      <td>74.697037</td>\n",
       "      <td>76.219039</td>\n",
       "      <td>-34.906386</td>\n",
       "      <td>-2.88846</td>\n",
       "      <td>-57.313474</td>\n",
       "    </tr>\n",
       "  </tbody>\n",
       "</table>\n",
       "</div>"
      ],
      "text/plain": [
       "                                            const       Sexo  \\\n",
       "Cambio% en la razón de probabilidad  15846.139629  74.697037   \n",
       "\n",
       "                                     Grupo_horas_efectivas  Nivel_educativo  \\\n",
       "Cambio% en la razón de probabilidad              76.219039       -34.906386   \n",
       "\n",
       "                                        Edad  Formalidad_informalidad  \n",
       "Cambio% en la razón de probabilidad -2.88846               -57.313474  "
      ]
     },
     "execution_count": 141,
     "metadata": {},
     "output_type": "execute_result"
    },
    {
     "data": {
      "application/javascript": [
       "\n",
       "            setTimeout(function() {\n",
       "                var nbb_cell_id = 141;\n",
       "                var nbb_unformatted_code = \"# Lo ponemos en porcentaje\\nperc_change_odds = (np.exp(lg.params) - 1) * 100\\n\\n# Lo ponemos en dataframe\\npd.DataFrame(\\n    perc_change_odds, X.columns, columns=[\\\"Cambio% en la raz\\u00f3n de probabilidad\\\"]\\n).T\";\n",
       "                var nbb_formatted_code = \"# Lo ponemos en porcentaje\\nperc_change_odds = (np.exp(lg.params) - 1) * 100\\n\\n# Lo ponemos en dataframe\\npd.DataFrame(\\n    perc_change_odds, X.columns, columns=[\\\"Cambio% en la raz\\u00f3n de probabilidad\\\"]\\n).T\";\n",
       "                var nbb_cells = Jupyter.notebook.get_cells();\n",
       "                for (var i = 0; i < nbb_cells.length; ++i) {\n",
       "                    if (nbb_cells[i].input_prompt_number == nbb_cell_id) {\n",
       "                        if (nbb_cells[i].get_text() == nbb_unformatted_code) {\n",
       "                             nbb_cells[i].set_text(nbb_formatted_code);\n",
       "                        }\n",
       "                        break;\n",
       "                    }\n",
       "                }\n",
       "            }, 500);\n",
       "            "
      ],
      "text/plain": [
       "<IPython.core.display.Javascript object>"
      ]
     },
     "metadata": {},
     "output_type": "display_data"
    }
   ],
   "source": [
    "# Lo ponemos en porcentaje\n",
    "perc_change_odds = (np.exp(lg.params) - 1) * 100\n",
    "\n",
    "# Lo ponemos en dataframe\n",
    "pd.DataFrame(\n",
    "    perc_change_odds, X.columns, columns=[\"Cambio% en la razón de probabilidad\"]\n",
    ").T"
   ]
  },
  {
   "cell_type": "code",
   "execution_count": 142,
   "metadata": {},
   "outputs": [
    {
     "name": "stdout",
     "output_type": "stream",
     "text": [
      "Como se comporta:\n"
     ]
    },
    {
     "data": {
      "text/html": [
       "<div>\n",
       "<style scoped>\n",
       "    .dataframe tbody tr th:only-of-type {\n",
       "        vertical-align: middle;\n",
       "    }\n",
       "\n",
       "    .dataframe tbody tr th {\n",
       "        vertical-align: top;\n",
       "    }\n",
       "\n",
       "    .dataframe thead th {\n",
       "        text-align: right;\n",
       "    }\n",
       "</style>\n",
       "<table border=\"1\" class=\"dataframe\">\n",
       "  <thead>\n",
       "    <tr style=\"text-align: right;\">\n",
       "      <th></th>\n",
       "      <th>Accuracy</th>\n",
       "      <th>Recall</th>\n",
       "      <th>Precision</th>\n",
       "      <th>F1</th>\n",
       "    </tr>\n",
       "  </thead>\n",
       "  <tbody>\n",
       "    <tr>\n",
       "      <th>0</th>\n",
       "      <td>0.904913</td>\n",
       "      <td>0.951915</td>\n",
       "      <td>0.946815</td>\n",
       "      <td>0.949358</td>\n",
       "    </tr>\n",
       "  </tbody>\n",
       "</table>\n",
       "</div>"
      ],
      "text/plain": [
       "   Accuracy    Recall  Precision        F1\n",
       "0  0.904913  0.951915   0.946815  0.949358"
      ]
     },
     "execution_count": 142,
     "metadata": {},
     "output_type": "execute_result"
    },
    {
     "data": {
      "application/javascript": [
       "\n",
       "            setTimeout(function() {\n",
       "                var nbb_cell_id = 142;\n",
       "                var nbb_unformatted_code = \"Criterios_informaci\\u00f3n = model_performance_classification_statsmodels(\\n    lg, X, Y, threshold=0.81\\n)\\nprint(\\\"Como se comporta:\\\")\\nCriterios_informaci\\u00f3n\";\n",
       "                var nbb_formatted_code = \"Criterios_informaci\\u00f3n = model_performance_classification_statsmodels(\\n    lg, X, Y, threshold=0.81\\n)\\nprint(\\\"Como se comporta:\\\")\\nCriterios_informaci\\u00f3n\";\n",
       "                var nbb_cells = Jupyter.notebook.get_cells();\n",
       "                for (var i = 0; i < nbb_cells.length; ++i) {\n",
       "                    if (nbb_cells[i].input_prompt_number == nbb_cell_id) {\n",
       "                        if (nbb_cells[i].get_text() == nbb_unformatted_code) {\n",
       "                             nbb_cells[i].set_text(nbb_formatted_code);\n",
       "                        }\n",
       "                        break;\n",
       "                    }\n",
       "                }\n",
       "            }, 500);\n",
       "            "
      ],
      "text/plain": [
       "<IPython.core.display.Javascript object>"
      ]
     },
     "metadata": {},
     "output_type": "display_data"
    }
   ],
   "source": [
    "Criterios_información = model_performance_classification_statsmodels(\n",
    "    lg, X, Y, threshold=0.81\n",
    ")\n",
    "print(\"Como se comporta:\")\n",
    "Criterios_información"
   ]
  },
  {
   "cell_type": "code",
   "execution_count": 143,
   "metadata": {},
   "outputs": [
    {
     "data": {
      "image/png": "[encoded data removed]",
      "text/plain": [
       "<Figure size 1600x800 with 1 Axes>"
      ]
     },
     "metadata": {},
     "output_type": "display_data"
    },
    {
     "data": {
      "application/javascript": [
       "\n",
       "            setTimeout(function() {\n",
       "                var nbb_cell_id = 143;\n",
       "                var nbb_unformatted_code = \"df = {\\\"y_real\\\": Y, \\\"y_predicha\\\": pred_train}\\ndf = pd.DataFrame(df)\\n\\n# Crear una figura y ejes para el gr\\u00e1fico\\nfig, ax = plt.subplots(figsize=(16, 8))\\n\\n# Graficar los valores originales vs. los valores predichos\\nax.scatter(df.index, df[\\\"y_real\\\"], color=\\\"red\\\", label=\\\"Real\\\", marker=\\\"o\\\")\\nax.axhline(y=0.81, color=\\\"teal\\\", linestyle=\\\"--\\\", label=\\\"L\\u00ednea Horizontal\\\")\\nax.scatter(df.index, df[\\\"y_predicha\\\"], color=\\\"lightblue\\\", label=\\\"Predicha\\\", marker=\\\"x\\\")\\nax.set_xlabel(\\\"Observaciones\\\")\\nax.set_ylabel(\\\"Valores\\\")\\nax.set_title(\\\"Valores Originales vs. Valores Predichos\\\")\\nax.legend(loc=\\\"best\\\")\\n\\n# Mostrar la figura\\nplt.show()\";\n",
       "                var nbb_formatted_code = \"df = {\\\"y_real\\\": Y, \\\"y_predicha\\\": pred_train}\\ndf = pd.DataFrame(df)\\n\\n# Crear una figura y ejes para el gr\\u00e1fico\\nfig, ax = plt.subplots(figsize=(16, 8))\\n\\n# Graficar los valores originales vs. los valores predichos\\nax.scatter(df.index, df[\\\"y_real\\\"], color=\\\"red\\\", label=\\\"Real\\\", marker=\\\"o\\\")\\nax.axhline(y=0.81, color=\\\"teal\\\", linestyle=\\\"--\\\", label=\\\"L\\u00ednea Horizontal\\\")\\nax.scatter(df.index, df[\\\"y_predicha\\\"], color=\\\"lightblue\\\", label=\\\"Predicha\\\", marker=\\\"x\\\")\\nax.set_xlabel(\\\"Observaciones\\\")\\nax.set_ylabel(\\\"Valores\\\")\\nax.set_title(\\\"Valores Originales vs. Valores Predichos\\\")\\nax.legend(loc=\\\"best\\\")\\n\\n# Mostrar la figura\\nplt.show()\";\n",
       "                var nbb_cells = Jupyter.notebook.get_cells();\n",
       "                for (var i = 0; i < nbb_cells.length; ++i) {\n",
       "                    if (nbb_cells[i].input_prompt_number == nbb_cell_id) {\n",
       "                        if (nbb_cells[i].get_text() == nbb_unformatted_code) {\n",
       "                             nbb_cells[i].set_text(nbb_formatted_code);\n",
       "                        }\n",
       "                        break;\n",
       "                    }\n",
       "                }\n",
       "            }, 500);\n",
       "            "
      ],
      "text/plain": [
       "<IPython.core.display.Javascript object>"
      ]
     },
     "metadata": {},
     "output_type": "display_data"
    }
   ],
   "source": [
    "df = {\"y_real\": Y, \"y_predicha\": pred_train}\n",
    "df = pd.DataFrame(df)\n",
    "\n",
    "# Crear una figura y ejes para el gráfico\n",
    "fig, ax = plt.subplots(figsize=(16, 8))\n",
    "\n",
    "# Graficar los valores originales vs. los valores predichos\n",
    "ax.scatter(df.index, df[\"y_real\"], color=\"red\", label=\"Real\", marker=\"o\")\n",
    "ax.axhline(y=0.81, color=\"teal\", linestyle=\"--\", label=\"Línea Horizontal\")\n",
    "ax.scatter(df.index, df[\"y_predicha\"], color=\"lightblue\", label=\"Predicha\", marker=\"x\")\n",
    "ax.set_xlabel(\"Observaciones\")\n",
    "ax.set_ylabel(\"Valores\")\n",
    "ax.set_title(\"Valores Originales vs. Valores Predichos\")\n",
    "ax.legend(loc=\"best\")\n",
    "\n",
    "# Mostrar la figura\n",
    "plt.show()"
   ]
  }
 ],
 "metadata": {
  "colab": {
   "name": "Logistic_regression.ipynb",
   "provenance": []
  },
  "kernelspec": {
   "display_name": "Python 3 (ipykernel)",
   "language": "python",
   "name": "python3"
  },
  "language_info": {
   "codemirror_mode": {
    "name": "ipython",
    "version": 3
   },
   "file_extension": ".py",
   "mimetype": "text/x-python",
   "name": "python",
   "nbconvert_exporter": "python",
   "pygments_lexer": "ipython3",
   "version": "3.9.16"
  }
 },
 "nbformat": 4,
 "nbformat_minor": 1
}
